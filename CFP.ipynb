{
 "cells": [
  {
   "cell_type": "markdown",
   "metadata": {},
   "source": [
    "Cab Fare Prediction"
   ]
  },
  {
   "cell_type": "markdown",
   "metadata": {},
   "source": [
    "
Objective:
You are a cab rental start-up company. You have successfully run the pilot project and now want to launch your cab service across the country. You have collected the historical data from your pilot project and now have a requirement to apply analytics for fare prediction. You need to design a system that predicts the fare amount for a cab ride in the city."
   ]
  },
  {
   "cell_type": "markdown",
   "metadata": {},
   "source": [
    "*Importing libraries*"
   ]
  },
  {
   "cell_type": "code",
   "execution_count": 168,
   "metadata": {},
   "outputs": [],
   "source": [
    "import numpy as np\n",
    "import pandas as pd\n",
    "import matplotlib.pyplot as plt\n",
    "import seaborn as sns\n",
    "import os\n",
    "from sklearn.model_selection import train_test_split\n",
    "from sklearn.metrics import mean_squared_error"
   ]
  },
  {
   "cell_type": "markdown",
   "metadata": {},
   "source": [
    "Loading the daatsets"
   ]
  },
  {
   "cell_type": "code",
   "execution_count": 2,
   "metadata": {},
   "outputs": [],
   "source": [
    "data1=pd.read_csv(r\"C:/Users/.hp/Desktop/EdWisor/Datasets/CFD_train_short.csv\",sep=\",\")\n"
   ]
  },
  {
   "cell_type": "code",
   "execution_count": 3,
   "metadata": {},
   "outputs": [
    {
     "data": {
      "text/plain": [
       "(810, 9)"
      ]
     },
     "execution_count": 3,
     "metadata": {},
     "output_type": "execute_result"
    }
   ],
   "source": [
    "data1.shape\n"
   ]
  },
  {
   "cell_type": "code",
   "execution_count": 4,
   "metadata": {},
   "outputs": [
    {
     "name": "stdout",
     "output_type": "stream",
     "text": [
      "<class 'pandas.core.frame.DataFrame'>\n",
      "RangeIndex: 810 entries, 0 to 809\n",
      "Data columns (total 9 columns):\n",
      "Unnamed: 0           810 non-null int64\n",
      "key                  810 non-null object\n",
      "fare_amount          810 non-null float64\n",
      "pickup_datetime      810 non-null object\n",
      "pickup_longitude     810 non-null float64\n",
      "pickup_latitude      810 non-null float64\n",
      "dropoff_longitude    810 non-null float64\n",
      "dropoff_latitude     810 non-null float64\n",
      "passenger_count      810 non-null int64\n",
      "dtypes: float64(5), int64(2), object(2)\n",
      "memory usage: 57.0+ KB\n"
     ]
    }
   ],
   "source": [
    "data1.info()"
   ]
  },
  {
   "cell_type": "markdown",
   "metadata": {},
   "source": [
    "#since dataset is 5crore strong, need to pick sample and work on them."
   ]
  },
  {
   "cell_type": "code",
   "execution_count": 5,
   "metadata": {},
   "outputs": [
    {
     "data": {
      "text/html": [
       "<div>\n",
       "<style scoped>\n",
       "    .dataframe tbody tr th:only-of-type {\n",
       "        vertical-align: middle;\n",
       "    }\n",
       "\n",
       "    .dataframe tbody tr th {\n",
       "        vertical-align: top;\n",
       "    }\n",
       "\n",
       "    .dataframe thead th {\n",
       "        text-align: right;\n",
       "    }\n",
       "</style>\n",
       "<table border=\"1\" class=\"dataframe\">\n",
       "  <thead>\n",
       "    <tr style=\"text-align: right;\">\n",
       "      <th></th>\n",
       "      <th>Unnamed: 0</th>\n",
       "      <th>fare_amount</th>\n",
       "      <th>pickup_longitude</th>\n",
       "      <th>pickup_latitude</th>\n",
       "      <th>dropoff_longitude</th>\n",
       "      <th>dropoff_latitude</th>\n",
       "      <th>passenger_count</th>\n",
       "    </tr>\n",
       "  </thead>\n",
       "  <tbody>\n",
       "    <tr>\n",
       "      <th>count</th>\n",
       "      <td>8.100000e+02</td>\n",
       "      <td>810.000000</td>\n",
       "      <td>810.000000</td>\n",
       "      <td>810.000000</td>\n",
       "      <td>810.000000</td>\n",
       "      <td>810.000000</td>\n",
       "      <td>810.000000</td>\n",
       "    </tr>\n",
       "    <tr>\n",
       "      <th>mean</th>\n",
       "      <td>2.760965e+07</td>\n",
       "      <td>9.271074</td>\n",
       "      <td>-72.701715</td>\n",
       "      <td>40.047628</td>\n",
       "      <td>-72.790950</td>\n",
       "      <td>40.097851</td>\n",
       "      <td>1.256790</td>\n",
       "    </tr>\n",
       "    <tr>\n",
       "      <th>std</th>\n",
       "      <td>1.606142e+07</td>\n",
       "      <td>4.605408</td>\n",
       "      <td>9.647643</td>\n",
       "      <td>5.314424</td>\n",
       "      <td>9.302281</td>\n",
       "      <td>5.124330</td>\n",
       "      <td>0.545334</td>\n",
       "    </tr>\n",
       "    <tr>\n",
       "      <th>min</th>\n",
       "      <td>1.563500e+04</td>\n",
       "      <td>-4.000000</td>\n",
       "      <td>-74.025572</td>\n",
       "      <td>0.000000</td>\n",
       "      <td>-74.027105</td>\n",
       "      <td>0.000000</td>\n",
       "      <td>0.000000</td>\n",
       "    </tr>\n",
       "    <tr>\n",
       "      <th>25%</th>\n",
       "      <td>1.352030e+07</td>\n",
       "      <td>6.000000</td>\n",
       "      <td>-73.991475</td>\n",
       "      <td>40.735432</td>\n",
       "      <td>-73.991689</td>\n",
       "      <td>40.735704</td>\n",
       "      <td>1.000000</td>\n",
       "    </tr>\n",
       "    <tr>\n",
       "      <th>50%</th>\n",
       "      <td>2.861932e+07</td>\n",
       "      <td>8.100000</td>\n",
       "      <td>-73.981965</td>\n",
       "      <td>40.753716</td>\n",
       "      <td>-73.980215</td>\n",
       "      <td>40.752475</td>\n",
       "      <td>1.000000</td>\n",
       "    </tr>\n",
       "    <tr>\n",
       "      <th>75%</th>\n",
       "      <td>4.137041e+07</td>\n",
       "      <td>11.700000</td>\n",
       "      <td>-73.969104</td>\n",
       "      <td>40.765276</td>\n",
       "      <td>-73.967623</td>\n",
       "      <td>40.765806</td>\n",
       "      <td>1.000000</td>\n",
       "    </tr>\n",
       "    <tr>\n",
       "      <th>max</th>\n",
       "      <td>5.530134e+07</td>\n",
       "      <td>23.500000</td>\n",
       "      <td>0.000000</td>\n",
       "      <td>40.829948</td>\n",
       "      <td>0.000030</td>\n",
       "      <td>40.865128</td>\n",
       "      <td>3.000000</td>\n",
       "    </tr>\n",
       "  </tbody>\n",
       "</table>\n",
       "</div>"
      ],
      "text/plain": [
       "         Unnamed: 0  fare_amount  pickup_longitude  pickup_latitude  \\\n",
       "count  8.100000e+02   810.000000        810.000000       810.000000   \n",
       "mean   2.760965e+07     9.271074        -72.701715        40.047628   \n",
       "std    1.606142e+07     4.605408          9.647643         5.314424   \n",
       "min    1.563500e+04    -4.000000        -74.025572         0.000000   \n",
       "25%    1.352030e+07     6.000000        -73.991475        40.735432   \n",
       "50%    2.861932e+07     8.100000        -73.981965        40.753716   \n",
       "75%    4.137041e+07    11.700000        -73.969104        40.765276   \n",
       "max    5.530134e+07    23.500000          0.000000        40.829948   \n",
       "\n",
       "       dropoff_longitude  dropoff_latitude  passenger_count  \n",
       "count         810.000000        810.000000       810.000000  \n",
       "mean          -72.790950         40.097851         1.256790  \n",
       "std             9.302281          5.124330         0.545334  \n",
       "min           -74.027105          0.000000         0.000000  \n",
       "25%           -73.991689         40.735704         1.000000  \n",
       "50%           -73.980215         40.752475         1.000000  \n",
       "75%           -73.967623         40.765806         1.000000  \n",
       "max             0.000030         40.865128         3.000000  "
      ]
     },
     "execution_count": 5,
     "metadata": {},
     "output_type": "execute_result"
    }
   ],
   "source": [
    "data1.describe()"
   ]
  },
  {
   "cell_type": "code",
   "execution_count": 6,
   "metadata": {},
   "outputs": [],
   "source": [
    "data_new=data1.sample(800)"
   ]
  },
  {
   "cell_type": "code",
   "execution_count": 7,
   "metadata": {},
   "outputs": [],
   "source": [
    "data_new.to_csv(r\"C:\\Users\\.hp\\Desktop\\EdWisor\\CFD_train_short.csv\",header=True)"
   ]
  },
  {
   "cell_type": "code",
   "execution_count": 8,
   "metadata": {},
   "outputs": [
    {
     "data": {
      "text/plain": [
       "(800, 9)"
      ]
     },
     "execution_count": 8,
     "metadata": {},
     "output_type": "execute_result"
    }
   ],
   "source": [
    "data_new.shape"
   ]
  },
  {
   "cell_type": "markdown",
   "metadata": {},
   "source": [
    "MISSING VALUE ANALYSIS"
   ]
  },
  {
   "cell_type": "code",
   "execution_count": 9,
   "metadata": {},
   "outputs": [
    {
     "data": {
      "text/plain": [
       "Unnamed: 0           0\n",
       "key                  0\n",
       "fare_amount          0\n",
       "pickup_datetime      0\n",
       "pickup_longitude     0\n",
       "pickup_latitude      0\n",
       "dropoff_longitude    0\n",
       "dropoff_latitude     0\n",
       "passenger_count      0\n",
       "dtype: int64"
      ]
     },
     "execution_count": 9,
     "metadata": {},
     "output_type": "execute_result"
    }
   ],
   "source": [
    "data_new.isnull().sum()"
   ]
  },
  {
   "cell_type": "code",
   "execution_count": 10,
   "metadata": {},
   "outputs": [
    {
     "data": {
      "text/html": [
       "<div>\n",
       "<style scoped>\n",
       "    .dataframe tbody tr th:only-of-type {\n",
       "        vertical-align: middle;\n",
       "    }\n",
       "\n",
       "    .dataframe tbody tr th {\n",
       "        vertical-align: top;\n",
       "    }\n",
       "\n",
       "    .dataframe thead th {\n",
       "        text-align: right;\n",
       "    }\n",
       "</style>\n",
       "<table border=\"1\" class=\"dataframe\">\n",
       "  <thead>\n",
       "    <tr style=\"text-align: right;\">\n",
       "      <th></th>\n",
       "      <th>index</th>\n",
       "      <th>0</th>\n",
       "    </tr>\n",
       "  </thead>\n",
       "  <tbody>\n",
       "    <tr>\n",
       "      <th>0</th>\n",
       "      <td>Unnamed: 0</td>\n",
       "      <td>0</td>\n",
       "    </tr>\n",
       "    <tr>\n",
       "      <th>1</th>\n",
       "      <td>key</td>\n",
       "      <td>0</td>\n",
       "    </tr>\n",
       "    <tr>\n",
       "      <th>2</th>\n",
       "      <td>fare_amount</td>\n",
       "      <td>0</td>\n",
       "    </tr>\n",
       "    <tr>\n",
       "      <th>3</th>\n",
       "      <td>pickup_datetime</td>\n",
       "      <td>0</td>\n",
       "    </tr>\n",
       "    <tr>\n",
       "      <th>4</th>\n",
       "      <td>pickup_longitude</td>\n",
       "      <td>0</td>\n",
       "    </tr>\n",
       "    <tr>\n",
       "      <th>5</th>\n",
       "      <td>pickup_latitude</td>\n",
       "      <td>0</td>\n",
       "    </tr>\n",
       "    <tr>\n",
       "      <th>6</th>\n",
       "      <td>dropoff_longitude</td>\n",
       "      <td>0</td>\n",
       "    </tr>\n",
       "    <tr>\n",
       "      <th>7</th>\n",
       "      <td>dropoff_latitude</td>\n",
       "      <td>0</td>\n",
       "    </tr>\n",
       "    <tr>\n",
       "      <th>8</th>\n",
       "      <td>passenger_count</td>\n",
       "      <td>0</td>\n",
       "    </tr>\n",
       "  </tbody>\n",
       "</table>\n",
       "</div>"
      ],
      "text/plain": [
       "               index  0\n",
       "0         Unnamed: 0  0\n",
       "1                key  0\n",
       "2        fare_amount  0\n",
       "3    pickup_datetime  0\n",
       "4   pickup_longitude  0\n",
       "5    pickup_latitude  0\n",
       "6  dropoff_longitude  0\n",
       "7   dropoff_latitude  0\n",
       "8    passenger_count  0"
      ]
     },
     "execution_count": 10,
     "metadata": {},
     "output_type": "execute_result"
    }
   ],
   "source": [
    "missing_val1=pd.DataFrame(data_new.isnull().sum())\n",
    "missing_val1.reset_index()"
   ]
  },
  {
   "cell_type": "code",
   "execution_count": 11,
   "metadata": {},
   "outputs": [],
   "source": [
    "missing_val1=missing_val1.rename(columns={'index':'variables',0:'Missing Value Percentages'})"
   ]
  },
  {
   "cell_type": "code",
   "execution_count": 12,
   "metadata": {},
   "outputs": [
    {
     "data": {
      "text/html": [
       "<div>\n",
       "<style scoped>\n",
       "    .dataframe tbody tr th:only-of-type {\n",
       "        vertical-align: middle;\n",
       "    }\n",
       "\n",
       "    .dataframe tbody tr th {\n",
       "        vertical-align: top;\n",
       "    }\n",
       "\n",
       "    .dataframe thead th {\n",
       "        text-align: right;\n",
       "    }\n",
       "</style>\n",
       "<table border=\"1\" class=\"dataframe\">\n",
       "  <thead>\n",
       "    <tr style=\"text-align: right;\">\n",
       "      <th></th>\n",
       "      <th>Missing Value Percentages</th>\n",
       "    </tr>\n",
       "  </thead>\n",
       "  <tbody>\n",
       "    <tr>\n",
       "      <th>Unnamed: 0</th>\n",
       "      <td>0</td>\n",
       "    </tr>\n",
       "    <tr>\n",
       "      <th>key</th>\n",
       "      <td>0</td>\n",
       "    </tr>\n",
       "    <tr>\n",
       "      <th>fare_amount</th>\n",
       "      <td>0</td>\n",
       "    </tr>\n",
       "    <tr>\n",
       "      <th>pickup_datetime</th>\n",
       "      <td>0</td>\n",
       "    </tr>\n",
       "    <tr>\n",
       "      <th>pickup_longitude</th>\n",
       "      <td>0</td>\n",
       "    </tr>\n",
       "    <tr>\n",
       "      <th>pickup_latitude</th>\n",
       "      <td>0</td>\n",
       "    </tr>\n",
       "    <tr>\n",
       "      <th>dropoff_longitude</th>\n",
       "      <td>0</td>\n",
       "    </tr>\n",
       "    <tr>\n",
       "      <th>dropoff_latitude</th>\n",
       "      <td>0</td>\n",
       "    </tr>\n",
       "    <tr>\n",
       "      <th>passenger_count</th>\n",
       "      <td>0</td>\n",
       "    </tr>\n",
       "  </tbody>\n",
       "</table>\n",
       "</div>"
      ],
      "text/plain": [
       "                   Missing Value Percentages\n",
       "Unnamed: 0                                 0\n",
       "key                                        0\n",
       "fare_amount                                0\n",
       "pickup_datetime                            0\n",
       "pickup_longitude                           0\n",
       "pickup_latitude                            0\n",
       "dropoff_longitude                          0\n",
       "dropoff_latitude                           0\n",
       "passenger_count                            0"
      ]
     },
     "execution_count": 12,
     "metadata": {},
     "output_type": "execute_result"
    }
   ],
   "source": [
    "missing_val1"
   ]
  },
  {
   "cell_type": "code",
   "execution_count": 13,
   "metadata": {},
   "outputs": [],
   "source": [
    "lis=[]"
   ]
  },
  {
   "cell_type": "code",
   "execution_count": 14,
   "metadata": {},
   "outputs": [],
   "source": [
    "#for i in range(0,data_new.shape[1]):\n",
    "    #if (data_new.iloc[:,i].dtypes=='object'):\n",
    "        #data_new.iloc[:,i]=pd.Categorical(data_new.iloc[:,i])\n",
    "        #data_new.iloc[:,i]=data_new.iloc[:,1].cat.codes\n",
    "        #data_new.iloc[:,i]=data_new.iloc[:,i].astype('object')\n",
    "        #lis.append(data_new.columns[i])\n",
    "        "
   ]
  },
  {
   "cell_type": "markdown",
   "metadata": {},
   "source": [
    "OUTLIER ANALYSIS"
   ]
  },
  {
   "cell_type": "code",
   "execution_count": 15,
   "metadata": {},
   "outputs": [
    {
     "data": {
      "text/plain": [
       "['fare_amount', 'passenger_count']"
      ]
     },
     "execution_count": 15,
     "metadata": {},
     "output_type": "execute_result"
    }
   ],
   "source": [
    "c=['fare_amount','passenger_count']\n",
    "c"
   ]
  },
  {
   "cell_type": "code",
   "execution_count": 16,
   "metadata": {},
   "outputs": [],
   "source": [
    "for i in c: \n",
    "    q75,q25=np.percentile(data_new.loc[:,i],[75,25])\n",
    "    iqr=q75-q25\n",
    "    lw_f=q25-(iqr*1.5)\n",
    "    upr_f=q75+(iqr*1.5)\n",
    "    data_new=data_new.drop(data_new[data_new.loc[:,i]<lw_f].index)\n",
    "    data_new=data_new.drop(data_new[data_new.loc[:,i]>upr_f].index)"
   ]
  },
  {
   "cell_type": "code",
   "execution_count": 17,
   "metadata": {},
   "outputs": [
    {
     "data": {
      "text/plain": [
       "(603, 9)"
      ]
     },
     "execution_count": 17,
     "metadata": {},
     "output_type": "execute_result"
    }
   ],
   "source": [
    "data_new.shape"
   ]
  },
  {
   "cell_type": "code",
   "execution_count": 18,
   "metadata": {},
   "outputs": [
    {
     "data": {
      "text/html": [
       "<div>\n",
       "<style scoped>\n",
       "    .dataframe tbody tr th:only-of-type {\n",
       "        vertical-align: middle;\n",
       "    }\n",
       "\n",
       "    .dataframe tbody tr th {\n",
       "        vertical-align: top;\n",
       "    }\n",
       "\n",
       "    .dataframe thead th {\n",
       "        text-align: right;\n",
       "    }\n",
       "</style>\n",
       "<table border=\"1\" class=\"dataframe\">\n",
       "  <thead>\n",
       "    <tr style=\"text-align: right;\">\n",
       "      <th></th>\n",
       "      <th>Unnamed: 0</th>\n",
       "      <th>key</th>\n",
       "      <th>fare_amount</th>\n",
       "      <th>pickup_datetime</th>\n",
       "      <th>pickup_longitude</th>\n",
       "      <th>pickup_latitude</th>\n",
       "      <th>dropoff_longitude</th>\n",
       "      <th>dropoff_latitude</th>\n",
       "      <th>passenger_count</th>\n",
       "    </tr>\n",
       "  </thead>\n",
       "  <tbody>\n",
       "    <tr>\n",
       "      <th>402</th>\n",
       "      <td>14481244</td>\n",
       "      <td>2009-02-16 22:22:00.00000055</td>\n",
       "      <td>4.9</td>\n",
       "      <td>2009-02-16 22:22:00 UTC</td>\n",
       "      <td>-73.990863</td>\n",
       "      <td>40.734183</td>\n",
       "      <td>-73.979647</td>\n",
       "      <td>40.733317</td>\n",
       "      <td>1</td>\n",
       "    </tr>\n",
       "    <tr>\n",
       "      <th>306</th>\n",
       "      <td>45753575</td>\n",
       "      <td>2014-10-27 13:02:29.0000002</td>\n",
       "      <td>8.0</td>\n",
       "      <td>2014-10-27 13:02:29 UTC</td>\n",
       "      <td>-73.984015</td>\n",
       "      <td>40.768056</td>\n",
       "      <td>-73.969524</td>\n",
       "      <td>40.762738</td>\n",
       "      <td>1</td>\n",
       "    </tr>\n",
       "    <tr>\n",
       "      <th>779</th>\n",
       "      <td>27600988</td>\n",
       "      <td>2013-11-21 10:48:00.000000140</td>\n",
       "      <td>12.5</td>\n",
       "      <td>2013-11-21 10:48:00 UTC</td>\n",
       "      <td>-73.986462</td>\n",
       "      <td>40.767072</td>\n",
       "      <td>-73.994782</td>\n",
       "      <td>40.741180</td>\n",
       "      <td>1</td>\n",
       "    </tr>\n",
       "    <tr>\n",
       "      <th>677</th>\n",
       "      <td>12807424</td>\n",
       "      <td>2012-01-17 02:39:00.00000017</td>\n",
       "      <td>18.5</td>\n",
       "      <td>2012-01-17 02:39:00 UTC</td>\n",
       "      <td>-73.974885</td>\n",
       "      <td>40.741945</td>\n",
       "      <td>-73.939910</td>\n",
       "      <td>40.832712</td>\n",
       "      <td>1</td>\n",
       "    </tr>\n",
       "    <tr>\n",
       "      <th>566</th>\n",
       "      <td>11353682</td>\n",
       "      <td>2014-05-12 18:18:00.00000035</td>\n",
       "      <td>3.5</td>\n",
       "      <td>2014-05-12 18:18:00 UTC</td>\n",
       "      <td>-73.957238</td>\n",
       "      <td>40.774432</td>\n",
       "      <td>-73.953425</td>\n",
       "      <td>40.778502</td>\n",
       "      <td>1</td>\n",
       "    </tr>\n",
       "    <tr>\n",
       "      <th>4</th>\n",
       "      <td>724965</td>\n",
       "      <td>2013-04-03 11:11:00.00000036</td>\n",
       "      <td>5.5</td>\n",
       "      <td>2013-04-03 11:11:00 UTC</td>\n",
       "      <td>-74.005197</td>\n",
       "      <td>40.740512</td>\n",
       "      <td>-74.005500</td>\n",
       "      <td>40.726662</td>\n",
       "      <td>1</td>\n",
       "    </tr>\n",
       "    <tr>\n",
       "      <th>575</th>\n",
       "      <td>7248437</td>\n",
       "      <td>2009-05-27 13:52:00.000000163</td>\n",
       "      <td>6.5</td>\n",
       "      <td>2009-05-27 13:52:00 UTC</td>\n",
       "      <td>-74.007178</td>\n",
       "      <td>40.728327</td>\n",
       "      <td>-74.008308</td>\n",
       "      <td>40.711638</td>\n",
       "      <td>1</td>\n",
       "    </tr>\n",
       "    <tr>\n",
       "      <th>372</th>\n",
       "      <td>36074866</td>\n",
       "      <td>2012-03-08 07:58:14.0000004</td>\n",
       "      <td>6.1</td>\n",
       "      <td>2012-03-08 07:58:14 UTC</td>\n",
       "      <td>-73.980690</td>\n",
       "      <td>40.738425</td>\n",
       "      <td>-73.973226</td>\n",
       "      <td>40.754832</td>\n",
       "      <td>1</td>\n",
       "    </tr>\n",
       "    <tr>\n",
       "      <th>146</th>\n",
       "      <td>46787179</td>\n",
       "      <td>2013-06-29 11:24:39.0000001</td>\n",
       "      <td>9.0</td>\n",
       "      <td>2013-06-29 11:24:39 UTC</td>\n",
       "      <td>-73.984735</td>\n",
       "      <td>40.762618</td>\n",
       "      <td>-73.974370</td>\n",
       "      <td>40.765287</td>\n",
       "      <td>1</td>\n",
       "    </tr>\n",
       "    <tr>\n",
       "      <th>650</th>\n",
       "      <td>40539687</td>\n",
       "      <td>2010-05-16 07:56:00.0000001</td>\n",
       "      <td>6.1</td>\n",
       "      <td>2010-05-16 07:56:00 UTC</td>\n",
       "      <td>-73.977673</td>\n",
       "      <td>40.750232</td>\n",
       "      <td>-73.987870</td>\n",
       "      <td>40.749423</td>\n",
       "      <td>1</td>\n",
       "    </tr>\n",
       "  </tbody>\n",
       "</table>\n",
       "</div>"
      ],
      "text/plain": [
       "     Unnamed: 0                            key  fare_amount  \\\n",
       "402    14481244   2009-02-16 22:22:00.00000055          4.9   \n",
       "306    45753575    2014-10-27 13:02:29.0000002          8.0   \n",
       "779    27600988  2013-11-21 10:48:00.000000140         12.5   \n",
       "677    12807424   2012-01-17 02:39:00.00000017         18.5   \n",
       "566    11353682   2014-05-12 18:18:00.00000035          3.5   \n",
       "4        724965   2013-04-03 11:11:00.00000036          5.5   \n",
       "575     7248437  2009-05-27 13:52:00.000000163          6.5   \n",
       "372    36074866    2012-03-08 07:58:14.0000004          6.1   \n",
       "146    46787179    2013-06-29 11:24:39.0000001          9.0   \n",
       "650    40539687    2010-05-16 07:56:00.0000001          6.1   \n",
       "\n",
       "             pickup_datetime  pickup_longitude  pickup_latitude  \\\n",
       "402  2009-02-16 22:22:00 UTC        -73.990863        40.734183   \n",
       "306  2014-10-27 13:02:29 UTC        -73.984015        40.768056   \n",
       "779  2013-11-21 10:48:00 UTC        -73.986462        40.767072   \n",
       "677  2012-01-17 02:39:00 UTC        -73.974885        40.741945   \n",
       "566  2014-05-12 18:18:00 UTC        -73.957238        40.774432   \n",
       "4    2013-04-03 11:11:00 UTC        -74.005197        40.740512   \n",
       "575  2009-05-27 13:52:00 UTC        -74.007178        40.728327   \n",
       "372  2012-03-08 07:58:14 UTC        -73.980690        40.738425   \n",
       "146  2013-06-29 11:24:39 UTC        -73.984735        40.762618   \n",
       "650  2010-05-16 07:56:00 UTC        -73.977673        40.750232   \n",
       "\n",
       "     dropoff_longitude  dropoff_latitude  passenger_count  \n",
       "402         -73.979647         40.733317                1  \n",
       "306         -73.969524         40.762738                1  \n",
       "779         -73.994782         40.741180                1  \n",
       "677         -73.939910         40.832712                1  \n",
       "566         -73.953425         40.778502                1  \n",
       "4           -74.005500         40.726662                1  \n",
       "575         -74.008308         40.711638                1  \n",
       "372         -73.973226         40.754832                1  \n",
       "146         -73.974370         40.765287                1  \n",
       "650         -73.987870         40.749423                1  "
      ]
     },
     "execution_count": 18,
     "metadata": {},
     "output_type": "execute_result"
    }
   ],
   "source": [
    "data_new.head(10)"
   ]
  },
  {
   "cell_type": "markdown",
   "metadata": {},
   "source": [
    "FEATURE SELECTION"
   ]
  },
  {
   "cell_type": "markdown",
   "metadata": {},
   "source": [
    "Collinearity test: VIF"
   ]
  },
  {
   "cell_type": "code",
   "execution_count": 19,
   "metadata": {},
   "outputs": [
    {
     "data": {
      "text/html": [
       "<div>\n",
       "<style scoped>\n",
       "    .dataframe tbody tr th:only-of-type {\n",
       "        vertical-align: middle;\n",
       "    }\n",
       "\n",
       "    .dataframe tbody tr th {\n",
       "        vertical-align: top;\n",
       "    }\n",
       "\n",
       "    .dataframe thead th {\n",
       "        text-align: right;\n",
       "    }\n",
       "</style>\n",
       "<table border=\"1\" class=\"dataframe\">\n",
       "  <thead>\n",
       "    <tr style=\"text-align: right;\">\n",
       "      <th></th>\n",
       "      <th>Unnamed: 0</th>\n",
       "      <th>key</th>\n",
       "      <th>fare_amount</th>\n",
       "      <th>pickup_datetime</th>\n",
       "      <th>pickup_longitude</th>\n",
       "      <th>pickup_latitude</th>\n",
       "      <th>dropoff_longitude</th>\n",
       "      <th>dropoff_latitude</th>\n",
       "      <th>passenger_count</th>\n",
       "    </tr>\n",
       "  </thead>\n",
       "  <tbody>\n",
       "    <tr>\n",
       "      <th>402</th>\n",
       "      <td>14481244</td>\n",
       "      <td>2009-02-16 22:22:00.00000055</td>\n",
       "      <td>4.9</td>\n",
       "      <td>2009-02-16 22:22:00 UTC</td>\n",
       "      <td>-73.990863</td>\n",
       "      <td>40.734183</td>\n",
       "      <td>-73.979647</td>\n",
       "      <td>40.733317</td>\n",
       "      <td>1</td>\n",
       "    </tr>\n",
       "    <tr>\n",
       "      <th>306</th>\n",
       "      <td>45753575</td>\n",
       "      <td>2014-10-27 13:02:29.0000002</td>\n",
       "      <td>8.0</td>\n",
       "      <td>2014-10-27 13:02:29 UTC</td>\n",
       "      <td>-73.984015</td>\n",
       "      <td>40.768056</td>\n",
       "      <td>-73.969524</td>\n",
       "      <td>40.762738</td>\n",
       "      <td>1</td>\n",
       "    </tr>\n",
       "    <tr>\n",
       "      <th>779</th>\n",
       "      <td>27600988</td>\n",
       "      <td>2013-11-21 10:48:00.000000140</td>\n",
       "      <td>12.5</td>\n",
       "      <td>2013-11-21 10:48:00 UTC</td>\n",
       "      <td>-73.986462</td>\n",
       "      <td>40.767072</td>\n",
       "      <td>-73.994782</td>\n",
       "      <td>40.741180</td>\n",
       "      <td>1</td>\n",
       "    </tr>\n",
       "    <tr>\n",
       "      <th>677</th>\n",
       "      <td>12807424</td>\n",
       "      <td>2012-01-17 02:39:00.00000017</td>\n",
       "      <td>18.5</td>\n",
       "      <td>2012-01-17 02:39:00 UTC</td>\n",
       "      <td>-73.974885</td>\n",
       "      <td>40.741945</td>\n",
       "      <td>-73.939910</td>\n",
       "      <td>40.832712</td>\n",
       "      <td>1</td>\n",
       "    </tr>\n",
       "    <tr>\n",
       "      <th>566</th>\n",
       "      <td>11353682</td>\n",
       "      <td>2014-05-12 18:18:00.00000035</td>\n",
       "      <td>3.5</td>\n",
       "      <td>2014-05-12 18:18:00 UTC</td>\n",
       "      <td>-73.957238</td>\n",
       "      <td>40.774432</td>\n",
       "      <td>-73.953425</td>\n",
       "      <td>40.778502</td>\n",
       "      <td>1</td>\n",
       "    </tr>\n",
       "  </tbody>\n",
       "</table>\n",
       "</div>"
      ],
      "text/plain": [
       "     Unnamed: 0                            key  fare_amount  \\\n",
       "402    14481244   2009-02-16 22:22:00.00000055          4.9   \n",
       "306    45753575    2014-10-27 13:02:29.0000002          8.0   \n",
       "779    27600988  2013-11-21 10:48:00.000000140         12.5   \n",
       "677    12807424   2012-01-17 02:39:00.00000017         18.5   \n",
       "566    11353682   2014-05-12 18:18:00.00000035          3.5   \n",
       "\n",
       "             pickup_datetime  pickup_longitude  pickup_latitude  \\\n",
       "402  2009-02-16 22:22:00 UTC        -73.990863        40.734183   \n",
       "306  2014-10-27 13:02:29 UTC        -73.984015        40.768056   \n",
       "779  2013-11-21 10:48:00 UTC        -73.986462        40.767072   \n",
       "677  2012-01-17 02:39:00 UTC        -73.974885        40.741945   \n",
       "566  2014-05-12 18:18:00 UTC        -73.957238        40.774432   \n",
       "\n",
       "     dropoff_longitude  dropoff_latitude  passenger_count  \n",
       "402         -73.979647         40.733317                1  \n",
       "306         -73.969524         40.762738                1  \n",
       "779         -73.994782         40.741180                1  \n",
       "677         -73.939910         40.832712                1  \n",
       "566         -73.953425         40.778502                1  "
      ]
     },
     "execution_count": 19,
     "metadata": {},
     "output_type": "execute_result"
    }
   ],
   "source": [
    "data_new.head()"
   ]
  },
  {
   "cell_type": "code",
   "execution_count": 20,
   "metadata": {},
   "outputs": [],
   "source": [
    "from statsmodels.stats.outliers_influence import variance_inflation_factor"
   ]
  },
  {
   "cell_type": "code",
   "execution_count": 21,
   "metadata": {},
   "outputs": [
    {
     "name": "stdout",
     "output_type": "stream",
     "text": [
      "     fare_amount  pickup_longitude  pickup_longitude  passenger_count  \\\n",
      "402          4.9        -73.990863        -73.990863                1   \n",
      "306          8.0        -73.984015        -73.984015                1   \n",
      "779         12.5        -73.986462        -73.986462                1   \n",
      "677         18.5        -73.974885        -73.974885                1   \n",
      "566          3.5        -73.957238        -73.957238                1   \n",
      "4            5.5        -74.005197        -74.005197                1   \n",
      "575          6.5        -74.007178        -74.007178                1   \n",
      "372          6.1        -73.980690        -73.980690                1   \n",
      "146          9.0        -73.984735        -73.984735                1   \n",
      "650          6.1        -73.977673        -73.977673                1   \n",
      "287          8.5        -73.982500        -73.982500                1   \n",
      "403          9.3        -73.855807        -73.855807                1   \n",
      "31           5.7        -73.985306        -73.985306                1   \n",
      "523          4.5        -73.961030        -73.961030                1   \n",
      "316          9.5        -73.982843        -73.982843                1   \n",
      "238          8.1        -73.990152        -73.990152                1   \n",
      "485          9.5        -73.988848        -73.988848                1   \n",
      "733          8.5        -73.952793        -73.952793                1   \n",
      "90           6.0        -73.994224        -73.994224                1   \n",
      "646          5.3        -73.992097        -73.992097                1   \n",
      "772         18.0        -73.990470        -73.990470                1   \n",
      "381          4.1        -73.969507        -73.969507                1   \n",
      "163         14.1        -74.016070        -74.016070                1   \n",
      "295         11.3        -73.951667        -73.951667                1   \n",
      "208          3.7          0.000000          0.000000                1   \n",
      "738         11.0        -74.007537        -74.007537                1   \n",
      "687         10.9        -73.981308        -73.981308                1   \n",
      "370          8.5        -73.971680        -73.971680                1   \n",
      "236         20.0        -73.974615        -73.974615                1   \n",
      "552          8.5        -73.979781        -73.979781                1   \n",
      "..           ...               ...               ...              ...   \n",
      "793         11.3        -73.947101        -73.947101                1   \n",
      "533         10.9        -73.982225        -73.982225                1   \n",
      "283          8.1        -73.993773        -73.993773                1   \n",
      "436          5.5        -73.951466        -73.951466                1   \n",
      "631         19.7        -74.004576        -74.004576                1   \n",
      "491          9.5        -73.975840        -73.975840                1   \n",
      "273          4.9        -73.965810        -73.965810                1   \n",
      "400         16.0        -73.971812        -73.971812                1   \n",
      "610         18.5        -73.963542        -73.963542                1   \n",
      "463         12.9        -73.959178        -73.959178                1   \n",
      "216          9.5        -73.984398        -73.984398                1   \n",
      "148          3.3        -73.988710        -73.988710                1   \n",
      "710         15.7        -73.988883        -73.988883                1   \n",
      "593          8.9        -74.008478        -74.008478                1   \n",
      "126          3.3        -73.991915        -73.991915                1   \n",
      "518          4.9        -73.984787        -73.984787                1   \n",
      "776          9.3        -73.943062        -73.943062                1   \n",
      "97          12.5        -74.010853        -74.010853                1   \n",
      "611          3.7        -73.965786        -73.965786                1   \n",
      "309          5.3        -73.985400        -73.985400                1   \n",
      "524          9.7        -74.007378        -74.007378                1   \n",
      "464          4.0        -74.008554        -74.008554                1   \n",
      "40           9.3        -73.991157        -73.991157                1   \n",
      "763          6.1        -73.982388        -73.982388                1   \n",
      "233         14.0        -74.002652        -74.002652                1   \n",
      "72          10.1        -73.984532        -73.984532                1   \n",
      "806          8.0        -73.970879        -73.970879                1   \n",
      "345          6.1        -73.984158        -73.984158                1   \n",
      "196          5.3        -73.987510        -73.987510                1   \n",
      "113         12.5        -73.955345        -73.955345                1   \n",
      "\n",
      "     Intercept  \n",
      "402          1  \n",
      "306          1  \n",
      "779          1  \n",
      "677          1  \n",
      "566          1  \n",
      "4            1  \n",
      "575          1  \n",
      "372          1  \n",
      "146          1  \n",
      "650          1  \n",
      "287          1  \n",
      "403          1  \n",
      "31           1  \n",
      "523          1  \n",
      "316          1  \n",
      "238          1  \n",
      "485          1  \n",
      "733          1  \n",
      "90           1  \n",
      "646          1  \n",
      "772          1  \n",
      "381          1  \n",
      "163          1  \n",
      "295          1  \n",
      "208          1  \n",
      "738          1  \n",
      "687          1  \n",
      "370          1  \n",
      "236          1  \n",
      "552          1  \n",
      "..         ...  \n",
      "793          1  \n",
      "533          1  \n",
      "283          1  \n",
      "436          1  \n",
      "631          1  \n",
      "491          1  \n",
      "273          1  \n",
      "400          1  \n",
      "610          1  \n",
      "463          1  \n",
      "216          1  \n",
      "148          1  \n",
      "710          1  \n",
      "593          1  \n",
      "126          1  \n",
      "518          1  \n",
      "776          1  \n",
      "97           1  \n",
      "611          1  \n",
      "309          1  \n",
      "524          1  \n",
      "464          1  \n",
      "40           1  \n",
      "763          1  \n",
      "233          1  \n",
      "72           1  \n",
      "806          1  \n",
      "345          1  \n",
      "196          1  \n",
      "113          1  \n",
      "\n",
      "[603 rows x 5 columns]\n"
     ]
    },
    {
     "name": "stderr",
     "output_type": "stream",
     "text": [
      "C:\\Users\\.hp\\Anaconda3\\lib\\site-packages\\ipykernel_launcher.py:2: SettingWithCopyWarning: \n",
      "A value is trying to be set on a copy of a slice from a DataFrame.\n",
      "Try using .loc[row_indexer,col_indexer] = value instead\n",
      "\n",
      "See the caveats in the documentation: http://pandas.pydata.org/pandas-docs/stable/indexing.html#indexing-view-versus-copy\n",
      "  \n"
     ]
    },
    {
     "data": {
      "text/plain": [
       "(603, 5)"
      ]
     },
     "execution_count": 21,
     "metadata": {},
     "output_type": "execute_result"
    }
   ],
   "source": [
    "X=data_new[['fare_amount','pickup_longitude','pickup_longitude','passenger_count']]\n",
    "X['Intercept']=1\n",
    "print(X)\n",
    "X.shape"
   ]
  },
  {
   "cell_type": "code",
   "execution_count": 22,
   "metadata": {},
   "outputs": [
    {
     "name": "stdout",
     "output_type": "stream",
     "text": [
      "          variables       VIF\n",
      "0       fare_amount  1.000013\n",
      "1  pickup_longitude       inf\n",
      "2  pickup_longitude       inf\n",
      "3   passenger_count  0.000000\n",
      "4         Intercept  0.000000\n"
     ]
    },
    {
     "name": "stderr",
     "output_type": "stream",
     "text": [
      "C:\\Users\\.hp\\Anaconda3\\lib\\site-packages\\statsmodels\\stats\\outliers_influence.py:185: RuntimeWarning: divide by zero encountered in double_scalars\n",
      "  vif = 1. / (1. - r_squared_i)\n",
      "C:\\Users\\.hp\\Anaconda3\\lib\\site-packages\\statsmodels\\regression\\linear_model.py:1636: RuntimeWarning: divide by zero encountered in double_scalars\n",
      "  return 1 - self.ssr/self.centered_tss\n"
     ]
    }
   ],
   "source": [
    "vif=pd.DataFrame()\n",
    "vif[\"variables\"]=X.columns\n",
    "vif[\"VIF\"]=[variance_inflation_factor(X.values,i) for i in range(X.shape[1])]\n",
    "print(vif)"
   ]
  },
  {
   "cell_type": "markdown",
   "metadata": {},
   "source": [
    "#Since VIF count is below 2.5, there is no Multi-Collinearity"
   ]
  },
  {
   "cell_type": "markdown",
   "metadata": {},
   "source": [
    "Correlation test"
   ]
  },
  {
   "cell_type": "code",
   "execution_count": 23,
   "metadata": {},
   "outputs": [],
   "source": [
    "cnames=['fare_amount','pickup_longitude','pickup_longitude','passenger_count']\n",
    "df_corr=data_new.loc[:,cnames]"
   ]
  },
  {
   "cell_type": "code",
   "execution_count": 24,
   "metadata": {},
   "outputs": [
    {
     "data": {
      "text/html": [
       "<div>\n",
       "<style scoped>\n",
       "    .dataframe tbody tr th:only-of-type {\n",
       "        vertical-align: middle;\n",
       "    }\n",
       "\n",
       "    .dataframe tbody tr th {\n",
       "        vertical-align: top;\n",
       "    }\n",
       "\n",
       "    .dataframe thead th {\n",
       "        text-align: right;\n",
       "    }\n",
       "</style>\n",
       "<table border=\"1\" class=\"dataframe\">\n",
       "  <thead>\n",
       "    <tr style=\"text-align: right;\">\n",
       "      <th></th>\n",
       "      <th>fare_amount</th>\n",
       "      <th>pickup_longitude</th>\n",
       "      <th>pickup_longitude</th>\n",
       "      <th>passenger_count</th>\n",
       "    </tr>\n",
       "  </thead>\n",
       "  <tbody>\n",
       "    <tr>\n",
       "      <th>fare_amount</th>\n",
       "      <td>1.000000</td>\n",
       "      <td>0.003557</td>\n",
       "      <td>0.003557</td>\n",
       "      <td>NaN</td>\n",
       "    </tr>\n",
       "    <tr>\n",
       "      <th>pickup_longitude</th>\n",
       "      <td>0.003557</td>\n",
       "      <td>1.000000</td>\n",
       "      <td>1.000000</td>\n",
       "      <td>NaN</td>\n",
       "    </tr>\n",
       "    <tr>\n",
       "      <th>pickup_longitude</th>\n",
       "      <td>0.003557</td>\n",
       "      <td>1.000000</td>\n",
       "      <td>1.000000</td>\n",
       "      <td>NaN</td>\n",
       "    </tr>\n",
       "    <tr>\n",
       "      <th>passenger_count</th>\n",
       "      <td>NaN</td>\n",
       "      <td>NaN</td>\n",
       "      <td>NaN</td>\n",
       "      <td>NaN</td>\n",
       "    </tr>\n",
       "  </tbody>\n",
       "</table>\n",
       "</div>"
      ],
      "text/plain": [
       "                  fare_amount  pickup_longitude  pickup_longitude  \\\n",
       "fare_amount          1.000000          0.003557          0.003557   \n",
       "pickup_longitude     0.003557          1.000000          1.000000   \n",
       "pickup_longitude     0.003557          1.000000          1.000000   \n",
       "passenger_count           NaN               NaN               NaN   \n",
       "\n",
       "                  passenger_count  \n",
       "fare_amount                   NaN  \n",
       "pickup_longitude              NaN  \n",
       "pickup_longitude              NaN  \n",
       "passenger_count               NaN  "
      ]
     },
     "execution_count": 24,
     "metadata": {},
     "output_type": "execute_result"
    }
   ],
   "source": [
    "df_corr\n",
    "corr=df_corr.corr()\n",
    "corr"
   ]
  },
  {
   "cell_type": "markdown",
   "metadata": {},
   "source": [
    "#in above matrix, there is no large value(correlation value lies between -1 and 1). Hence no correlation between variables in it."
   ]
  },
  {
   "cell_type": "markdown",
   "metadata": {},
   "source": [
    "SCALING:"
   ]
  },
  {
   "cell_type": "code",
   "execution_count": 25,
   "metadata": {},
   "outputs": [
    {
     "data": {
      "text/html": [
       "<div>\n",
       "<style scoped>\n",
       "    .dataframe tbody tr th:only-of-type {\n",
       "        vertical-align: middle;\n",
       "    }\n",
       "\n",
       "    .dataframe tbody tr th {\n",
       "        vertical-align: top;\n",
       "    }\n",
       "\n",
       "    .dataframe thead th {\n",
       "        text-align: right;\n",
       "    }\n",
       "</style>\n",
       "<table border=\"1\" class=\"dataframe\">\n",
       "  <thead>\n",
       "    <tr style=\"text-align: right;\">\n",
       "      <th></th>\n",
       "      <th>Unnamed: 0</th>\n",
       "      <th>key</th>\n",
       "      <th>fare_amount</th>\n",
       "      <th>pickup_datetime</th>\n",
       "      <th>pickup_longitude</th>\n",
       "      <th>pickup_latitude</th>\n",
       "      <th>dropoff_longitude</th>\n",
       "      <th>dropoff_latitude</th>\n",
       "      <th>passenger_count</th>\n",
       "    </tr>\n",
       "  </thead>\n",
       "  <tbody>\n",
       "    <tr>\n",
       "      <th>402</th>\n",
       "      <td>14481244</td>\n",
       "      <td>2009-02-16 22:22:00.00000055</td>\n",
       "      <td>4.9</td>\n",
       "      <td>2009-02-16 22:22:00 UTC</td>\n",
       "      <td>-73.990863</td>\n",
       "      <td>40.734183</td>\n",
       "      <td>-73.979647</td>\n",
       "      <td>40.733317</td>\n",
       "      <td>1</td>\n",
       "    </tr>\n",
       "    <tr>\n",
       "      <th>306</th>\n",
       "      <td>45753575</td>\n",
       "      <td>2014-10-27 13:02:29.0000002</td>\n",
       "      <td>8.0</td>\n",
       "      <td>2014-10-27 13:02:29 UTC</td>\n",
       "      <td>-73.984015</td>\n",
       "      <td>40.768056</td>\n",
       "      <td>-73.969524</td>\n",
       "      <td>40.762738</td>\n",
       "      <td>1</td>\n",
       "    </tr>\n",
       "    <tr>\n",
       "      <th>779</th>\n",
       "      <td>27600988</td>\n",
       "      <td>2013-11-21 10:48:00.000000140</td>\n",
       "      <td>12.5</td>\n",
       "      <td>2013-11-21 10:48:00 UTC</td>\n",
       "      <td>-73.986462</td>\n",
       "      <td>40.767072</td>\n",
       "      <td>-73.994782</td>\n",
       "      <td>40.741180</td>\n",
       "      <td>1</td>\n",
       "    </tr>\n",
       "    <tr>\n",
       "      <th>677</th>\n",
       "      <td>12807424</td>\n",
       "      <td>2012-01-17 02:39:00.00000017</td>\n",
       "      <td>18.5</td>\n",
       "      <td>2012-01-17 02:39:00 UTC</td>\n",
       "      <td>-73.974885</td>\n",
       "      <td>40.741945</td>\n",
       "      <td>-73.939910</td>\n",
       "      <td>40.832712</td>\n",
       "      <td>1</td>\n",
       "    </tr>\n",
       "    <tr>\n",
       "      <th>566</th>\n",
       "      <td>11353682</td>\n",
       "      <td>2014-05-12 18:18:00.00000035</td>\n",
       "      <td>3.5</td>\n",
       "      <td>2014-05-12 18:18:00 UTC</td>\n",
       "      <td>-73.957238</td>\n",
       "      <td>40.774432</td>\n",
       "      <td>-73.953425</td>\n",
       "      <td>40.778502</td>\n",
       "      <td>1</td>\n",
       "    </tr>\n",
       "  </tbody>\n",
       "</table>\n",
       "</div>"
      ],
      "text/plain": [
       "     Unnamed: 0                            key  fare_amount  \\\n",
       "402    14481244   2009-02-16 22:22:00.00000055          4.9   \n",
       "306    45753575    2014-10-27 13:02:29.0000002          8.0   \n",
       "779    27600988  2013-11-21 10:48:00.000000140         12.5   \n",
       "677    12807424   2012-01-17 02:39:00.00000017         18.5   \n",
       "566    11353682   2014-05-12 18:18:00.00000035          3.5   \n",
       "\n",
       "             pickup_datetime  pickup_longitude  pickup_latitude  \\\n",
       "402  2009-02-16 22:22:00 UTC        -73.990863        40.734183   \n",
       "306  2014-10-27 13:02:29 UTC        -73.984015        40.768056   \n",
       "779  2013-11-21 10:48:00 UTC        -73.986462        40.767072   \n",
       "677  2012-01-17 02:39:00 UTC        -73.974885        40.741945   \n",
       "566  2014-05-12 18:18:00 UTC        -73.957238        40.774432   \n",
       "\n",
       "     dropoff_longitude  dropoff_latitude  passenger_count  \n",
       "402         -73.979647         40.733317                1  \n",
       "306         -73.969524         40.762738                1  \n",
       "779         -73.994782         40.741180                1  \n",
       "677         -73.939910         40.832712                1  \n",
       "566         -73.953425         40.778502                1  "
      ]
     },
     "execution_count": 25,
     "metadata": {},
     "output_type": "execute_result"
    }
   ],
   "source": [
    "data_new.head(5)"
   ]
  },
  {
   "cell_type": "code",
   "execution_count": 26,
   "metadata": {},
   "outputs": [
    {
     "data": {
      "text/plain": [
       "<matplotlib.axes._subplots.AxesSubplot at 0x22720d2ee10>"
      ]
     },
     "execution_count": 26,
     "metadata": {},
     "output_type": "execute_result"
    },
    {
     "data": {
      "image/png": "[encoded data removed]",
      "text/plain": [
       "<Figure size 432x288 with 1 Axes>"
      ]
     },
     "metadata": {
      "needs_background": "light"
     },
     "output_type": "display_data"
    }
   ],
   "source": [
    "data_new['fare_amount'].plot.bar(color='Red')"
   ]
  },
  {
   "cell_type": "markdown",
   "metadata": {},
   "source": [
    "CONVERTING STRING variables to NUMERIC"
   ]
  },
  {
   "cell_type": "code",
   "execution_count": 27,
   "metadata": {},
   "outputs": [
    {
     "data": {
      "text/plain": [
       "(603, 9)"
      ]
     },
     "execution_count": 27,
     "metadata": {},
     "output_type": "execute_result"
    }
   ],
   "source": [
    "data_new.shape"
   ]
  },
  {
   "cell_type": "code",
   "execution_count": 28,
   "metadata": {},
   "outputs": [],
   "source": [
    "data_new=data_new.drop(['Unnamed: 0'],axis=1)"
   ]
  },
  {
   "cell_type": "code",
   "execution_count": 29,
   "metadata": {},
   "outputs": [
    {
     "data": {
      "text/html": [
       "<div>\n",
       "<style scoped>\n",
       "    .dataframe tbody tr th:only-of-type {\n",
       "        vertical-align: middle;\n",
       "    }\n",
       "\n",
       "    .dataframe tbody tr th {\n",
       "        vertical-align: top;\n",
       "    }\n",
       "\n",
       "    .dataframe thead th {\n",
       "        text-align: right;\n",
       "    }\n",
       "</style>\n",
       "<table border=\"1\" class=\"dataframe\">\n",
       "  <thead>\n",
       "    <tr style=\"text-align: right;\">\n",
       "      <th></th>\n",
       "      <th>key</th>\n",
       "      <th>fare_amount</th>\n",
       "      <th>pickup_datetime</th>\n",
       "      <th>pickup_longitude</th>\n",
       "      <th>pickup_latitude</th>\n",
       "      <th>dropoff_longitude</th>\n",
       "      <th>dropoff_latitude</th>\n",
       "      <th>passenger_count</th>\n",
       "    </tr>\n",
       "  </thead>\n",
       "  <tbody>\n",
       "    <tr>\n",
       "      <th>402</th>\n",
       "      <td>2009-02-16 22:22:00.00000055</td>\n",
       "      <td>4.9</td>\n",
       "      <td>2009-02-16 22:22:00 UTC</td>\n",
       "      <td>-73.990863</td>\n",
       "      <td>40.734183</td>\n",
       "      <td>-73.979647</td>\n",
       "      <td>40.733317</td>\n",
       "      <td>1</td>\n",
       "    </tr>\n",
       "    <tr>\n",
       "      <th>306</th>\n",
       "      <td>2014-10-27 13:02:29.0000002</td>\n",
       "      <td>8.0</td>\n",
       "      <td>2014-10-27 13:02:29 UTC</td>\n",
       "      <td>-73.984015</td>\n",
       "      <td>40.768056</td>\n",
       "      <td>-73.969524</td>\n",
       "      <td>40.762738</td>\n",
       "      <td>1</td>\n",
       "    </tr>\n",
       "    <tr>\n",
       "      <th>779</th>\n",
       "      <td>2013-11-21 10:48:00.000000140</td>\n",
       "      <td>12.5</td>\n",
       "      <td>2013-11-21 10:48:00 UTC</td>\n",
       "      <td>-73.986462</td>\n",
       "      <td>40.767072</td>\n",
       "      <td>-73.994782</td>\n",
       "      <td>40.741180</td>\n",
       "      <td>1</td>\n",
       "    </tr>\n",
       "    <tr>\n",
       "      <th>677</th>\n",
       "      <td>2012-01-17 02:39:00.00000017</td>\n",
       "      <td>18.5</td>\n",
       "      <td>2012-01-17 02:39:00 UTC</td>\n",
       "      <td>-73.974885</td>\n",
       "      <td>40.741945</td>\n",
       "      <td>-73.939910</td>\n",
       "      <td>40.832712</td>\n",
       "      <td>1</td>\n",
       "    </tr>\n",
       "    <tr>\n",
       "      <th>566</th>\n",
       "      <td>2014-05-12 18:18:00.00000035</td>\n",
       "      <td>3.5</td>\n",
       "      <td>2014-05-12 18:18:00 UTC</td>\n",
       "      <td>-73.957238</td>\n",
       "      <td>40.774432</td>\n",
       "      <td>-73.953425</td>\n",
       "      <td>40.778502</td>\n",
       "      <td>1</td>\n",
       "    </tr>\n",
       "    <tr>\n",
       "      <th>4</th>\n",
       "      <td>2013-04-03 11:11:00.00000036</td>\n",
       "      <td>5.5</td>\n",
       "      <td>2013-04-03 11:11:00 UTC</td>\n",
       "      <td>-74.005197</td>\n",
       "      <td>40.740512</td>\n",
       "      <td>-74.005500</td>\n",
       "      <td>40.726662</td>\n",
       "      <td>1</td>\n",
       "    </tr>\n",
       "    <tr>\n",
       "      <th>575</th>\n",
       "      <td>2009-05-27 13:52:00.000000163</td>\n",
       "      <td>6.5</td>\n",
       "      <td>2009-05-27 13:52:00 UTC</td>\n",
       "      <td>-74.007178</td>\n",
       "      <td>40.728327</td>\n",
       "      <td>-74.008308</td>\n",
       "      <td>40.711638</td>\n",
       "      <td>1</td>\n",
       "    </tr>\n",
       "    <tr>\n",
       "      <th>372</th>\n",
       "      <td>2012-03-08 07:58:14.0000004</td>\n",
       "      <td>6.1</td>\n",
       "      <td>2012-03-08 07:58:14 UTC</td>\n",
       "      <td>-73.980690</td>\n",
       "      <td>40.738425</td>\n",
       "      <td>-73.973226</td>\n",
       "      <td>40.754832</td>\n",
       "      <td>1</td>\n",
       "    </tr>\n",
       "    <tr>\n",
       "      <th>146</th>\n",
       "      <td>2013-06-29 11:24:39.0000001</td>\n",
       "      <td>9.0</td>\n",
       "      <td>2013-06-29 11:24:39 UTC</td>\n",
       "      <td>-73.984735</td>\n",
       "      <td>40.762618</td>\n",
       "      <td>-73.974370</td>\n",
       "      <td>40.765287</td>\n",
       "      <td>1</td>\n",
       "    </tr>\n",
       "    <tr>\n",
       "      <th>650</th>\n",
       "      <td>2010-05-16 07:56:00.0000001</td>\n",
       "      <td>6.1</td>\n",
       "      <td>2010-05-16 07:56:00 UTC</td>\n",
       "      <td>-73.977673</td>\n",
       "      <td>40.750232</td>\n",
       "      <td>-73.987870</td>\n",
       "      <td>40.749423</td>\n",
       "      <td>1</td>\n",
       "    </tr>\n",
       "    <tr>\n",
       "      <th>287</th>\n",
       "      <td>2014-03-06 20:23:00.000000202</td>\n",
       "      <td>8.5</td>\n",
       "      <td>2014-03-06 20:23:00 UTC</td>\n",
       "      <td>-73.982500</td>\n",
       "      <td>40.767520</td>\n",
       "      <td>-73.970382</td>\n",
       "      <td>40.788307</td>\n",
       "      <td>1</td>\n",
       "    </tr>\n",
       "    <tr>\n",
       "      <th>403</th>\n",
       "      <td>2009-01-23 16:21:00.000000158</td>\n",
       "      <td>9.3</td>\n",
       "      <td>2009-01-23 16:21:00 UTC</td>\n",
       "      <td>-73.855807</td>\n",
       "      <td>40.740990</td>\n",
       "      <td>-73.860248</td>\n",
       "      <td>40.748502</td>\n",
       "      <td>1</td>\n",
       "    </tr>\n",
       "    <tr>\n",
       "      <th>31</th>\n",
       "      <td>2011-01-04 20:15:39.0000004</td>\n",
       "      <td>5.7</td>\n",
       "      <td>2011-01-04 20:15:39 UTC</td>\n",
       "      <td>-73.985306</td>\n",
       "      <td>40.762342</td>\n",
       "      <td>-73.977828</td>\n",
       "      <td>40.753631</td>\n",
       "      <td>1</td>\n",
       "    </tr>\n",
       "    <tr>\n",
       "      <th>523</th>\n",
       "      <td>2012-05-18 04:03:22.0000001</td>\n",
       "      <td>4.5</td>\n",
       "      <td>2012-05-18 04:03:22 UTC</td>\n",
       "      <td>-73.961030</td>\n",
       "      <td>40.760766</td>\n",
       "      <td>-73.963046</td>\n",
       "      <td>40.770858</td>\n",
       "      <td>1</td>\n",
       "    </tr>\n",
       "    <tr>\n",
       "      <th>316</th>\n",
       "      <td>2014-09-25 22:52:21.0000002</td>\n",
       "      <td>9.5</td>\n",
       "      <td>2014-09-25 22:52:21 UTC</td>\n",
       "      <td>-73.982843</td>\n",
       "      <td>40.771998</td>\n",
       "      <td>-73.997502</td>\n",
       "      <td>40.747402</td>\n",
       "      <td>1</td>\n",
       "    </tr>\n",
       "    <tr>\n",
       "      <th>238</th>\n",
       "      <td>2011-04-23 10:16:00.00000038</td>\n",
       "      <td>8.1</td>\n",
       "      <td>2011-04-23 10:16:00 UTC</td>\n",
       "      <td>-73.990152</td>\n",
       "      <td>40.734627</td>\n",
       "      <td>-73.979740</td>\n",
       "      <td>40.755160</td>\n",
       "      <td>1</td>\n",
       "    </tr>\n",
       "    <tr>\n",
       "      <th>485</th>\n",
       "      <td>2012-09-23 10:05:00.00000027</td>\n",
       "      <td>9.5</td>\n",
       "      <td>2012-09-23 10:05:00 UTC</td>\n",
       "      <td>-73.988848</td>\n",
       "      <td>40.760520</td>\n",
       "      <td>-73.971858</td>\n",
       "      <td>40.743408</td>\n",
       "      <td>1</td>\n",
       "    </tr>\n",
       "    <tr>\n",
       "      <th>733</th>\n",
       "      <td>2009-09-09 02:11:00.00000026</td>\n",
       "      <td>8.5</td>\n",
       "      <td>2009-09-09 02:11:00 UTC</td>\n",
       "      <td>-73.952793</td>\n",
       "      <td>40.776395</td>\n",
       "      <td>-73.980707</td>\n",
       "      <td>40.742778</td>\n",
       "      <td>1</td>\n",
       "    </tr>\n",
       "    <tr>\n",
       "      <th>90</th>\n",
       "      <td>2013-02-28 01:22:48.0000004</td>\n",
       "      <td>6.0</td>\n",
       "      <td>2013-02-28 01:22:48 UTC</td>\n",
       "      <td>-73.994224</td>\n",
       "      <td>40.751123</td>\n",
       "      <td>-74.002428</td>\n",
       "      <td>40.749848</td>\n",
       "      <td>1</td>\n",
       "    </tr>\n",
       "    <tr>\n",
       "      <th>646</th>\n",
       "      <td>2009-05-27 09:22:00.000000207</td>\n",
       "      <td>5.3</td>\n",
       "      <td>2009-05-27 09:22:00 UTC</td>\n",
       "      <td>-73.992097</td>\n",
       "      <td>40.749344</td>\n",
       "      <td>-73.985247</td>\n",
       "      <td>40.739293</td>\n",
       "      <td>1</td>\n",
       "    </tr>\n",
       "    <tr>\n",
       "      <th>772</th>\n",
       "      <td>2013-04-04 11:30:00.000000177</td>\n",
       "      <td>18.0</td>\n",
       "      <td>2013-04-04 11:30:00 UTC</td>\n",
       "      <td>-73.990470</td>\n",
       "      <td>40.729487</td>\n",
       "      <td>-73.962010</td>\n",
       "      <td>40.777932</td>\n",
       "      <td>1</td>\n",
       "    </tr>\n",
       "    <tr>\n",
       "      <th>381</th>\n",
       "      <td>2010-04-07 08:05:06.0000001</td>\n",
       "      <td>4.1</td>\n",
       "      <td>2010-04-07 08:05:06 UTC</td>\n",
       "      <td>-73.969507</td>\n",
       "      <td>40.761138</td>\n",
       "      <td>-73.976261</td>\n",
       "      <td>40.760418</td>\n",
       "      <td>1</td>\n",
       "    </tr>\n",
       "    <tr>\n",
       "      <th>163</th>\n",
       "      <td>2011-11-17 23:14:00.00000032</td>\n",
       "      <td>14.1</td>\n",
       "      <td>2011-11-17 23:14:00 UTC</td>\n",
       "      <td>-74.016070</td>\n",
       "      <td>40.711182</td>\n",
       "      <td>-73.983735</td>\n",
       "      <td>40.775880</td>\n",
       "      <td>1</td>\n",
       "    </tr>\n",
       "    <tr>\n",
       "      <th>295</th>\n",
       "      <td>2010-01-17 05:27:34.0000001</td>\n",
       "      <td>11.3</td>\n",
       "      <td>2010-01-17 05:27:34 UTC</td>\n",
       "      <td>-73.951667</td>\n",
       "      <td>40.714059</td>\n",
       "      <td>-73.981991</td>\n",
       "      <td>40.683532</td>\n",
       "      <td>1</td>\n",
       "    </tr>\n",
       "    <tr>\n",
       "      <th>208</th>\n",
       "      <td>2010-07-16 12:48:00.00000019</td>\n",
       "      <td>3.7</td>\n",
       "      <td>2010-07-16 12:48:00 UTC</td>\n",
       "      <td>0.000000</td>\n",
       "      <td>0.000000</td>\n",
       "      <td>-73.989108</td>\n",
       "      <td>40.741367</td>\n",
       "      <td>1</td>\n",
       "    </tr>\n",
       "    <tr>\n",
       "      <th>738</th>\n",
       "      <td>2013-10-29 09:20:00.00000071</td>\n",
       "      <td>11.0</td>\n",
       "      <td>2013-10-29 09:20:00 UTC</td>\n",
       "      <td>-74.007537</td>\n",
       "      <td>40.741002</td>\n",
       "      <td>-73.997187</td>\n",
       "      <td>40.725522</td>\n",
       "      <td>1</td>\n",
       "    </tr>\n",
       "    <tr>\n",
       "      <th>687</th>\n",
       "      <td>2010-01-07 07:51:12.0000003</td>\n",
       "      <td>10.9</td>\n",
       "      <td>2010-01-07 07:51:12 UTC</td>\n",
       "      <td>-73.981308</td>\n",
       "      <td>40.764199</td>\n",
       "      <td>-73.961303</td>\n",
       "      <td>40.806288</td>\n",
       "      <td>1</td>\n",
       "    </tr>\n",
       "    <tr>\n",
       "      <th>370</th>\n",
       "      <td>2013-08-30 11:43:41.0000002</td>\n",
       "      <td>8.5</td>\n",
       "      <td>2013-08-30 11:43:41 UTC</td>\n",
       "      <td>-73.971680</td>\n",
       "      <td>40.763609</td>\n",
       "      <td>-73.981813</td>\n",
       "      <td>40.778306</td>\n",
       "      <td>1</td>\n",
       "    </tr>\n",
       "    <tr>\n",
       "      <th>236</th>\n",
       "      <td>2014-03-17 20:02:00.00000013</td>\n",
       "      <td>20.0</td>\n",
       "      <td>2014-03-17 20:02:00 UTC</td>\n",
       "      <td>-73.974615</td>\n",
       "      <td>40.762250</td>\n",
       "      <td>-74.016068</td>\n",
       "      <td>40.711230</td>\n",
       "      <td>1</td>\n",
       "    </tr>\n",
       "    <tr>\n",
       "      <th>552</th>\n",
       "      <td>2012-07-31 23:50:34.0000001</td>\n",
       "      <td>8.5</td>\n",
       "      <td>2012-07-31 23:50:34 UTC</td>\n",
       "      <td>-73.979781</td>\n",
       "      <td>40.760749</td>\n",
       "      <td>-73.950559</td>\n",
       "      <td>40.773207</td>\n",
       "      <td>1</td>\n",
       "    </tr>\n",
       "    <tr>\n",
       "      <th>...</th>\n",
       "      <td>...</td>\n",
       "      <td>...</td>\n",
       "      <td>...</td>\n",
       "      <td>...</td>\n",
       "      <td>...</td>\n",
       "      <td>...</td>\n",
       "      <td>...</td>\n",
       "      <td>...</td>\n",
       "    </tr>\n",
       "    <tr>\n",
       "      <th>624</th>\n",
       "      <td>2015-04-26 01:38:41.0000001</td>\n",
       "      <td>7.0</td>\n",
       "      <td>2015-04-26 01:38:41 UTC</td>\n",
       "      <td>-73.991470</td>\n",
       "      <td>40.716084</td>\n",
       "      <td>-73.987251</td>\n",
       "      <td>40.722000</td>\n",
       "      <td>1</td>\n",
       "    </tr>\n",
       "    <tr>\n",
       "      <th>792</th>\n",
       "      <td>2011-03-14 11:21:19.0000003</td>\n",
       "      <td>4.5</td>\n",
       "      <td>2011-03-14 11:21:19 UTC</td>\n",
       "      <td>-73.966547</td>\n",
       "      <td>40.765043</td>\n",
       "      <td>-73.960408</td>\n",
       "      <td>40.767951</td>\n",
       "      <td>1</td>\n",
       "    </tr>\n",
       "    <tr>\n",
       "      <th>228</th>\n",
       "      <td>2011-08-09 19:55:00.0000005</td>\n",
       "      <td>9.7</td>\n",
       "      <td>2011-08-09 19:55:00 UTC</td>\n",
       "      <td>-73.976932</td>\n",
       "      <td>40.756865</td>\n",
       "      <td>-74.002117</td>\n",
       "      <td>40.729792</td>\n",
       "      <td>1</td>\n",
       "    </tr>\n",
       "    <tr>\n",
       "      <th>139</th>\n",
       "      <td>2011-11-01 10:39:48.0000004</td>\n",
       "      <td>5.7</td>\n",
       "      <td>2011-11-01 10:39:48 UTC</td>\n",
       "      <td>-73.968795</td>\n",
       "      <td>40.750201</td>\n",
       "      <td>-73.969354</td>\n",
       "      <td>40.761252</td>\n",
       "      <td>1</td>\n",
       "    </tr>\n",
       "    <tr>\n",
       "      <th>266</th>\n",
       "      <td>2012-07-03 21:50:23.0000002</td>\n",
       "      <td>2.9</td>\n",
       "      <td>2012-07-03 21:50:23 UTC</td>\n",
       "      <td>-73.989149</td>\n",
       "      <td>40.747954</td>\n",
       "      <td>-73.982506</td>\n",
       "      <td>40.758131</td>\n",
       "      <td>1</td>\n",
       "    </tr>\n",
       "    <tr>\n",
       "      <th>100</th>\n",
       "      <td>2011-11-12 09:38:00.00000046</td>\n",
       "      <td>4.1</td>\n",
       "      <td>2011-11-12 09:38:00 UTC</td>\n",
       "      <td>-73.967148</td>\n",
       "      <td>40.772537</td>\n",
       "      <td>-73.960088</td>\n",
       "      <td>40.772772</td>\n",
       "      <td>1</td>\n",
       "    </tr>\n",
       "    <tr>\n",
       "      <th>409</th>\n",
       "      <td>2011-05-11 07:26:18.0000001</td>\n",
       "      <td>5.7</td>\n",
       "      <td>2011-05-11 07:26:18 UTC</td>\n",
       "      <td>-73.990591</td>\n",
       "      <td>40.756203</td>\n",
       "      <td>-73.976209</td>\n",
       "      <td>40.756904</td>\n",
       "      <td>1</td>\n",
       "    </tr>\n",
       "    <tr>\n",
       "      <th>782</th>\n",
       "      <td>2009-03-24 21:08:56.0000001</td>\n",
       "      <td>6.2</td>\n",
       "      <td>2009-03-24 21:08:56 UTC</td>\n",
       "      <td>-73.981469</td>\n",
       "      <td>40.745519</td>\n",
       "      <td>-73.967949</td>\n",
       "      <td>40.758463</td>\n",
       "      <td>1</td>\n",
       "    </tr>\n",
       "    <tr>\n",
       "      <th>482</th>\n",
       "      <td>2011-10-08 15:21:00.000000193</td>\n",
       "      <td>8.9</td>\n",
       "      <td>2011-10-08 15:21:00 UTC</td>\n",
       "      <td>-74.002477</td>\n",
       "      <td>40.739783</td>\n",
       "      <td>-73.972022</td>\n",
       "      <td>40.745615</td>\n",
       "      <td>1</td>\n",
       "    </tr>\n",
       "    <tr>\n",
       "      <th>94</th>\n",
       "      <td>2012-11-24 13:36:00.000000166</td>\n",
       "      <td>8.0</td>\n",
       "      <td>2012-11-24 13:36:00 UTC</td>\n",
       "      <td>-73.982518</td>\n",
       "      <td>40.745947</td>\n",
       "      <td>-73.990698</td>\n",
       "      <td>40.754703</td>\n",
       "      <td>1</td>\n",
       "    </tr>\n",
       "    <tr>\n",
       "      <th>383</th>\n",
       "      <td>2011-03-17 22:05:00.0000009</td>\n",
       "      <td>10.5</td>\n",
       "      <td>2011-03-17 22:05:00 UTC</td>\n",
       "      <td>-73.984123</td>\n",
       "      <td>40.743513</td>\n",
       "      <td>-73.959140</td>\n",
       "      <td>40.771950</td>\n",
       "      <td>1</td>\n",
       "    </tr>\n",
       "    <tr>\n",
       "      <th>1</th>\n",
       "      <td>2013-08-18 00:05:00.00000095</td>\n",
       "      <td>9.5</td>\n",
       "      <td>2013-08-18 00:05:00 UTC</td>\n",
       "      <td>-73.977285</td>\n",
       "      <td>40.746797</td>\n",
       "      <td>-73.949635</td>\n",
       "      <td>40.776340</td>\n",
       "      <td>1</td>\n",
       "    </tr>\n",
       "    <tr>\n",
       "      <th>204</th>\n",
       "      <td>2013-02-07 20:29:00.00000046</td>\n",
       "      <td>4.0</td>\n",
       "      <td>2013-02-07 20:29:00 UTC</td>\n",
       "      <td>-73.943677</td>\n",
       "      <td>40.810387</td>\n",
       "      <td>-73.947408</td>\n",
       "      <td>40.805280</td>\n",
       "      <td>1</td>\n",
       "    </tr>\n",
       "    <tr>\n",
       "      <th>76</th>\n",
       "      <td>2009-01-23 11:00:00.00000086</td>\n",
       "      <td>10.1</td>\n",
       "      <td>2009-01-23 11:00:00 UTC</td>\n",
       "      <td>-74.004452</td>\n",
       "      <td>40.772248</td>\n",
       "      <td>-74.016770</td>\n",
       "      <td>40.760642</td>\n",
       "      <td>1</td>\n",
       "    </tr>\n",
       "    <tr>\n",
       "      <th>180</th>\n",
       "      <td>2013-08-16 18:15:33.0000001</td>\n",
       "      <td>10.5</td>\n",
       "      <td>2013-08-16 18:15:33 UTC</td>\n",
       "      <td>-73.971966</td>\n",
       "      <td>40.760065</td>\n",
       "      <td>-73.956083</td>\n",
       "      <td>40.775846</td>\n",
       "      <td>1</td>\n",
       "    </tr>\n",
       "    <tr>\n",
       "      <th>111</th>\n",
       "      <td>2011-01-25 23:26:08.0000001</td>\n",
       "      <td>20.1</td>\n",
       "      <td>2011-01-25 23:26:08 UTC</td>\n",
       "      <td>-73.984383</td>\n",
       "      <td>40.768591</td>\n",
       "      <td>-73.980570</td>\n",
       "      <td>40.673183</td>\n",
       "      <td>1</td>\n",
       "    </tr>\n",
       "    <tr>\n",
       "      <th>799</th>\n",
       "      <td>2010-12-26 10:22:00.00000026</td>\n",
       "      <td>4.1</td>\n",
       "      <td>2010-12-26 10:22:00 UTC</td>\n",
       "      <td>-73.968873</td>\n",
       "      <td>40.766837</td>\n",
       "      <td>-73.960288</td>\n",
       "      <td>40.778453</td>\n",
       "      <td>1</td>\n",
       "    </tr>\n",
       "    <tr>\n",
       "      <th>726</th>\n",
       "      <td>2009-04-02 06:21:36.0000001</td>\n",
       "      <td>4.5</td>\n",
       "      <td>2009-04-02 06:21:36 UTC</td>\n",
       "      <td>-74.006569</td>\n",
       "      <td>40.733061</td>\n",
       "      <td>-74.005482</td>\n",
       "      <td>40.725774</td>\n",
       "      <td>1</td>\n",
       "    </tr>\n",
       "    <tr>\n",
       "      <th>526</th>\n",
       "      <td>2012-11-28 00:46:00.00000039</td>\n",
       "      <td>7.5</td>\n",
       "      <td>2012-11-28 00:46:00 UTC</td>\n",
       "      <td>-73.983370</td>\n",
       "      <td>40.754625</td>\n",
       "      <td>-73.998160</td>\n",
       "      <td>40.733033</td>\n",
       "      <td>1</td>\n",
       "    </tr>\n",
       "    <tr>\n",
       "      <th>116</th>\n",
       "      <td>2012-10-22 20:19:02.0000004</td>\n",
       "      <td>9.5</td>\n",
       "      <td>2012-10-22 20:19:02 UTC</td>\n",
       "      <td>-73.949623</td>\n",
       "      <td>40.787620</td>\n",
       "      <td>-73.953990</td>\n",
       "      <td>40.806221</td>\n",
       "      <td>1</td>\n",
       "    </tr>\n",
       "    <tr>\n",
       "      <th>773</th>\n",
       "      <td>2010-02-04 08:55:20.0000001</td>\n",
       "      <td>3.7</td>\n",
       "      <td>2010-02-04 08:55:20 UTC</td>\n",
       "      <td>-73.979788</td>\n",
       "      <td>40.765271</td>\n",
       "      <td>-73.972680</td>\n",
       "      <td>40.762900</td>\n",
       "      <td>1</td>\n",
       "    </tr>\n",
       "    <tr>\n",
       "      <th>48</th>\n",
       "      <td>2013-09-22 20:53:00.000000166</td>\n",
       "      <td>6.5</td>\n",
       "      <td>2013-09-22 20:53:00 UTC</td>\n",
       "      <td>-73.978200</td>\n",
       "      <td>40.783165</td>\n",
       "      <td>-73.967772</td>\n",
       "      <td>40.802532</td>\n",
       "      <td>1</td>\n",
       "    </tr>\n",
       "    <tr>\n",
       "      <th>764</th>\n",
       "      <td>2009-03-23 16:48:11.0000002</td>\n",
       "      <td>12.7</td>\n",
       "      <td>2009-03-23 16:48:11 UTC</td>\n",
       "      <td>-73.985730</td>\n",
       "      <td>40.795832</td>\n",
       "      <td>-73.981105</td>\n",
       "      <td>40.775220</td>\n",
       "      <td>1</td>\n",
       "    </tr>\n",
       "    <tr>\n",
       "      <th>405</th>\n",
       "      <td>2010-07-17 19:37:33.0000004</td>\n",
       "      <td>16.5</td>\n",
       "      <td>2010-07-17 19:37:33 UTC</td>\n",
       "      <td>-73.977977</td>\n",
       "      <td>40.786547</td>\n",
       "      <td>-74.002782</td>\n",
       "      <td>40.724991</td>\n",
       "      <td>1</td>\n",
       "    </tr>\n",
       "    <tr>\n",
       "      <th>202</th>\n",
       "      <td>2013-12-16 22:40:27.0000003</td>\n",
       "      <td>7.5</td>\n",
       "      <td>2013-12-16 22:40:27 UTC</td>\n",
       "      <td>-73.974818</td>\n",
       "      <td>40.755725</td>\n",
       "      <td>-73.979124</td>\n",
       "      <td>40.740719</td>\n",
       "      <td>1</td>\n",
       "    </tr>\n",
       "    <tr>\n",
       "      <th>301</th>\n",
       "      <td>2011-10-23 12:17:20.0000005</td>\n",
       "      <td>6.5</td>\n",
       "      <td>2011-10-23 12:17:20 UTC</td>\n",
       "      <td>-73.975000</td>\n",
       "      <td>40.763300</td>\n",
       "      <td>-73.965800</td>\n",
       "      <td>40.752700</td>\n",
       "      <td>1</td>\n",
       "    </tr>\n",
       "    <tr>\n",
       "      <th>66</th>\n",
       "      <td>2010-11-15 22:02:00.00000027</td>\n",
       "      <td>8.9</td>\n",
       "      <td>2010-11-15 22:02:00 UTC</td>\n",
       "      <td>-74.002948</td>\n",
       "      <td>40.733178</td>\n",
       "      <td>-73.987228</td>\n",
       "      <td>40.759482</td>\n",
       "      <td>1</td>\n",
       "    </tr>\n",
       "    <tr>\n",
       "      <th>709</th>\n",
       "      <td>2014-10-01 10:58:10.0000001</td>\n",
       "      <td>10.5</td>\n",
       "      <td>2014-10-01 10:58:10 UTC</td>\n",
       "      <td>-73.979601</td>\n",
       "      <td>40.771632</td>\n",
       "      <td>-73.978671</td>\n",
       "      <td>40.755920</td>\n",
       "      <td>1</td>\n",
       "    </tr>\n",
       "    <tr>\n",
       "      <th>133</th>\n",
       "      <td>2009-12-19 12:49:00.000000218</td>\n",
       "      <td>7.3</td>\n",
       "      <td>2009-12-19 12:49:00 UTC</td>\n",
       "      <td>-73.982605</td>\n",
       "      <td>40.775280</td>\n",
       "      <td>-73.973212</td>\n",
       "      <td>40.764243</td>\n",
       "      <td>1</td>\n",
       "    </tr>\n",
       "    <tr>\n",
       "      <th>498</th>\n",
       "      <td>2009-04-03 17:00:00.000000120</td>\n",
       "      <td>8.1</td>\n",
       "      <td>2009-04-03 17:00:00 UTC</td>\n",
       "      <td>-73.970502</td>\n",
       "      <td>40.758532</td>\n",
       "      <td>-73.985867</td>\n",
       "      <td>40.737508</td>\n",
       "      <td>1</td>\n",
       "    </tr>\n",
       "  </tbody>\n",
       "</table>\n",
       "<p>100 rows × 8 columns</p>\n",
       "</div>"
      ],
      "text/plain": [
       "                               key  fare_amount          pickup_datetime  \\\n",
       "402   2009-02-16 22:22:00.00000055          4.9  2009-02-16 22:22:00 UTC   \n",
       "306    2014-10-27 13:02:29.0000002          8.0  2014-10-27 13:02:29 UTC   \n",
       "779  2013-11-21 10:48:00.000000140         12.5  2013-11-21 10:48:00 UTC   \n",
       "677   2012-01-17 02:39:00.00000017         18.5  2012-01-17 02:39:00 UTC   \n",
       "566   2014-05-12 18:18:00.00000035          3.5  2014-05-12 18:18:00 UTC   \n",
       "4     2013-04-03 11:11:00.00000036          5.5  2013-04-03 11:11:00 UTC   \n",
       "575  2009-05-27 13:52:00.000000163          6.5  2009-05-27 13:52:00 UTC   \n",
       "372    2012-03-08 07:58:14.0000004          6.1  2012-03-08 07:58:14 UTC   \n",
       "146    2013-06-29 11:24:39.0000001          9.0  2013-06-29 11:24:39 UTC   \n",
       "650    2010-05-16 07:56:00.0000001          6.1  2010-05-16 07:56:00 UTC   \n",
       "287  2014-03-06 20:23:00.000000202          8.5  2014-03-06 20:23:00 UTC   \n",
       "403  2009-01-23 16:21:00.000000158          9.3  2009-01-23 16:21:00 UTC   \n",
       "31     2011-01-04 20:15:39.0000004          5.7  2011-01-04 20:15:39 UTC   \n",
       "523    2012-05-18 04:03:22.0000001          4.5  2012-05-18 04:03:22 UTC   \n",
       "316    2014-09-25 22:52:21.0000002          9.5  2014-09-25 22:52:21 UTC   \n",
       "238   2011-04-23 10:16:00.00000038          8.1  2011-04-23 10:16:00 UTC   \n",
       "485   2012-09-23 10:05:00.00000027          9.5  2012-09-23 10:05:00 UTC   \n",
       "733   2009-09-09 02:11:00.00000026          8.5  2009-09-09 02:11:00 UTC   \n",
       "90     2013-02-28 01:22:48.0000004          6.0  2013-02-28 01:22:48 UTC   \n",
       "646  2009-05-27 09:22:00.000000207          5.3  2009-05-27 09:22:00 UTC   \n",
       "772  2013-04-04 11:30:00.000000177         18.0  2013-04-04 11:30:00 UTC   \n",
       "381    2010-04-07 08:05:06.0000001          4.1  2010-04-07 08:05:06 UTC   \n",
       "163   2011-11-17 23:14:00.00000032         14.1  2011-11-17 23:14:00 UTC   \n",
       "295    2010-01-17 05:27:34.0000001         11.3  2010-01-17 05:27:34 UTC   \n",
       "208   2010-07-16 12:48:00.00000019          3.7  2010-07-16 12:48:00 UTC   \n",
       "738   2013-10-29 09:20:00.00000071         11.0  2013-10-29 09:20:00 UTC   \n",
       "687    2010-01-07 07:51:12.0000003         10.9  2010-01-07 07:51:12 UTC   \n",
       "370    2013-08-30 11:43:41.0000002          8.5  2013-08-30 11:43:41 UTC   \n",
       "236   2014-03-17 20:02:00.00000013         20.0  2014-03-17 20:02:00 UTC   \n",
       "552    2012-07-31 23:50:34.0000001          8.5  2012-07-31 23:50:34 UTC   \n",
       "..                             ...          ...                      ...   \n",
       "624    2015-04-26 01:38:41.0000001          7.0  2015-04-26 01:38:41 UTC   \n",
       "792    2011-03-14 11:21:19.0000003          4.5  2011-03-14 11:21:19 UTC   \n",
       "228    2011-08-09 19:55:00.0000005          9.7  2011-08-09 19:55:00 UTC   \n",
       "139    2011-11-01 10:39:48.0000004          5.7  2011-11-01 10:39:48 UTC   \n",
       "266    2012-07-03 21:50:23.0000002          2.9  2012-07-03 21:50:23 UTC   \n",
       "100   2011-11-12 09:38:00.00000046          4.1  2011-11-12 09:38:00 UTC   \n",
       "409    2011-05-11 07:26:18.0000001          5.7  2011-05-11 07:26:18 UTC   \n",
       "782    2009-03-24 21:08:56.0000001          6.2  2009-03-24 21:08:56 UTC   \n",
       "482  2011-10-08 15:21:00.000000193          8.9  2011-10-08 15:21:00 UTC   \n",
       "94   2012-11-24 13:36:00.000000166          8.0  2012-11-24 13:36:00 UTC   \n",
       "383    2011-03-17 22:05:00.0000009         10.5  2011-03-17 22:05:00 UTC   \n",
       "1     2013-08-18 00:05:00.00000095          9.5  2013-08-18 00:05:00 UTC   \n",
       "204   2013-02-07 20:29:00.00000046          4.0  2013-02-07 20:29:00 UTC   \n",
       "76    2009-01-23 11:00:00.00000086         10.1  2009-01-23 11:00:00 UTC   \n",
       "180    2013-08-16 18:15:33.0000001         10.5  2013-08-16 18:15:33 UTC   \n",
       "111    2011-01-25 23:26:08.0000001         20.1  2011-01-25 23:26:08 UTC   \n",
       "799   2010-12-26 10:22:00.00000026          4.1  2010-12-26 10:22:00 UTC   \n",
       "726    2009-04-02 06:21:36.0000001          4.5  2009-04-02 06:21:36 UTC   \n",
       "526   2012-11-28 00:46:00.00000039          7.5  2012-11-28 00:46:00 UTC   \n",
       "116    2012-10-22 20:19:02.0000004          9.5  2012-10-22 20:19:02 UTC   \n",
       "773    2010-02-04 08:55:20.0000001          3.7  2010-02-04 08:55:20 UTC   \n",
       "48   2013-09-22 20:53:00.000000166          6.5  2013-09-22 20:53:00 UTC   \n",
       "764    2009-03-23 16:48:11.0000002         12.7  2009-03-23 16:48:11 UTC   \n",
       "405    2010-07-17 19:37:33.0000004         16.5  2010-07-17 19:37:33 UTC   \n",
       "202    2013-12-16 22:40:27.0000003          7.5  2013-12-16 22:40:27 UTC   \n",
       "301    2011-10-23 12:17:20.0000005          6.5  2011-10-23 12:17:20 UTC   \n",
       "66    2010-11-15 22:02:00.00000027          8.9  2010-11-15 22:02:00 UTC   \n",
       "709    2014-10-01 10:58:10.0000001         10.5  2014-10-01 10:58:10 UTC   \n",
       "133  2009-12-19 12:49:00.000000218          7.3  2009-12-19 12:49:00 UTC   \n",
       "498  2009-04-03 17:00:00.000000120          8.1  2009-04-03 17:00:00 UTC   \n",
       "\n",
       "     pickup_longitude  pickup_latitude  dropoff_longitude  dropoff_latitude  \\\n",
       "402        -73.990863        40.734183         -73.979647         40.733317   \n",
       "306        -73.984015        40.768056         -73.969524         40.762738   \n",
       "779        -73.986462        40.767072         -73.994782         40.741180   \n",
       "677        -73.974885        40.741945         -73.939910         40.832712   \n",
       "566        -73.957238        40.774432         -73.953425         40.778502   \n",
       "4          -74.005197        40.740512         -74.005500         40.726662   \n",
       "575        -74.007178        40.728327         -74.008308         40.711638   \n",
       "372        -73.980690        40.738425         -73.973226         40.754832   \n",
       "146        -73.984735        40.762618         -73.974370         40.765287   \n",
       "650        -73.977673        40.750232         -73.987870         40.749423   \n",
       "287        -73.982500        40.767520         -73.970382         40.788307   \n",
       "403        -73.855807        40.740990         -73.860248         40.748502   \n",
       "31         -73.985306        40.762342         -73.977828         40.753631   \n",
       "523        -73.961030        40.760766         -73.963046         40.770858   \n",
       "316        -73.982843        40.771998         -73.997502         40.747402   \n",
       "238        -73.990152        40.734627         -73.979740         40.755160   \n",
       "485        -73.988848        40.760520         -73.971858         40.743408   \n",
       "733        -73.952793        40.776395         -73.980707         40.742778   \n",
       "90         -73.994224        40.751123         -74.002428         40.749848   \n",
       "646        -73.992097        40.749344         -73.985247         40.739293   \n",
       "772        -73.990470        40.729487         -73.962010         40.777932   \n",
       "381        -73.969507        40.761138         -73.976261         40.760418   \n",
       "163        -74.016070        40.711182         -73.983735         40.775880   \n",
       "295        -73.951667        40.714059         -73.981991         40.683532   \n",
       "208          0.000000         0.000000         -73.989108         40.741367   \n",
       "738        -74.007537        40.741002         -73.997187         40.725522   \n",
       "687        -73.981308        40.764199         -73.961303         40.806288   \n",
       "370        -73.971680        40.763609         -73.981813         40.778306   \n",
       "236        -73.974615        40.762250         -74.016068         40.711230   \n",
       "552        -73.979781        40.760749         -73.950559         40.773207   \n",
       "..                ...              ...                ...               ...   \n",
       "624        -73.991470        40.716084         -73.987251         40.722000   \n",
       "792        -73.966547        40.765043         -73.960408         40.767951   \n",
       "228        -73.976932        40.756865         -74.002117         40.729792   \n",
       "139        -73.968795        40.750201         -73.969354         40.761252   \n",
       "266        -73.989149        40.747954         -73.982506         40.758131   \n",
       "100        -73.967148        40.772537         -73.960088         40.772772   \n",
       "409        -73.990591        40.756203         -73.976209         40.756904   \n",
       "782        -73.981469        40.745519         -73.967949         40.758463   \n",
       "482        -74.002477        40.739783         -73.972022         40.745615   \n",
       "94         -73.982518        40.745947         -73.990698         40.754703   \n",
       "383        -73.984123        40.743513         -73.959140         40.771950   \n",
       "1          -73.977285        40.746797         -73.949635         40.776340   \n",
       "204        -73.943677        40.810387         -73.947408         40.805280   \n",
       "76         -74.004452        40.772248         -74.016770         40.760642   \n",
       "180        -73.971966        40.760065         -73.956083         40.775846   \n",
       "111        -73.984383        40.768591         -73.980570         40.673183   \n",
       "799        -73.968873        40.766837         -73.960288         40.778453   \n",
       "726        -74.006569        40.733061         -74.005482         40.725774   \n",
       "526        -73.983370        40.754625         -73.998160         40.733033   \n",
       "116        -73.949623        40.787620         -73.953990         40.806221   \n",
       "773        -73.979788        40.765271         -73.972680         40.762900   \n",
       "48         -73.978200        40.783165         -73.967772         40.802532   \n",
       "764        -73.985730        40.795832         -73.981105         40.775220   \n",
       "405        -73.977977        40.786547         -74.002782         40.724991   \n",
       "202        -73.974818        40.755725         -73.979124         40.740719   \n",
       "301        -73.975000        40.763300         -73.965800         40.752700   \n",
       "66         -74.002948        40.733178         -73.987228         40.759482   \n",
       "709        -73.979601        40.771632         -73.978671         40.755920   \n",
       "133        -73.982605        40.775280         -73.973212         40.764243   \n",
       "498        -73.970502        40.758532         -73.985867         40.737508   \n",
       "\n",
       "     passenger_count  \n",
       "402                1  \n",
       "306                1  \n",
       "779                1  \n",
       "677                1  \n",
       "566                1  \n",
       "4                  1  \n",
       "575                1  \n",
       "372                1  \n",
       "146                1  \n",
       "650                1  \n",
       "287                1  \n",
       "403                1  \n",
       "31                 1  \n",
       "523                1  \n",
       "316                1  \n",
       "238                1  \n",
       "485                1  \n",
       "733                1  \n",
       "90                 1  \n",
       "646                1  \n",
       "772                1  \n",
       "381                1  \n",
       "163                1  \n",
       "295                1  \n",
       "208                1  \n",
       "738                1  \n",
       "687                1  \n",
       "370                1  \n",
       "236                1  \n",
       "552                1  \n",
       "..               ...  \n",
       "624                1  \n",
       "792                1  \n",
       "228                1  \n",
       "139                1  \n",
       "266                1  \n",
       "100                1  \n",
       "409                1  \n",
       "782                1  \n",
       "482                1  \n",
       "94                 1  \n",
       "383                1  \n",
       "1                  1  \n",
       "204                1  \n",
       "76                 1  \n",
       "180                1  \n",
       "111                1  \n",
       "799                1  \n",
       "726                1  \n",
       "526                1  \n",
       "116                1  \n",
       "773                1  \n",
       "48                 1  \n",
       "764                1  \n",
       "405                1  \n",
       "202                1  \n",
       "301                1  \n",
       "66                 1  \n",
       "709                1  \n",
       "133                1  \n",
       "498                1  \n",
       "\n",
       "[100 rows x 8 columns]"
      ]
     },
     "execution_count": 29,
     "metadata": {},
     "output_type": "execute_result"
    }
   ],
   "source": [
    "data_new.head(100)"
   ]
  },
  {
   "cell_type": "code",
   "execution_count": 42,
   "metadata": {},
   "outputs": [
    {
     "name": "stdout",
     "output_type": "stream",
     "text": [
      "Count2: 0 Count1: 603\n"
     ]
    }
   ],
   "source": [
    "#Checking whether \"passenger_count\" is other than 1\n",
    "count1=0\n",
    "count2=0\n",
    "for i in range(0,data_new.shape[0]):\n",
    "    if data_new.iloc[i,7]==2:\n",
    "        count2=count2+1\n",
    "    else:\n",
    "        count1=count1+1\n",
    "print(\"Count2:\",count2,\"Count1:\",count1)"
   ]
  },
  {
   "cell_type": "code",
   "execution_count": 32,
   "metadata": {},
   "outputs": [],
   "source": [
    "#data_new=data_new.drop(['Unnamed: 0','key'],axis=1)"
   ]
  },
  {
   "cell_type": "code",
   "execution_count": 33,
   "metadata": {},
   "outputs": [
    {
     "data": {
      "text/html": [
       "<div>\n",
       "<style scoped>\n",
       "    .dataframe tbody tr th:only-of-type {\n",
       "        vertical-align: middle;\n",
       "    }\n",
       "\n",
       "    .dataframe tbody tr th {\n",
       "        vertical-align: top;\n",
       "    }\n",
       "\n",
       "    .dataframe thead th {\n",
       "        text-align: right;\n",
       "    }\n",
       "</style>\n",
       "<table border=\"1\" class=\"dataframe\">\n",
       "  <thead>\n",
       "    <tr style=\"text-align: right;\">\n",
       "      <th></th>\n",
       "      <th>index</th>\n",
       "      <th>key</th>\n",
       "      <th>fare_amount</th>\n",
       "      <th>pickup_datetime</th>\n",
       "      <th>pickup_longitude</th>\n",
       "      <th>pickup_latitude</th>\n",
       "      <th>dropoff_longitude</th>\n",
       "      <th>dropoff_latitude</th>\n",
       "      <th>passenger_count</th>\n",
       "    </tr>\n",
       "  </thead>\n",
       "  <tbody>\n",
       "    <tr>\n",
       "      <th>0</th>\n",
       "      <td>402</td>\n",
       "      <td>2009-02-16 22:22:00.00000055</td>\n",
       "      <td>4.9</td>\n",
       "      <td>2009-02-16 22:22:00 UTC</td>\n",
       "      <td>-73.990863</td>\n",
       "      <td>40.734183</td>\n",
       "      <td>-73.979647</td>\n",
       "      <td>40.733317</td>\n",
       "      <td>1</td>\n",
       "    </tr>\n",
       "    <tr>\n",
       "      <th>1</th>\n",
       "      <td>306</td>\n",
       "      <td>2014-10-27 13:02:29.0000002</td>\n",
       "      <td>8.0</td>\n",
       "      <td>2014-10-27 13:02:29 UTC</td>\n",
       "      <td>-73.984015</td>\n",
       "      <td>40.768056</td>\n",
       "      <td>-73.969524</td>\n",
       "      <td>40.762738</td>\n",
       "      <td>1</td>\n",
       "    </tr>\n",
       "    <tr>\n",
       "      <th>2</th>\n",
       "      <td>779</td>\n",
       "      <td>2013-11-21 10:48:00.000000140</td>\n",
       "      <td>12.5</td>\n",
       "      <td>2013-11-21 10:48:00 UTC</td>\n",
       "      <td>-73.986462</td>\n",
       "      <td>40.767072</td>\n",
       "      <td>-73.994782</td>\n",
       "      <td>40.741180</td>\n",
       "      <td>1</td>\n",
       "    </tr>\n",
       "    <tr>\n",
       "      <th>3</th>\n",
       "      <td>677</td>\n",
       "      <td>2012-01-17 02:39:00.00000017</td>\n",
       "      <td>18.5</td>\n",
       "      <td>2012-01-17 02:39:00 UTC</td>\n",
       "      <td>-73.974885</td>\n",
       "      <td>40.741945</td>\n",
       "      <td>-73.939910</td>\n",
       "      <td>40.832712</td>\n",
       "      <td>1</td>\n",
       "    </tr>\n",
       "    <tr>\n",
       "      <th>4</th>\n",
       "      <td>566</td>\n",
       "      <td>2014-05-12 18:18:00.00000035</td>\n",
       "      <td>3.5</td>\n",
       "      <td>2014-05-12 18:18:00 UTC</td>\n",
       "      <td>-73.957238</td>\n",
       "      <td>40.774432</td>\n",
       "      <td>-73.953425</td>\n",
       "      <td>40.778502</td>\n",
       "      <td>1</td>\n",
       "    </tr>\n",
       "  </tbody>\n",
       "</table>\n",
       "</div>"
      ],
      "text/plain": [
       "   index                            key  fare_amount          pickup_datetime  \\\n",
       "0    402   2009-02-16 22:22:00.00000055          4.9  2009-02-16 22:22:00 UTC   \n",
       "1    306    2014-10-27 13:02:29.0000002          8.0  2014-10-27 13:02:29 UTC   \n",
       "2    779  2013-11-21 10:48:00.000000140         12.5  2013-11-21 10:48:00 UTC   \n",
       "3    677   2012-01-17 02:39:00.00000017         18.5  2012-01-17 02:39:00 UTC   \n",
       "4    566   2014-05-12 18:18:00.00000035          3.5  2014-05-12 18:18:00 UTC   \n",
       "\n",
       "   pickup_longitude  pickup_latitude  dropoff_longitude  dropoff_latitude  \\\n",
       "0        -73.990863        40.734183         -73.979647         40.733317   \n",
       "1        -73.984015        40.768056         -73.969524         40.762738   \n",
       "2        -73.986462        40.767072         -73.994782         40.741180   \n",
       "3        -73.974885        40.741945         -73.939910         40.832712   \n",
       "4        -73.957238        40.774432         -73.953425         40.778502   \n",
       "\n",
       "   passenger_count  \n",
       "0                1  \n",
       "1                1  \n",
       "2                1  \n",
       "3                1  \n",
       "4                1  "
      ]
     },
     "execution_count": 33,
     "metadata": {},
     "output_type": "execute_result"
    }
   ],
   "source": [
    "data_new.head().reset_index()"
   ]
  },
  {
   "cell_type": "code",
   "execution_count": 34,
   "metadata": {},
   "outputs": [
    {
     "data": {
      "text/plain": [
       "key                   object\n",
       "fare_amount          float64\n",
       "pickup_datetime       object\n",
       "pickup_longitude     float64\n",
       "pickup_latitude      float64\n",
       "dropoff_longitude    float64\n",
       "dropoff_latitude     float64\n",
       "passenger_count        int64\n",
       "dtype: object"
      ]
     },
     "execution_count": 34,
     "metadata": {},
     "output_type": "execute_result"
    }
   ],
   "source": [
    "data_new.dtypes"
   ]
  },
  {
   "cell_type": "code",
   "execution_count": 35,
   "metadata": {},
   "outputs": [
    {
     "data": {
      "text/html": [
       "<div>\n",
       "<style scoped>\n",
       "    .dataframe tbody tr th:only-of-type {\n",
       "        vertical-align: middle;\n",
       "    }\n",
       "\n",
       "    .dataframe tbody tr th {\n",
       "        vertical-align: top;\n",
       "    }\n",
       "\n",
       "    .dataframe thead th {\n",
       "        text-align: right;\n",
       "    }\n",
       "</style>\n",
       "<table border=\"1\" class=\"dataframe\">\n",
       "  <thead>\n",
       "    <tr style=\"text-align: right;\">\n",
       "      <th></th>\n",
       "      <th>fare_amount</th>\n",
       "      <th>pickup_longitude</th>\n",
       "      <th>pickup_latitude</th>\n",
       "      <th>dropoff_longitude</th>\n",
       "      <th>dropoff_latitude</th>\n",
       "      <th>passenger_count</th>\n",
       "    </tr>\n",
       "  </thead>\n",
       "  <tbody>\n",
       "    <tr>\n",
       "      <th>count</th>\n",
       "      <td>603.000000</td>\n",
       "      <td>603.000000</td>\n",
       "      <td>603.000000</td>\n",
       "      <td>603.000000</td>\n",
       "      <td>603.000000</td>\n",
       "      <td>603.0</td>\n",
       "    </tr>\n",
       "    <tr>\n",
       "      <th>mean</th>\n",
       "      <td>8.812769</td>\n",
       "      <td>-72.507467</td>\n",
       "      <td>39.941028</td>\n",
       "      <td>-72.628886</td>\n",
       "      <td>40.008905</td>\n",
       "      <td>1.0</td>\n",
       "    </tr>\n",
       "    <tr>\n",
       "      <th>std</th>\n",
       "      <td>3.971893</td>\n",
       "      <td>10.340483</td>\n",
       "      <td>5.696127</td>\n",
       "      <td>9.908464</td>\n",
       "      <td>5.458296</td>\n",
       "      <td>0.0</td>\n",
       "    </tr>\n",
       "    <tr>\n",
       "      <th>min</th>\n",
       "      <td>2.500000</td>\n",
       "      <td>-74.017159</td>\n",
       "      <td>0.000000</td>\n",
       "      <td>-74.016869</td>\n",
       "      <td>0.000000</td>\n",
       "      <td>1.0</td>\n",
       "    </tr>\n",
       "    <tr>\n",
       "      <th>25%</th>\n",
       "      <td>6.000000</td>\n",
       "      <td>-73.991437</td>\n",
       "      <td>40.735512</td>\n",
       "      <td>-73.991134</td>\n",
       "      <td>40.736466</td>\n",
       "      <td>1.0</td>\n",
       "    </tr>\n",
       "    <tr>\n",
       "      <th>50%</th>\n",
       "      <td>8.000000</td>\n",
       "      <td>-73.981642</td>\n",
       "      <td>40.753160</td>\n",
       "      <td>-73.980025</td>\n",
       "      <td>40.752549</td>\n",
       "      <td>1.0</td>\n",
       "    </tr>\n",
       "    <tr>\n",
       "      <th>75%</th>\n",
       "      <td>11.300000</td>\n",
       "      <td>-73.968428</td>\n",
       "      <td>40.765780</td>\n",
       "      <td>-73.967578</td>\n",
       "      <td>40.765809</td>\n",
       "      <td>1.0</td>\n",
       "    </tr>\n",
       "    <tr>\n",
       "      <th>max</th>\n",
       "      <td>20.100000</td>\n",
       "      <td>0.000000</td>\n",
       "      <td>40.810791</td>\n",
       "      <td>0.000000</td>\n",
       "      <td>40.865128</td>\n",
       "      <td>1.0</td>\n",
       "    </tr>\n",
       "  </tbody>\n",
       "</table>\n",
       "</div>"
      ],
      "text/plain": [
       "       fare_amount  pickup_longitude  pickup_latitude  dropoff_longitude  \\\n",
       "count   603.000000        603.000000       603.000000         603.000000   \n",
       "mean      8.812769        -72.507467        39.941028         -72.628886   \n",
       "std       3.971893         10.340483         5.696127           9.908464   \n",
       "min       2.500000        -74.017159         0.000000         -74.016869   \n",
       "25%       6.000000        -73.991437        40.735512         -73.991134   \n",
       "50%       8.000000        -73.981642        40.753160         -73.980025   \n",
       "75%      11.300000        -73.968428        40.765780         -73.967578   \n",
       "max      20.100000          0.000000        40.810791           0.000000   \n",
       "\n",
       "       dropoff_latitude  passenger_count  \n",
       "count        603.000000            603.0  \n",
       "mean          40.008905              1.0  \n",
       "std            5.458296              0.0  \n",
       "min            0.000000              1.0  \n",
       "25%           40.736466              1.0  \n",
       "50%           40.752549              1.0  \n",
       "75%           40.765809              1.0  \n",
       "max           40.865128              1.0  "
      ]
     },
     "execution_count": 35,
     "metadata": {},
     "output_type": "execute_result"
    }
   ],
   "source": [
    "data_new.describe()"
   ]
  },
  {
   "cell_type": "code",
   "execution_count": null,
   "metadata": {},
   "outputs": [],
   "source": [
    "#Since PICKUP_DATETIME is an object, therefore FIXING IT...."
   ]
  },
  {
   "cell_type": "code",
   "execution_count": 36,
   "metadata": {},
   "outputs": [],
   "source": [
    "data_new['pickup_datetime']=pd.to_datetime(data_new['pickup_datetime'],format='%Y-%m-%d %H:%M:%S UTC')"
   ]
  },
  {
   "cell_type": "code",
   "execution_count": null,
   "metadata": {},
   "outputs": [],
   "source": [
    "#separating PICKUP_DATETIME into separate variables...FEATURE ENGINEERING"
   ]
  },
  {
   "cell_type": "code",
   "execution_count": 37,
   "metadata": {},
   "outputs": [],
   "source": [
    "data_new['Year']=data_new['pickup_datetime'].dt.year\n",
    "data_new['Month']=data_new['pickup_datetime'].dt.month\n",
    "data_new['Date']=data_new['pickup_datetime'].dt.day\n",
    "data_new['Day']=data_new['pickup_datetime'].dt.dayofweek\n",
    "data_new['Hour']=data_new['pickup_datetime'].dt.hour\n",
    "data_new['Minute']=data_new['pickup_datetime'].dt.minute\n"
   ]
  },
  {
   "cell_type": "code",
   "execution_count": 47,
   "metadata": {},
   "outputs": [
    {
     "data": {
      "text/html": [
       "<div>\n",
       "<style scoped>\n",
       "    .dataframe tbody tr th:only-of-type {\n",
       "        vertical-align: middle;\n",
       "    }\n",
       "\n",
       "    .dataframe tbody tr th {\n",
       "        vertical-align: top;\n",
       "    }\n",
       "\n",
       "    .dataframe thead th {\n",
       "        text-align: right;\n",
       "    }\n",
       "</style>\n",
       "<table border=\"1\" class=\"dataframe\">\n",
       "  <thead>\n",
       "    <tr style=\"text-align: right;\">\n",
       "      <th></th>\n",
       "      <th>key</th>\n",
       "      <th>fare_amount</th>\n",
       "      <th>pickup_datetime</th>\n",
       "      <th>pickup_longitude</th>\n",
       "      <th>pickup_latitude</th>\n",
       "      <th>dropoff_longitude</th>\n",
       "      <th>dropoff_latitude</th>\n",
       "      <th>passenger_count</th>\n",
       "      <th>Year</th>\n",
       "      <th>Month</th>\n",
       "      <th>Date</th>\n",
       "      <th>Day</th>\n",
       "      <th>Hour</th>\n",
       "      <th>Minute</th>\n",
       "    </tr>\n",
       "  </thead>\n",
       "  <tbody>\n",
       "    <tr>\n",
       "      <th>402</th>\n",
       "      <td>2009-02-16 22:22:00.00000055</td>\n",
       "      <td>4.9</td>\n",
       "      <td>2009-02-16 22:22:00</td>\n",
       "      <td>-73.990863</td>\n",
       "      <td>40.734183</td>\n",
       "      <td>-73.979647</td>\n",
       "      <td>40.733317</td>\n",
       "      <td>1</td>\n",
       "      <td>2009</td>\n",
       "      <td>2</td>\n",
       "      <td>16</td>\n",
       "      <td>0</td>\n",
       "      <td>22</td>\n",
       "      <td>22</td>\n",
       "    </tr>\n",
       "    <tr>\n",
       "      <th>306</th>\n",
       "      <td>2014-10-27 13:02:29.0000002</td>\n",
       "      <td>8.0</td>\n",
       "      <td>2014-10-27 13:02:29</td>\n",
       "      <td>-73.984015</td>\n",
       "      <td>40.768056</td>\n",
       "      <td>-73.969524</td>\n",
       "      <td>40.762738</td>\n",
       "      <td>1</td>\n",
       "      <td>2014</td>\n",
       "      <td>10</td>\n",
       "      <td>27</td>\n",
       "      <td>0</td>\n",
       "      <td>13</td>\n",
       "      <td>2</td>\n",
       "    </tr>\n",
       "    <tr>\n",
       "      <th>779</th>\n",
       "      <td>2013-11-21 10:48:00.000000140</td>\n",
       "      <td>12.5</td>\n",
       "      <td>2013-11-21 10:48:00</td>\n",
       "      <td>-73.986462</td>\n",
       "      <td>40.767072</td>\n",
       "      <td>-73.994782</td>\n",
       "      <td>40.741180</td>\n",
       "      <td>1</td>\n",
       "      <td>2013</td>\n",
       "      <td>11</td>\n",
       "      <td>21</td>\n",
       "      <td>3</td>\n",
       "      <td>10</td>\n",
       "      <td>48</td>\n",
       "    </tr>\n",
       "    <tr>\n",
       "      <th>677</th>\n",
       "      <td>2012-01-17 02:39:00.00000017</td>\n",
       "      <td>18.5</td>\n",
       "      <td>2012-01-17 02:39:00</td>\n",
       "      <td>-73.974885</td>\n",
       "      <td>40.741945</td>\n",
       "      <td>-73.939910</td>\n",
       "      <td>40.832712</td>\n",
       "      <td>1</td>\n",
       "      <td>2012</td>\n",
       "      <td>1</td>\n",
       "      <td>17</td>\n",
       "      <td>1</td>\n",
       "      <td>2</td>\n",
       "      <td>39</td>\n",
       "    </tr>\n",
       "    <tr>\n",
       "      <th>566</th>\n",
       "      <td>2014-05-12 18:18:00.00000035</td>\n",
       "      <td>3.5</td>\n",
       "      <td>2014-05-12 18:18:00</td>\n",
       "      <td>-73.957238</td>\n",
       "      <td>40.774432</td>\n",
       "      <td>-73.953425</td>\n",
       "      <td>40.778502</td>\n",
       "      <td>1</td>\n",
       "      <td>2014</td>\n",
       "      <td>5</td>\n",
       "      <td>12</td>\n",
       "      <td>0</td>\n",
       "      <td>18</td>\n",
       "      <td>18</td>\n",
       "    </tr>\n",
       "  </tbody>\n",
       "</table>\n",
       "</div>"
      ],
      "text/plain": [
       "                               key  fare_amount     pickup_datetime  \\\n",
       "402   2009-02-16 22:22:00.00000055          4.9 2009-02-16 22:22:00   \n",
       "306    2014-10-27 13:02:29.0000002          8.0 2014-10-27 13:02:29   \n",
       "779  2013-11-21 10:48:00.000000140         12.5 2013-11-21 10:48:00   \n",
       "677   2012-01-17 02:39:00.00000017         18.5 2012-01-17 02:39:00   \n",
       "566   2014-05-12 18:18:00.00000035          3.5 2014-05-12 18:18:00   \n",
       "\n",
       "     pickup_longitude  pickup_latitude  dropoff_longitude  dropoff_latitude  \\\n",
       "402        -73.990863        40.734183         -73.979647         40.733317   \n",
       "306        -73.984015        40.768056         -73.969524         40.762738   \n",
       "779        -73.986462        40.767072         -73.994782         40.741180   \n",
       "677        -73.974885        40.741945         -73.939910         40.832712   \n",
       "566        -73.957238        40.774432         -73.953425         40.778502   \n",
       "\n",
       "     passenger_count  Year  Month  Date  Day  Hour  Minute  \n",
       "402                1  2009      2    16    0    22      22  \n",
       "306                1  2014     10    27    0    13       2  \n",
       "779                1  2013     11    21    3    10      48  \n",
       "677                1  2012      1    17    1     2      39  \n",
       "566                1  2014      5    12    0    18      18  "
      ]
     },
     "execution_count": 47,
     "metadata": {},
     "output_type": "execute_result"
    }
   ],
   "source": [
    "data_new.head()"
   ]
  },
  {
   "cell_type": "code",
   "execution_count": 39,
   "metadata": {},
   "outputs": [
    {
     "data": {
      "text/plain": [
       "array([1], dtype=int64)"
      ]
     },
     "execution_count": 39,
     "metadata": {},
     "output_type": "execute_result"
    }
   ],
   "source": [
    "data_new['passenger_count'].isnull().sum()\n",
    "data_new['passenger_count'].unique()"
   ]
  },
  {
   "cell_type": "code",
   "execution_count": 45,
   "metadata": {},
   "outputs": [
    {
     "data": {
      "text/plain": [
       "count    603.000000\n",
       "mean       8.812769\n",
       "std        3.971893\n",
       "min        2.500000\n",
       "25%        6.000000\n",
       "50%        8.000000\n",
       "75%       11.300000\n",
       "max       20.100000\n",
       "Name: fare_amount, dtype: float64"
      ]
     },
     "execution_count": 45,
     "metadata": {},
     "output_type": "execute_result"
    }
   ],
   "source": [
    "data_new['fare_amount'].describe()"
   ]
  },
  {
   "cell_type": "code",
   "execution_count": 46,
   "metadata": {},
   "outputs": [],
   "source": [
    "#Working on Latitiude and longitudes"
   ]
  },
  {
   "cell_type": "code",
   "execution_count": 59,
   "metadata": {
    "scrolled": true
   },
   "outputs": [],
   "source": [
    "data_new=data_new.drop(['key','pickup_datetime','index','level_0'],axis=1)\n",
    "\n"
   ]
  },
  {
   "cell_type": "code",
   "execution_count": 60,
   "metadata": {},
   "outputs": [
    {
     "data": {
      "text/html": [
       "<div>\n",
       "<style scoped>\n",
       "    .dataframe tbody tr th:only-of-type {\n",
       "        vertical-align: middle;\n",
       "    }\n",
       "\n",
       "    .dataframe tbody tr th {\n",
       "        vertical-align: top;\n",
       "    }\n",
       "\n",
       "    .dataframe thead th {\n",
       "        text-align: right;\n",
       "    }\n",
       "</style>\n",
       "<table border=\"1\" class=\"dataframe\">\n",
       "  <thead>\n",
       "    <tr style=\"text-align: right;\">\n",
       "      <th></th>\n",
       "      <th>fare_amount</th>\n",
       "      <th>pickup_longitude</th>\n",
       "      <th>pickup_latitude</th>\n",
       "      <th>dropoff_longitude</th>\n",
       "      <th>dropoff_latitude</th>\n",
       "      <th>passenger_count</th>\n",
       "      <th>Year</th>\n",
       "      <th>Month</th>\n",
       "      <th>Date</th>\n",
       "      <th>Day</th>\n",
       "      <th>Hour</th>\n",
       "      <th>Minute</th>\n",
       "    </tr>\n",
       "  </thead>\n",
       "  <tbody>\n",
       "    <tr>\n",
       "      <th>0</th>\n",
       "      <td>4.9</td>\n",
       "      <td>-73.990863</td>\n",
       "      <td>40.734183</td>\n",
       "      <td>-73.979647</td>\n",
       "      <td>40.733317</td>\n",
       "      <td>1</td>\n",
       "      <td>2009</td>\n",
       "      <td>2</td>\n",
       "      <td>16</td>\n",
       "      <td>0</td>\n",
       "      <td>22</td>\n",
       "      <td>22</td>\n",
       "    </tr>\n",
       "    <tr>\n",
       "      <th>1</th>\n",
       "      <td>8.0</td>\n",
       "      <td>-73.984015</td>\n",
       "      <td>40.768056</td>\n",
       "      <td>-73.969524</td>\n",
       "      <td>40.762738</td>\n",
       "      <td>1</td>\n",
       "      <td>2014</td>\n",
       "      <td>10</td>\n",
       "      <td>27</td>\n",
       "      <td>0</td>\n",
       "      <td>13</td>\n",
       "      <td>2</td>\n",
       "    </tr>\n",
       "    <tr>\n",
       "      <th>2</th>\n",
       "      <td>12.5</td>\n",
       "      <td>-73.986462</td>\n",
       "      <td>40.767072</td>\n",
       "      <td>-73.994782</td>\n",
       "      <td>40.741180</td>\n",
       "      <td>1</td>\n",
       "      <td>2013</td>\n",
       "      <td>11</td>\n",
       "      <td>21</td>\n",
       "      <td>3</td>\n",
       "      <td>10</td>\n",
       "      <td>48</td>\n",
       "    </tr>\n",
       "    <tr>\n",
       "      <th>3</th>\n",
       "      <td>18.5</td>\n",
       "      <td>-73.974885</td>\n",
       "      <td>40.741945</td>\n",
       "      <td>-73.939910</td>\n",
       "      <td>40.832712</td>\n",
       "      <td>1</td>\n",
       "      <td>2012</td>\n",
       "      <td>1</td>\n",
       "      <td>17</td>\n",
       "      <td>1</td>\n",
       "      <td>2</td>\n",
       "      <td>39</td>\n",
       "    </tr>\n",
       "    <tr>\n",
       "      <th>4</th>\n",
       "      <td>3.5</td>\n",
       "      <td>-73.957238</td>\n",
       "      <td>40.774432</td>\n",
       "      <td>-73.953425</td>\n",
       "      <td>40.778502</td>\n",
       "      <td>1</td>\n",
       "      <td>2014</td>\n",
       "      <td>5</td>\n",
       "      <td>12</td>\n",
       "      <td>0</td>\n",
       "      <td>18</td>\n",
       "      <td>18</td>\n",
       "    </tr>\n",
       "  </tbody>\n",
       "</table>\n",
       "</div>"
      ],
      "text/plain": [
       "   fare_amount  pickup_longitude  pickup_latitude  dropoff_longitude  \\\n",
       "0          4.9        -73.990863        40.734183         -73.979647   \n",
       "1          8.0        -73.984015        40.768056         -73.969524   \n",
       "2         12.5        -73.986462        40.767072         -73.994782   \n",
       "3         18.5        -73.974885        40.741945         -73.939910   \n",
       "4          3.5        -73.957238        40.774432         -73.953425   \n",
       "\n",
       "   dropoff_latitude  passenger_count  Year  Month  Date  Day  Hour  Minute  \n",
       "0         40.733317                1  2009      2    16    0    22      22  \n",
       "1         40.762738                1  2014     10    27    0    13       2  \n",
       "2         40.741180                1  2013     11    21    3    10      48  \n",
       "3         40.832712                1  2012      1    17    1     2      39  \n",
       "4         40.778502                1  2014      5    12    0    18      18  "
      ]
     },
     "execution_count": 60,
     "metadata": {},
     "output_type": "execute_result"
    }
   ],
   "source": [
    "data_new.head()"
   ]
  },
  {
   "cell_type": "code",
   "execution_count": 66,
   "metadata": {},
   "outputs": [
    {
     "data": {
      "text/html": [
       "<div>\n",
       "<style scoped>\n",
       "    .dataframe tbody tr th:only-of-type {\n",
       "        vertical-align: middle;\n",
       "    }\n",
       "\n",
       "    .dataframe tbody tr th {\n",
       "        vertical-align: top;\n",
       "    }\n",
       "\n",
       "    .dataframe thead th {\n",
       "        text-align: right;\n",
       "    }\n",
       "</style>\n",
       "<table border=\"1\" class=\"dataframe\">\n",
       "  <thead>\n",
       "    <tr style=\"text-align: right;\">\n",
       "      <th></th>\n",
       "      <th>fare_amount</th>\n",
       "      <th>pickup_longitude</th>\n",
       "      <th>pickup_latitude</th>\n",
       "      <th>dropoff_longitude</th>\n",
       "      <th>dropoff_latitude</th>\n",
       "      <th>passenger_count</th>\n",
       "      <th>Year</th>\n",
       "      <th>Month</th>\n",
       "      <th>Date</th>\n",
       "      <th>Day</th>\n",
       "      <th>Hour</th>\n",
       "      <th>Minute</th>\n",
       "    </tr>\n",
       "  </thead>\n",
       "  <tbody>\n",
       "  </tbody>\n",
       "</table>\n",
       "</div>"
      ],
      "text/plain": [
       "Empty DataFrame\n",
       "Columns: [fare_amount, pickup_longitude, pickup_latitude, dropoff_longitude, dropoff_latitude, passenger_count, Year, Month, Date, Day, Hour, Minute]\n",
       "Index: []"
      ]
     },
     "execution_count": 66,
     "metadata": {},
     "output_type": "execute_result"
    }
   ],
   "source": [
    "data_new[data_new['pickup_latitude']<-90]"
   ]
  },
  {
   "cell_type": "code",
   "execution_count": 70,
   "metadata": {},
   "outputs": [
    {
     "data": {
      "text/html": [
       "<div>\n",
       "<style scoped>\n",
       "    .dataframe tbody tr th:only-of-type {\n",
       "        vertical-align: middle;\n",
       "    }\n",
       "\n",
       "    .dataframe tbody tr th {\n",
       "        vertical-align: top;\n",
       "    }\n",
       "\n",
       "    .dataframe thead th {\n",
       "        text-align: right;\n",
       "    }\n",
       "</style>\n",
       "<table border=\"1\" class=\"dataframe\">\n",
       "  <thead>\n",
       "    <tr style=\"text-align: right;\">\n",
       "      <th></th>\n",
       "      <th>fare_amount</th>\n",
       "      <th>pickup_longitude</th>\n",
       "      <th>pickup_latitude</th>\n",
       "      <th>dropoff_longitude</th>\n",
       "      <th>dropoff_latitude</th>\n",
       "      <th>passenger_count</th>\n",
       "      <th>Year</th>\n",
       "      <th>Month</th>\n",
       "      <th>Date</th>\n",
       "      <th>Day</th>\n",
       "      <th>Hour</th>\n",
       "      <th>Minute</th>\n",
       "    </tr>\n",
       "  </thead>\n",
       "  <tbody>\n",
       "  </tbody>\n",
       "</table>\n",
       "</div>"
      ],
      "text/plain": [
       "Empty DataFrame\n",
       "Columns: [fare_amount, pickup_longitude, pickup_latitude, dropoff_longitude, dropoff_latitude, passenger_count, Year, Month, Date, Day, Hour, Minute]\n",
       "Index: []"
      ]
     },
     "execution_count": 70,
     "metadata": {},
     "output_type": "execute_result"
    }
   ],
   "source": [
    "data_new[data_new['dropoff_longitude']<-180]"
   ]
  },
  {
   "cell_type": "code",
   "execution_count": 71,
   "metadata": {},
   "outputs": [
    {
     "data": {
      "text/plain": [
       "fare_amount          0\n",
       "pickup_longitude     0\n",
       "pickup_latitude      0\n",
       "dropoff_longitude    0\n",
       "dropoff_latitude     0\n",
       "passenger_count      0\n",
       "Year                 0\n",
       "Month                0\n",
       "Date                 0\n",
       "Day                  0\n",
       "Hour                 0\n",
       "Minute               0\n",
       "dtype: int64"
      ]
     },
     "execution_count": 71,
     "metadata": {},
     "output_type": "execute_result"
    }
   ],
   "source": [
    "data_new.isnull().sum()"
   ]
  },
  {
   "cell_type": "code",
   "execution_count": 72,
   "metadata": {},
   "outputs": [],
   "source": [
    "#Calculating distance from latitudes and longitudes"
   ]
  },
  {
   "cell_type": "code",
   "execution_count": 73,
   "metadata": {},
   "outputs": [],
   "source": [
    "from math import radians, cos, sin, asin, sqrt\n",
    "\n",
    "def haversine(a):\n",
    "    lon1=a[0]\n",
    "    lat1=a[1]\n",
    "    lon2=a[2]\n",
    "    lat2=a[3]\n",
    "    \"\"\"\n",
    "    Calculate the great circle distance between two points \n",
    "    on the earth (specified in decimal degrees)\n",
    "    \"\"\"\n",
    "    # convert decimal degrees to radians \n",
    "    lon1, lat1, lon2, lat2 = map(radians, [lon1, lat1, lon2, lat2])\n",
    "    \n",
    "    # haversine formula \n",
    "    dlon = lon2 - lon1 \n",
    "    dlat = lat2 - lat1 \n",
    "    a = sin(dlat/2)**2 + cos(lat1) * cos(lat2) * sin(dlon/2)**2\n",
    "    c =  2 * asin(sqrt(a))\n",
    "    # Radius of earth in kilometers is 6371\n",
    "    km = 6371* c\n",
    "    return km"
   ]
  },
  {
   "cell_type": "code",
   "execution_count": 76,
   "metadata": {},
   "outputs": [],
   "source": [
    "\n",
    "data_new['distance(in kms)'] = data_new[['pickup_longitude','pickup_latitude','dropoff_longitude','dropoff_latitude']].apply(haversine,axis=1)"
   ]
  },
  {
   "cell_type": "code",
   "execution_count": 78,
   "metadata": {},
   "outputs": [],
   "source": [
    "data_new=data_new.drop(['distance'],axis=1)"
   ]
  },
  {
   "cell_type": "code",
   "execution_count": 81,
   "metadata": {},
   "outputs": [],
   "source": [
    "data_new=data_new.drop(['pickup_longitude','pickup_latitude','dropoff_longitude','dropoff_latitude'],axis=1)"
   ]
  },
  {
   "cell_type": "code",
   "execution_count": 85,
   "metadata": {},
   "outputs": [],
   "source": [
    "data_new=data_new.drop(data_new[data_new['distance(in kms)']==0].index,axis=0)"
   ]
  },
  {
   "cell_type": "code",
   "execution_count": 91,
   "metadata": {},
   "outputs": [
    {
     "data": {
      "text/html": [
       "<div>\n",
       "<style scoped>\n",
       "    .dataframe tbody tr th:only-of-type {\n",
       "        vertical-align: middle;\n",
       "    }\n",
       "\n",
       "    .dataframe tbody tr th {\n",
       "        vertical-align: top;\n",
       "    }\n",
       "\n",
       "    .dataframe thead th {\n",
       "        text-align: right;\n",
       "    }\n",
       "</style>\n",
       "<table border=\"1\" class=\"dataframe\">\n",
       "  <thead>\n",
       "    <tr style=\"text-align: right;\">\n",
       "      <th></th>\n",
       "      <th>fare_amount</th>\n",
       "      <th>passenger_count</th>\n",
       "      <th>Year</th>\n",
       "      <th>Month</th>\n",
       "      <th>Date</th>\n",
       "      <th>Day</th>\n",
       "      <th>Hour</th>\n",
       "      <th>Minute</th>\n",
       "      <th>distance(in kms)</th>\n",
       "    </tr>\n",
       "  </thead>\n",
       "  <tbody>\n",
       "  </tbody>\n",
       "</table>\n",
       "</div>"
      ],
      "text/plain": [
       "Empty DataFrame\n",
       "Columns: [fare_amount, passenger_count, Year, Month, Date, Day, Hour, Minute, distance(in kms)]\n",
       "Index: []"
      ]
     },
     "execution_count": 91,
     "metadata": {},
     "output_type": "execute_result"
    }
   ],
   "source": [
    "data_new[data_new['distance(in kms)']==0]"
   ]
  },
  {
   "cell_type": "code",
   "execution_count": 99,
   "metadata": {},
   "outputs": [
    {
     "data": {
      "text/plain": [
       "count    588.000000\n",
       "mean       2.527789\n",
       "std        1.922092\n",
       "min        0.000589\n",
       "25%        1.223571\n",
       "50%        1.996108\n",
       "75%        3.304496\n",
       "max       19.963453\n",
       "Name: distance(in kms), dtype: float64"
      ]
     },
     "execution_count": 99,
     "metadata": {},
     "output_type": "execute_result"
    }
   ],
   "source": [
    "data_new['distance(in kms)'].describe()"
   ]
  },
  {
   "cell_type": "code",
   "execution_count": 98,
   "metadata": {},
   "outputs": [],
   "source": [
    "#Removing outlier\n",
    "data_new=data_new.drop(data_new[data_new['distance(in kms)']>8000].index,axis=0)"
   ]
  },
  {
   "cell_type": "code",
   "execution_count": 100,
   "metadata": {},
   "outputs": [
    {
     "data": {
      "text/plain": [
       "fare_amount         float64\n",
       "passenger_count       int64\n",
       "Year                  int64\n",
       "Month                 int64\n",
       "Date                  int64\n",
       "Day                   int64\n",
       "Hour                  int64\n",
       "Minute                int64\n",
       "distance(in kms)    float64\n",
       "dtype: object"
      ]
     },
     "execution_count": 100,
     "metadata": {},
     "output_type": "execute_result"
    }
   ],
   "source": [
    "data_new.dtypes"
   ]
  },
  {
   "cell_type": "markdown",
   "metadata": {},
   "source": [
    "DATA VISUALIZATION"
   ]
  },
  {
   "cell_type": "code",
   "execution_count": 101,
   "metadata": {},
   "outputs": [
    {
     "data": {
      "text/plain": [
       "Index(['fare_amount', 'passenger_count', 'Year', 'Month', 'Date', 'Day',\n",
       "       'Hour', 'Minute', 'distance(in kms)'],\n",
       "      dtype='object')"
      ]
     },
     "execution_count": 101,
     "metadata": {},
     "output_type": "execute_result"
    }
   ],
   "source": [
    "data_new.columns"
   ]
  },
  {
   "cell_type": "markdown",
   "metadata": {},
   "source": [
    "1. countplot for passenger count"
   ]
  },
  {
   "cell_type": "code",
   "execution_count": 107,
   "metadata": {},
   "outputs": [
    {
     "data": {
      "text/plain": [
       "<matplotlib.axes._subplots.AxesSubplot at 0x227307db898>"
      ]
     },
     "execution_count": 107,
     "metadata": {},
     "output_type": "execute_result"
    },
    {
     "data": {
      "image/png": "[encoded data removed]",
      "text/plain": [
       "<Figure size 720x360 with 1 Axes>"
      ]
     },
     "metadata": {
      "needs_background": "light"
     },
     "output_type": "display_data"
    }
   ],
   "source": [
    "plt.figure(figsize=(10,5))\n",
    "sns.countplot(x=\"passenger_count\",data=data_new)"
   ]
  },
  {
   "cell_type": "markdown",
   "metadata": {},
   "source": [
    "2. Countplot for Time durations"
   ]
  },
  {
   "cell_type": "code",
   "execution_count": 111,
   "metadata": {},
   "outputs": [
    {
     "data": {
      "text/plain": [
       "<matplotlib.axes._subplots.AxesSubplot at 0x2273052acc0>"
      ]
     },
     "execution_count": 111,
     "metadata": {},
     "output_type": "execute_result"
    },
    {
     "data": {
      "image/png": "[encoded data removed]",
      "text/plain": [
       "<Figure size 720x360 with 1 Axes>"
      ]
     },
     "metadata": {
      "needs_background": "light"
     },
     "output_type": "display_data"
    }
   ],
   "source": [
    "plt.figure(figsize=(10,5))\n",
    "sns.countplot(x=\"Month\",data=data_new)\n"
   ]
  },
  {
   "cell_type": "code",
   "execution_count": 113,
   "metadata": {},
   "outputs": [
    {
     "data": {
      "text/plain": [
       "<matplotlib.axes._subplots.AxesSubplot at 0x227308b0940>"
      ]
     },
     "execution_count": 113,
     "metadata": {},
     "output_type": "execute_result"
    },
    {
     "data": {
      "image/png": "[encoded data removed]",
      "text/plain": [
       "<Figure size 720x360 with 1 Axes>"
      ]
     },
     "metadata": {
      "needs_background": "light"
     },
     "output_type": "display_data"
    }
   ],
   "source": [
    "plt.figure(figsize=(10,5))\n",
    "sns.countplot(x=\"Year\",data=data_new)"
   ]
  },
  {
   "cell_type": "code",
   "execution_count": 114,
   "metadata": {},
   "outputs": [
    {
     "data": {
      "text/plain": [
       "<matplotlib.axes._subplots.AxesSubplot at 0x2273089cef0>"
      ]
     },
     "execution_count": 114,
     "metadata": {},
     "output_type": "execute_result"
    },
    {
     "data": {
      "image/png": "[encoded data removed]",
      "text/plain": [
       "<Figure size 720x360 with 1 Axes>"
      ]
     },
     "metadata": {
      "needs_background": "light"
     },
     "output_type": "display_data"
    }
   ],
   "source": [
    "plt.figure(figsize=(10,5))\n",
    "sns.countplot(x=\"Day\",data=data_new)"
   ]
  },
  {
   "cell_type": "code",
   "execution_count": 115,
   "metadata": {},
   "outputs": [
    {
     "data": {
      "text/plain": [
       "<matplotlib.axes._subplots.AxesSubplot at 0x2273062f6a0>"
      ]
     },
     "execution_count": 115,
     "metadata": {},
     "output_type": "execute_result"
    },
    {
     "data": {
      "image/png": "[encoded data removed]",
      "text/plain": [
       "<Figure size 720x360 with 1 Axes>"
      ]
     },
     "metadata": {
      "needs_background": "light"
     },
     "output_type": "display_data"
    }
   ],
   "source": [
    "plt.figure(figsize=(10,5))\n",
    "sns.countplot(x=\"Hour\",data=data_new)"
   ]
  },
  {
   "cell_type": "markdown",
   "metadata": {},
   "source": [
    "3. Relationship bw passengers and fare"
   ]
  },
  {
   "cell_type": "code",
   "execution_count": 120,
   "metadata": {},
   "outputs": [
    {
     "data": {
      "text/plain": [
       "[<matplotlib.lines.Line2D at 0x2272f4c0cc0>]"
      ]
     },
     "execution_count": 120,
     "metadata": {},
     "output_type": "execute_result"
    },
    {
     "data": {
      "image/png": "[encoded data removed]",
      "text/plain": [
       "<Figure size 432x288 with 1 Axes>"
      ]
     },
     "metadata": {
      "needs_background": "light"
     },
     "output_type": "display_data"
    }
   ],
   "source": [
    "plt.xlabel(\"Passengers count\")\n",
    "plt.ylabel(\"Fare amount\")\n",
    "plt.plot(\"passenger_count\",\"fare_amount\",data=data_new)"
   ]
  },
  {
   "cell_type": "markdown",
   "metadata": {},
   "source": [
    "4. Relationship bw Pickup data+time and fare amount"
   ]
  },
  {
   "cell_type": "code",
   "execution_count": 124,
   "metadata": {},
   "outputs": [
    {
     "data": {
      "image/png": "[encoded data removed]",
      "text/plain": [
       "<Figure size 720x360 with 1 Axes>"
      ]
     },
     "metadata": {
      "needs_background": "light"
     },
     "output_type": "display_data"
    }
   ],
   "source": [
    "plt.figure(figsize=(10,5))\n",
    "plt.scatter(x=data_new['Hour'], y=data_new['fare_amount'] ,s=10)\n",
    "plt.xlabel(\"Day of the week\")\n",
    "plt.ylabel(\"Fare amount\")\n",
    "plt.show()"
   ]
  },
  {
   "cell_type": "markdown",
   "metadata": {},
   "source": [
    "5. Relationship between distance and the fare"
   ]
  },
  {
   "cell_type": "code",
   "execution_count": 126,
   "metadata": {},
   "outputs": [
    {
     "data": {
      "image/png": "[encoded data removed]",
      "text/plain": [
       "<Figure size 1440x720 with 1 Axes>"
      ]
     },
     "metadata": {
      "needs_background": "light"
     },
     "output_type": "display_data"
    }
   ],
   "source": [
    "plt.figure(figsize=(20,10))\n",
    "plt.scatter(x=data_new['distance(in kms)'], y=data_new['fare_amount'] ,s=10)\n",
    "plt.xlabel(\"Distance\")\n",
    "plt.ylabel(\"Fare amount\")\n",
    "plt.show()"
   ]
  },
  {
   "cell_type": "markdown",
   "metadata": {},
   "source": [
    "FEATURE SCALING"
   ]
  },
  {
   "cell_type": "code",
   "execution_count": 223,
   "metadata": {},
   "outputs": [
    {
     "data": {
      "image/png": "[encoded data removed]",
      "text/plain": [
       "<Figure size 1440x720 with 1 Axes>"
      ]
     },
     "metadata": {
      "needs_background": "light"
     },
     "output_type": "display_data"
    },
    {
     "data": {
      "image/png": "[encoded data removed]",
      "text/plain": [
       "<Figure size 1440x720 with 1 Axes>"
      ]
     },
     "metadata": {
      "needs_background": "light"
     },
     "output_type": "display_data"
    }
   ],
   "source": [
    "for i in [\"fare_amount\",\"distance(in kms)\"]:\n",
    "    plt.figure(figsize=(20,10))\n",
    "    sns.distplot(data_new[i],bins=\"auto\",color=\"blue\")\n",
    "    plt.title(\"Distribution for\"+i)\n",
    "    plt.show()"
   ]
  },
  {
   "cell_type": "code",
   "execution_count": 131,
   "metadata": {},
   "outputs": [],
   "source": [
    "#Since distance seems to be postively skewed, we need to run log-transform over it"
   ]
  },
  {
   "cell_type": "code",
   "execution_count": 132,
   "metadata": {},
   "outputs": [],
   "source": [
    "data_new['distance(in kms)']=np.log1p(data_new['distance(in kms)'])"
   ]
  },
  {
   "cell_type": "code",
   "execution_count": 133,
   "metadata": {},
   "outputs": [
    {
     "data": {
      "image/png": "[encoded data removed]",
      "text/plain": [
       "<Figure size 1440x720 with 1 Axes>"
      ]
     },
     "metadata": {
      "needs_background": "light"
     },
     "output_type": "display_data"
    },
    {
     "data": {
      "image/png": "[encoded data removed]",
      "text/plain": [
       "<Figure size 1440x720 with 1 Axes>"
      ]
     },
     "metadata": {
      "needs_background": "light"
     },
     "output_type": "display_data"
    }
   ],
   "source": [
    "for i in [\"fare_amount\",\"distance(in kms)\"]:\n",
    "    plt.figure(figsize=(20,10))\n",
    "    sns.distplot(data_new[i],bins=\"auto\",color=\"red\")\n",
    "    plt.title(\"Distribution for\"+i)\n",
    "    plt.show()"
   ]
  },
  {
   "cell_type": "code",
   "execution_count": 134,
   "metadata": {},
   "outputs": [
    {
     "data": {
      "text/html": [
       "<div>\n",
       "<style scoped>\n",
       "    .dataframe tbody tr th:only-of-type {\n",
       "        vertical-align: middle;\n",
       "    }\n",
       "\n",
       "    .dataframe tbody tr th {\n",
       "        vertical-align: top;\n",
       "    }\n",
       "\n",
       "    .dataframe thead th {\n",
       "        text-align: right;\n",
       "    }\n",
       "</style>\n",
       "<table border=\"1\" class=\"dataframe\">\n",
       "  <thead>\n",
       "    <tr style=\"text-align: right;\">\n",
       "      <th></th>\n",
       "      <th>fare_amount</th>\n",
       "      <th>passenger_count</th>\n",
       "      <th>Year</th>\n",
       "      <th>Month</th>\n",
       "      <th>Date</th>\n",
       "      <th>Day</th>\n",
       "      <th>Hour</th>\n",
       "      <th>Minute</th>\n",
       "      <th>distance(in kms)</th>\n",
       "    </tr>\n",
       "  </thead>\n",
       "  <tbody>\n",
       "    <tr>\n",
       "      <th>0</th>\n",
       "      <td>4.9</td>\n",
       "      <td>1</td>\n",
       "      <td>2009</td>\n",
       "      <td>2</td>\n",
       "      <td>16</td>\n",
       "      <td>0</td>\n",
       "      <td>22</td>\n",
       "      <td>22</td>\n",
       "      <td>0.667794</td>\n",
       "    </tr>\n",
       "    <tr>\n",
       "      <th>1</th>\n",
       "      <td>8.0</td>\n",
       "      <td>1</td>\n",
       "      <td>2014</td>\n",
       "      <td>10</td>\n",
       "      <td>27</td>\n",
       "      <td>0</td>\n",
       "      <td>13</td>\n",
       "      <td>2</td>\n",
       "      <td>0.857015</td>\n",
       "    </tr>\n",
       "    <tr>\n",
       "      <th>2</th>\n",
       "      <td>12.5</td>\n",
       "      <td>1</td>\n",
       "      <td>2013</td>\n",
       "      <td>11</td>\n",
       "      <td>21</td>\n",
       "      <td>3</td>\n",
       "      <td>10</td>\n",
       "      <td>48</td>\n",
       "      <td>1.377033</td>\n",
       "    </tr>\n",
       "    <tr>\n",
       "      <th>3</th>\n",
       "      <td>18.5</td>\n",
       "      <td>1</td>\n",
       "      <td>2012</td>\n",
       "      <td>1</td>\n",
       "      <td>17</td>\n",
       "      <td>1</td>\n",
       "      <td>2</td>\n",
       "      <td>39</td>\n",
       "      <td>2.443528</td>\n",
       "    </tr>\n",
       "    <tr>\n",
       "      <th>4</th>\n",
       "      <td>3.5</td>\n",
       "      <td>1</td>\n",
       "      <td>2014</td>\n",
       "      <td>5</td>\n",
       "      <td>12</td>\n",
       "      <td>0</td>\n",
       "      <td>18</td>\n",
       "      <td>18</td>\n",
       "      <td>0.441403</td>\n",
       "    </tr>\n",
       "  </tbody>\n",
       "</table>\n",
       "</div>"
      ],
      "text/plain": [
       "   fare_amount  passenger_count  Year  Month  Date  Day  Hour  Minute  \\\n",
       "0          4.9                1  2009      2    16    0    22      22   \n",
       "1          8.0                1  2014     10    27    0    13       2   \n",
       "2         12.5                1  2013     11    21    3    10      48   \n",
       "3         18.5                1  2012      1    17    1     2      39   \n",
       "4          3.5                1  2014      5    12    0    18      18   \n",
       "\n",
       "   distance(in kms)  \n",
       "0          0.667794  \n",
       "1          0.857015  \n",
       "2          1.377033  \n",
       "3          2.443528  \n",
       "4          0.441403  "
      ]
     },
     "execution_count": 134,
     "metadata": {},
     "output_type": "execute_result"
    }
   ],
   "source": [
    "data_new.head()"
   ]
  },
  {
   "cell_type": "markdown",
   "metadata": {},
   "source": [
    "APPLYING ML ALGORITHMS:"
   ]
  },
  {
   "cell_type": "markdown",
   "metadata": {},
   "source": [
    "We will be using: Decision tree,Random forest,Statistical modelling(Linear),KNN and Naive Bayes"
   ]
  },
  {
   "cell_type": "code",
   "execution_count": 139,
   "metadata": {},
   "outputs": [
    {
     "data": {
      "text/plain": [
       "(588, 9)"
      ]
     },
     "execution_count": 139,
     "metadata": {},
     "output_type": "execute_result"
    }
   ],
   "source": [
    "data_new.shape"
   ]
  },
  {
   "cell_type": "code",
   "execution_count": 140,
   "metadata": {},
   "outputs": [
    {
     "data": {
      "text/plain": [
       "Index(['fare_amount', 'passenger_count', 'Year', 'Month', 'Date', 'Day',\n",
       "       'Hour', 'Minute', 'distance(in kms)'],\n",
       "      dtype='object')"
      ]
     },
     "execution_count": 140,
     "metadata": {},
     "output_type": "execute_result"
    }
   ],
   "source": [
    "data_new.columns\n"
   ]
  },
  {
   "cell_type": "code",
   "execution_count": 144,
   "metadata": {},
   "outputs": [],
   "source": [
    "label=data_new['fare_amount']\n",
    "features=[c for c in data_new.columns if c not in ['fare_amount']]\n",
    "X_train,X_test,Y_train,Y_test=train_test_split(data_new[features],label,test_size=0.4,random_state=7)"
   ]
  },
  {
   "cell_type": "code",
   "execution_count": 145,
   "metadata": {},
   "outputs": [
    {
     "data": {
      "text/plain": [
       "(352, 8)"
      ]
     },
     "execution_count": 145,
     "metadata": {},
     "output_type": "execute_result"
    }
   ],
   "source": [
    "X_train.shape"
   ]
  },
  {
   "cell_type": "code",
   "execution_count": 146,
   "metadata": {},
   "outputs": [
    {
     "data": {
      "text/plain": [
       "(236, 8)"
      ]
     },
     "execution_count": 146,
     "metadata": {},
     "output_type": "execute_result"
    }
   ],
   "source": [
    "X_test.shape"
   ]
  },
  {
   "cell_type": "code",
   "execution_count": 147,
   "metadata": {},
   "outputs": [
    {
     "data": {
      "text/plain": [
       "(352,)"
      ]
     },
     "execution_count": 147,
     "metadata": {},
     "output_type": "execute_result"
    }
   ],
   "source": [
    "Y_train.shape"
   ]
  },
  {
   "cell_type": "code",
   "execution_count": 148,
   "metadata": {},
   "outputs": [
    {
     "data": {
      "text/plain": [
       "(236,)"
      ]
     },
     "execution_count": 148,
     "metadata": {},
     "output_type": "execute_result"
    }
   ],
   "source": [
    "Y_test.shape"
   ]
  },
  {
   "cell_type": "markdown",
   "metadata": {},
   "source": [
    "1. DECISION TREE:"
   ]
  },
  {
   "cell_type": "code",
   "execution_count": 150,
   "metadata": {},
   "outputs": [],
   "source": [
    "from sklearn.tree import DecisionTreeRegressor"
   ]
  },
  {
   "cell_type": "code",
   "execution_count": 152,
   "metadata": {},
   "outputs": [],
   "source": [
    "model=DecisionTreeRegressor(max_depth=2).fit(X_train,Y_train)"
   ]
  },
  {
   "cell_type": "code",
   "execution_count": 153,
   "metadata": {},
   "outputs": [
    {
     "data": {
      "text/plain": [
       "DecisionTreeRegressor(criterion='mse', max_depth=2, max_features=None,\n",
       "                      max_leaf_nodes=None, min_impurity_decrease=0.0,\n",
       "                      min_impurity_split=None, min_samples_leaf=1,\n",
       "                      min_samples_split=2, min_weight_fraction_leaf=0.0,\n",
       "                      presort=False, random_state=None, splitter='best')"
      ]
     },
     "execution_count": 153,
     "metadata": {},
     "output_type": "execute_result"
    }
   ],
   "source": [
    "model"
   ]
  },
  {
   "cell_type": "code",
   "execution_count": 154,
   "metadata": {},
   "outputs": [],
   "source": [
    "#Prediction part"
   ]
  },
  {
   "cell_type": "code",
   "execution_count": 160,
   "metadata": {},
   "outputs": [],
   "source": [
    "pred=model.predict(X_test)\n",
    "pred_train=model.predict(X_train)"
   ]
  },
  {
   "cell_type": "code",
   "execution_count": 161,
   "metadata": {},
   "outputs": [],
   "source": [
    "#Error Metrics(RMSE):"
   ]
  },
  {
   "cell_type": "code",
   "execution_count": 170,
   "metadata": {},
   "outputs": [
    {
     "data": {
      "text/plain": [
       "2.359642861664985"
      ]
     },
     "execution_count": 170,
     "metadata": {},
     "output_type": "execute_result"
    }
   ],
   "source": [
    "rmse_train=np.sqrt(mean_squared_error(Y_train,pred_train))\n",
    "rmse_train"
   ]
  },
  {
   "cell_type": "code",
   "execution_count": 171,
   "metadata": {},
   "outputs": [
    {
     "data": {
      "text/plain": [
       "2.3314735247513867"
      ]
     },
     "execution_count": 171,
     "metadata": {},
     "output_type": "execute_result"
    }
   ],
   "source": [
    "rmse_test=np.sqrt(mean_squared_error(Y_test,pred))\n",
    "rmse_test"
   ]
  },
  {
   "cell_type": "markdown",
   "metadata": {},
   "source": [
    "2. RANDOM FOREST"
   ]
  },
  {
   "cell_type": "code",
   "execution_count": 172,
   "metadata": {},
   "outputs": [],
   "source": [
    "from sklearn.ensemble import RandomForestRegressor"
   ]
  },
  {
   "cell_type": "code",
   "execution_count": 175,
   "metadata": {},
   "outputs": [],
   "source": [
    "model2=RandomForestRegressor(n_estimators=500).fit(X_train,Y_train)"
   ]
  },
  {
   "cell_type": "code",
   "execution_count": 176,
   "metadata": {},
   "outputs": [
    {
     "data": {
      "text/plain": [
       "RandomForestRegressor(bootstrap=True, criterion='mse', max_depth=None,\n",
       "                      max_features='auto', max_leaf_nodes=None,\n",
       "                      min_impurity_decrease=0.0, min_impurity_split=None,\n",
       "                      min_samples_leaf=1, min_samples_split=2,\n",
       "                      min_weight_fraction_leaf=0.0, n_estimators=500,\n",
       "                      n_jobs=None, oob_score=False, random_state=None,\n",
       "                      verbose=0, warm_start=False)"
      ]
     },
     "execution_count": 176,
     "metadata": {},
     "output_type": "execute_result"
    }
   ],
   "source": [
    "model2"
   ]
  },
  {
   "cell_type": "code",
   "execution_count": 177,
   "metadata": {},
   "outputs": [],
   "source": [
    "#Prediction"
   ]
  },
  {
   "cell_type": "code",
   "execution_count": 178,
   "metadata": {},
   "outputs": [],
   "source": [
    "pred2_train=model2.predict(X_train)\n",
    "pred2_test=model2.predict(X_test)"
   ]
  },
  {
   "cell_type": "code",
   "execution_count": 181,
   "metadata": {},
   "outputs": [],
   "source": [
    "#Error Metrics"
   ]
  },
  {
   "cell_type": "code",
   "execution_count": 193,
   "metadata": {},
   "outputs": [
    {
     "data": {
      "text/plain": [
       "0.8695783232929074"
      ]
     },
     "execution_count": 193,
     "metadata": {},
     "output_type": "execute_result"
    }
   ],
   "source": [
    "rmse2_train=np.sqrt(mean_squared_error(Y_train,pred2_train))\n",
    "rmse2_train"
   ]
  },
  {
   "cell_type": "code",
   "execution_count": 196,
   "metadata": {},
   "outputs": [
    {
     "data": {
      "text/plain": [
       "2.1892394452125554"
      ]
     },
     "execution_count": 196,
     "metadata": {},
     "output_type": "execute_result"
    }
   ],
   "source": [
    "rmse2_test=np.sqrt(mean_squared_error(Y_test,pred2_test))\n",
    "rmse2_test"
   ]
  },
  {
   "cell_type": "markdown",
   "metadata": {},
   "source": [
    "3. Linear Regression"
   ]
  },
  {
   "cell_type": "code",
   "execution_count": 198,
   "metadata": {},
   "outputs": [],
   "source": [
    "import statsmodels.api as sm"
   ]
  },
  {
   "cell_type": "code",
   "execution_count": 199,
   "metadata": {},
   "outputs": [],
   "source": [
    "model3=sm.OLS(Y_train,X_train).fit()"
   ]
  },
  {
   "cell_type": "code",
   "execution_count": 200,
   "metadata": {},
   "outputs": [],
   "source": [
    "#predict"
   ]
  },
  {
   "cell_type": "code",
   "execution_count": 202,
   "metadata": {},
   "outputs": [],
   "source": [
    "pred3_train=model3.predict(X_train)\n",
    "pred3_test=model3.predict(X_test)"
   ]
  },
  {
   "cell_type": "code",
   "execution_count": 203,
   "metadata": {},
   "outputs": [],
   "source": [
    "#Error metrics"
   ]
  },
  {
   "cell_type": "code",
   "execution_count": 204,
   "metadata": {},
   "outputs": [
    {
     "data": {
      "text/plain": [
       "2.3366795060460883"
      ]
     },
     "execution_count": 204,
     "metadata": {},
     "output_type": "execute_result"
    }
   ],
   "source": [
    "rmse3_train=np.sqrt(mean_squared_error(Y_train,pred3_train))\n",
    "rmse3_train"
   ]
  },
  {
   "cell_type": "code",
   "execution_count": 205,
   "metadata": {},
   "outputs": [
    {
     "data": {
      "text/plain": [
       "2.053539174664165"
      ]
     },
     "execution_count": 205,
     "metadata": {},
     "output_type": "execute_result"
    }
   ],
   "source": [
    "rmse3_test=np.sqrt(mean_squared_error(Y_test,pred3_test))\n",
    "rmse3_test"
   ]
  },
  {
   "cell_type": "markdown",
   "metadata": {},
   "source": [
    "4. KNN"
   ]
  },
  {
   "cell_type": "code",
   "execution_count": 206,
   "metadata": {},
   "outputs": [],
   "source": [
    "from sklearn.neighbors import KNeighborsRegressor"
   ]
  },
  {
   "cell_type": "code",
   "execution_count": 214,
   "metadata": {},
   "outputs": [],
   "source": [
    "model4=KNeighborsRegressor(n_neighbors=11).fit(X_train,Y_train)"
   ]
  },
  {
   "cell_type": "code",
   "execution_count": 215,
   "metadata": {},
   "outputs": [
    {
     "data": {
      "text/plain": [
       "KNeighborsRegressor(algorithm='auto', leaf_size=30, metric='minkowski',\n",
       "                    metric_params=None, n_jobs=None, n_neighbors=11, p=2,\n",
       "                    weights='uniform')"
      ]
     },
     "execution_count": 215,
     "metadata": {},
     "output_type": "execute_result"
    }
   ],
   "source": [
    "model4"
   ]
  },
  {
   "cell_type": "code",
   "execution_count": 209,
   "metadata": {},
   "outputs": [],
   "source": [
    "#Prediction"
   ]
  },
  {
   "cell_type": "code",
   "execution_count": 216,
   "metadata": {},
   "outputs": [],
   "source": [
    "pred4_train=model4.predict(X_train)\n",
    "pred4_test=model4.predict(X_test)"
   ]
  },
  {
   "cell_type": "code",
   "execution_count": 211,
   "metadata": {},
   "outputs": [],
   "source": [
    "#Error Metrics"
   ]
  },
  {
   "cell_type": "code",
   "execution_count": 217,
   "metadata": {},
   "outputs": [
    {
     "data": {
      "text/plain": [
       "3.7787930737591346"
      ]
     },
     "execution_count": 217,
     "metadata": {},
     "output_type": "execute_result"
    }
   ],
   "source": [
    "rmse4_train=np.sqrt(mean_squared_error(Y_train,pred4_train))\n",
    "rmse4_train"
   ]
  },
  {
   "cell_type": "code",
   "execution_count": 218,
   "metadata": {},
   "outputs": [
    {
     "data": {
      "text/plain": [
       "3.8859997667088075"
      ]
     },
     "execution_count": 218,
     "metadata": {},
     "output_type": "execute_result"
    }
   ],
   "source": [
    "rmse4_test=np.sqrt(mean_squared_error(Y_test,pred4_test))\n",
    "rmse4_test"
   ]
  },
  {
   "cell_type": "code",
   "execution_count": null,
   "metadata": {},
   "outputs": [],
   "source": []
  }
 ],
 "metadata": {
  "kernelspec": {
   "display_name": "Python 3",
   "language": "python",
   "name": "python3"
  },
  "language_info": {
   "codemirror_mode": {
    "name": "ipython",
    "version": 3
   },
   "file_extension": ".py",
   "mimetype": "text/x-python",
   "name": "python",
   "nbconvert_exporter": "python",
   "pygments_lexer": "ipython3",
   "version": "3.7.3"
  }
 },
 "nbformat": 4,
 "nbformat_minor": 2
}
