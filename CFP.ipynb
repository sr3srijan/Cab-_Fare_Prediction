{
 "cells": [
  {
   "cell_type": "markdown",
   "metadata": {},
   "source": [
    "Cab Fare Prediction"
   ]
  },
  {
   "cell_type": "markdown",
   "metadata": {},
   "source": [
    "Objective:\n",
    "You are a cab rental start-up company. You have successfully run the pilot project and now want to launch your cab service across the country. You have collected the historical data from your pilot project and now have a requirement to apply analytics for fare prediction. You need to design a system that predicts the fare amount for a cab ride in the city."
   ]
  },
  {
   "cell_type": "markdown",
   "metadata": {},
   "source": [
    "*Importing libraries*"
   ]
  },
  {
   "cell_type": "code",
   "execution_count": 1,
   "metadata": {},
   "outputs": [],
   "source": [
    "import numpy as np\n",
    "import pandas as pd\n",
    "import matplotlib.pyplot as plt\n",
    "import seaborn as sns\n",
    "import os\n",
    "from sklearn.model_selection import train_test_split\n",
    "from sklearn.metrics import mean_squared_error"
   ]
  },
  {
   "cell_type": "markdown",
   "metadata": {},
   "source": [
    "Loading the daatsets"
   ]
  },
  {
   "cell_type": "code",
   "execution_count": 2,
   "metadata": {},
   "outputs": [],
   "source": [
    "data1=pd.read_csv(r\"C:/Users/.hp/Desktop/EdWisor/Datasets/CFD_train_short.csv\",sep=\",\")\n"
   ]
  },
  {
   "cell_type": "code",
   "execution_count": 3,
   "metadata": {},
   "outputs": [
    {
     "data": {
      "text/plain": [
       "(810, 9)"
      ]
     },
     "execution_count": 3,
     "metadata": {},
     "output_type": "execute_result"
    }
   ],
   "source": [
    "data1.shape\n"
   ]
  },
  {
   "cell_type": "code",
   "execution_count": 4,
   "metadata": {},
   "outputs": [
    {
     "name": "stdout",
     "output_type": "stream",
     "text": [
      "<class 'pandas.core.frame.DataFrame'>\n",
      "RangeIndex: 810 entries, 0 to 809\n",
      "Data columns (total 9 columns):\n",
      "Unnamed: 0           810 non-null int64\n",
      "key                  810 non-null object\n",
      "fare_amount          810 non-null float64\n",
      "pickup_datetime      810 non-null object\n",
      "pickup_longitude     810 non-null float64\n",
      "pickup_latitude      810 non-null float64\n",
      "dropoff_longitude    810 non-null float64\n",
      "dropoff_latitude     810 non-null float64\n",
      "passenger_count      810 non-null int64\n",
      "dtypes: float64(5), int64(2), object(2)\n",
      "memory usage: 57.0+ KB\n"
     ]
    }
   ],
   "source": [
    "data1.info()"
   ]
  },
  {
   "cell_type": "markdown",
   "metadata": {},
   "source": [
    "#since dataset is 5crore strong, need to pick sample and work on them."
   ]
  },
  {
   "cell_type": "code",
   "execution_count": 5,
   "metadata": {},
   "outputs": [
    {
     "data": {
      "text/html": [
       "<div>\n",
       "<style scoped>\n",
       "    .dataframe tbody tr th:only-of-type {\n",
       "        vertical-align: middle;\n",
       "    }\n",
       "\n",
       "    .dataframe tbody tr th {\n",
       "        vertical-align: top;\n",
       "    }\n",
       "\n",
       "    .dataframe thead th {\n",
       "        text-align: right;\n",
       "    }\n",
       "</style>\n",
       "<table border=\"1\" class=\"dataframe\">\n",
       "  <thead>\n",
       "    <tr style=\"text-align: right;\">\n",
       "      <th></th>\n",
       "      <th>Unnamed: 0</th>\n",
       "      <th>fare_amount</th>\n",
       "      <th>pickup_longitude</th>\n",
       "      <th>pickup_latitude</th>\n",
       "      <th>dropoff_longitude</th>\n",
       "      <th>dropoff_latitude</th>\n",
       "      <th>passenger_count</th>\n",
       "    </tr>\n",
       "  </thead>\n",
       "  <tbody>\n",
       "    <tr>\n",
       "      <th>count</th>\n",
       "      <td>8.100000e+02</td>\n",
       "      <td>810.000000</td>\n",
       "      <td>810.000000</td>\n",
       "      <td>810.000000</td>\n",
       "      <td>810.000000</td>\n",
       "      <td>810.000000</td>\n",
       "      <td>810.000000</td>\n",
       "    </tr>\n",
       "    <tr>\n",
       "      <th>mean</th>\n",
       "      <td>2.760965e+07</td>\n",
       "      <td>9.271074</td>\n",
       "      <td>-72.701715</td>\n",
       "      <td>40.047628</td>\n",
       "      <td>-72.790950</td>\n",
       "      <td>40.097851</td>\n",
       "      <td>1.256790</td>\n",
       "    </tr>\n",
       "    <tr>\n",
       "      <th>std</th>\n",
       "      <td>1.606142e+07</td>\n",
       "      <td>4.605408</td>\n",
       "      <td>9.647643</td>\n",
       "      <td>5.314424</td>\n",
       "      <td>9.302281</td>\n",
       "      <td>5.124330</td>\n",
       "      <td>0.545334</td>\n",
       "    </tr>\n",
       "    <tr>\n",
       "      <th>min</th>\n",
       "      <td>1.563500e+04</td>\n",
       "      <td>-4.000000</td>\n",
       "      <td>-74.025572</td>\n",
       "      <td>0.000000</td>\n",
       "      <td>-74.027105</td>\n",
       "      <td>0.000000</td>\n",
       "      <td>0.000000</td>\n",
       "    </tr>\n",
       "    <tr>\n",
       "      <th>25%</th>\n",
       "      <td>1.352030e+07</td>\n",
       "      <td>6.000000</td>\n",
       "      <td>-73.991475</td>\n",
       "      <td>40.735432</td>\n",
       "      <td>-73.991689</td>\n",
       "      <td>40.735704</td>\n",
       "      <td>1.000000</td>\n",
       "    </tr>\n",
       "    <tr>\n",
       "      <th>50%</th>\n",
       "      <td>2.861932e+07</td>\n",
       "      <td>8.100000</td>\n",
       "      <td>-73.981965</td>\n",
       "      <td>40.753716</td>\n",
       "      <td>-73.980215</td>\n",
       "      <td>40.752475</td>\n",
       "      <td>1.000000</td>\n",
       "    </tr>\n",
       "    <tr>\n",
       "      <th>75%</th>\n",
       "      <td>4.137041e+07</td>\n",
       "      <td>11.700000</td>\n",
       "      <td>-73.969104</td>\n",
       "      <td>40.765276</td>\n",
       "      <td>-73.967623</td>\n",
       "      <td>40.765806</td>\n",
       "      <td>1.000000</td>\n",
       "    </tr>\n",
       "    <tr>\n",
       "      <th>max</th>\n",
       "      <td>5.530134e+07</td>\n",
       "      <td>23.500000</td>\n",
       "      <td>0.000000</td>\n",
       "      <td>40.829948</td>\n",
       "      <td>0.000030</td>\n",
       "      <td>40.865128</td>\n",
       "      <td>3.000000</td>\n",
       "    </tr>\n",
       "  </tbody>\n",
       "</table>\n",
       "</div>"
      ],
      "text/plain": [
       "         Unnamed: 0  fare_amount  pickup_longitude  pickup_latitude  \\\n",
       "count  8.100000e+02   810.000000        810.000000       810.000000   \n",
       "mean   2.760965e+07     9.271074        -72.701715        40.047628   \n",
       "std    1.606142e+07     4.605408          9.647643         5.314424   \n",
       "min    1.563500e+04    -4.000000        -74.025572         0.000000   \n",
       "25%    1.352030e+07     6.000000        -73.991475        40.735432   \n",
       "50%    2.861932e+07     8.100000        -73.981965        40.753716   \n",
       "75%    4.137041e+07    11.700000        -73.969104        40.765276   \n",
       "max    5.530134e+07    23.500000          0.000000        40.829948   \n",
       "\n",
       "       dropoff_longitude  dropoff_latitude  passenger_count  \n",
       "count         810.000000        810.000000       810.000000  \n",
       "mean          -72.790950         40.097851         1.256790  \n",
       "std             9.302281          5.124330         0.545334  \n",
       "min           -74.027105          0.000000         0.000000  \n",
       "25%           -73.991689         40.735704         1.000000  \n",
       "50%           -73.980215         40.752475         1.000000  \n",
       "75%           -73.967623         40.765806         1.000000  \n",
       "max             0.000030         40.865128         3.000000  "
      ]
     },
     "execution_count": 5,
     "metadata": {},
     "output_type": "execute_result"
    }
   ],
   "source": [
    "data1.describe()"
   ]
  },
  {
   "cell_type": "code",
   "execution_count": 6,
   "metadata": {},
   "outputs": [],
   "source": [
    "data_new=data1.sample(800)"
   ]
  },
  {
   "cell_type": "code",
   "execution_count": 7,
   "metadata": {},
   "outputs": [],
   "source": [
    "data_new.to_csv(r\"C:\\Users\\.hp\\Desktop\\EdWisor\\CFD_train_short.csv\",header=True)"
   ]
  },
  {
   "cell_type": "code",
   "execution_count": 8,
   "metadata": {},
   "outputs": [
    {
     "data": {
      "text/plain": [
       "(800, 9)"
      ]
     },
     "execution_count": 8,
     "metadata": {},
     "output_type": "execute_result"
    }
   ],
   "source": [
    "data_new.shape"
   ]
  },
  {
   "cell_type": "markdown",
   "metadata": {},
   "source": [
    "MISSING VALUE ANALYSIS"
   ]
  },
  {
   "cell_type": "code",
   "execution_count": 9,
   "metadata": {},
   "outputs": [
    {
     "data": {
      "text/plain": [
       "Unnamed: 0           0\n",
       "key                  0\n",
       "fare_amount          0\n",
       "pickup_datetime      0\n",
       "pickup_longitude     0\n",
       "pickup_latitude      0\n",
       "dropoff_longitude    0\n",
       "dropoff_latitude     0\n",
       "passenger_count      0\n",
       "dtype: int64"
      ]
     },
     "execution_count": 9,
     "metadata": {},
     "output_type": "execute_result"
    }
   ],
   "source": [
    "data_new.isnull().sum()"
   ]
  },
  {
   "cell_type": "code",
   "execution_count": 10,
   "metadata": {},
   "outputs": [
    {
     "data": {
      "text/html": [
       "<div>\n",
       "<style scoped>\n",
       "    .dataframe tbody tr th:only-of-type {\n",
       "        vertical-align: middle;\n",
       "    }\n",
       "\n",
       "    .dataframe tbody tr th {\n",
       "        vertical-align: top;\n",
       "    }\n",
       "\n",
       "    .dataframe thead th {\n",
       "        text-align: right;\n",
       "    }\n",
       "</style>\n",
       "<table border=\"1\" class=\"dataframe\">\n",
       "  <thead>\n",
       "    <tr style=\"text-align: right;\">\n",
       "      <th></th>\n",
       "      <th>index</th>\n",
       "      <th>0</th>\n",
       "    </tr>\n",
       "  </thead>\n",
       "  <tbody>\n",
       "    <tr>\n",
       "      <th>0</th>\n",
       "      <td>Unnamed: 0</td>\n",
       "      <td>0</td>\n",
       "    </tr>\n",
       "    <tr>\n",
       "      <th>1</th>\n",
       "      <td>key</td>\n",
       "      <td>0</td>\n",
       "    </tr>\n",
       "    <tr>\n",
       "      <th>2</th>\n",
       "      <td>fare_amount</td>\n",
       "      <td>0</td>\n",
       "    </tr>\n",
       "    <tr>\n",
       "      <th>3</th>\n",
       "      <td>pickup_datetime</td>\n",
       "      <td>0</td>\n",
       "    </tr>\n",
       "    <tr>\n",
       "      <th>4</th>\n",
       "      <td>pickup_longitude</td>\n",
       "      <td>0</td>\n",
       "    </tr>\n",
       "    <tr>\n",
       "      <th>5</th>\n",
       "      <td>pickup_latitude</td>\n",
       "      <td>0</td>\n",
       "    </tr>\n",
       "    <tr>\n",
       "      <th>6</th>\n",
       "      <td>dropoff_longitude</td>\n",
       "      <td>0</td>\n",
       "    </tr>\n",
       "    <tr>\n",
       "      <th>7</th>\n",
       "      <td>dropoff_latitude</td>\n",
       "      <td>0</td>\n",
       "    </tr>\n",
       "    <tr>\n",
       "      <th>8</th>\n",
       "      <td>passenger_count</td>\n",
       "      <td>0</td>\n",
       "    </tr>\n",
       "  </tbody>\n",
       "</table>\n",
       "</div>"
      ],
      "text/plain": [
       "               index  0\n",
       "0         Unnamed: 0  0\n",
       "1                key  0\n",
       "2        fare_amount  0\n",
       "3    pickup_datetime  0\n",
       "4   pickup_longitude  0\n",
       "5    pickup_latitude  0\n",
       "6  dropoff_longitude  0\n",
       "7   dropoff_latitude  0\n",
       "8    passenger_count  0"
      ]
     },
     "execution_count": 10,
     "metadata": {},
     "output_type": "execute_result"
    }
   ],
   "source": [
    "missing_val1=pd.DataFrame(data_new.isnull().sum())\n",
    "missing_val1.reset_index()"
   ]
  },
  {
   "cell_type": "code",
   "execution_count": 11,
   "metadata": {},
   "outputs": [],
   "source": [
    "missing_val1=missing_val1.rename(columns={'index':'variables',0:'Missing Value Percentages'})"
   ]
  },
  {
   "cell_type": "code",
   "execution_count": 12,
   "metadata": {},
   "outputs": [
    {
     "data": {
      "text/html": [
       "<div>\n",
       "<style scoped>\n",
       "    .dataframe tbody tr th:only-of-type {\n",
       "        vertical-align: middle;\n",
       "    }\n",
       "\n",
       "    .dataframe tbody tr th {\n",
       "        vertical-align: top;\n",
       "    }\n",
       "\n",
       "    .dataframe thead th {\n",
       "        text-align: right;\n",
       "    }\n",
       "</style>\n",
       "<table border=\"1\" class=\"dataframe\">\n",
       "  <thead>\n",
       "    <tr style=\"text-align: right;\">\n",
       "      <th></th>\n",
       "      <th>Missing Value Percentages</th>\n",
       "    </tr>\n",
       "  </thead>\n",
       "  <tbody>\n",
       "    <tr>\n",
       "      <th>Unnamed: 0</th>\n",
       "      <td>0</td>\n",
       "    </tr>\n",
       "    <tr>\n",
       "      <th>key</th>\n",
       "      <td>0</td>\n",
       "    </tr>\n",
       "    <tr>\n",
       "      <th>fare_amount</th>\n",
       "      <td>0</td>\n",
       "    </tr>\n",
       "    <tr>\n",
       "      <th>pickup_datetime</th>\n",
       "      <td>0</td>\n",
       "    </tr>\n",
       "    <tr>\n",
       "      <th>pickup_longitude</th>\n",
       "      <td>0</td>\n",
       "    </tr>\n",
       "    <tr>\n",
       "      <th>pickup_latitude</th>\n",
       "      <td>0</td>\n",
       "    </tr>\n",
       "    <tr>\n",
       "      <th>dropoff_longitude</th>\n",
       "      <td>0</td>\n",
       "    </tr>\n",
       "    <tr>\n",
       "      <th>dropoff_latitude</th>\n",
       "      <td>0</td>\n",
       "    </tr>\n",
       "    <tr>\n",
       "      <th>passenger_count</th>\n",
       "      <td>0</td>\n",
       "    </tr>\n",
       "  </tbody>\n",
       "</table>\n",
       "</div>"
      ],
      "text/plain": [
       "                   Missing Value Percentages\n",
       "Unnamed: 0                                 0\n",
       "key                                        0\n",
       "fare_amount                                0\n",
       "pickup_datetime                            0\n",
       "pickup_longitude                           0\n",
       "pickup_latitude                            0\n",
       "dropoff_longitude                          0\n",
       "dropoff_latitude                           0\n",
       "passenger_count                            0"
      ]
     },
     "execution_count": 12,
     "metadata": {},
     "output_type": "execute_result"
    }
   ],
   "source": [
    "missing_val1"
   ]
  },
  {
   "cell_type": "code",
   "execution_count": 13,
   "metadata": {},
   "outputs": [],
   "source": [
    "lis=[]"
   ]
  },
  {
   "cell_type": "code",
   "execution_count": 14,
   "metadata": {},
   "outputs": [],
   "source": [
    "#for i in range(0,data_new.shape[1]):\n",
    "    #if (data_new.iloc[:,i].dtypes=='object'):\n",
    "        #data_new.iloc[:,i]=pd.Categorical(data_new.iloc[:,i])\n",
    "        #data_new.iloc[:,i]=data_new.iloc[:,1].cat.codes\n",
    "        #data_new.iloc[:,i]=data_new.iloc[:,i].astype('object')\n",
    "        #lis.append(data_new.columns[i])\n",
    "        "
   ]
  },
  {
   "cell_type": "markdown",
   "metadata": {},
   "source": [
    "OUTLIER ANALYSIS"
   ]
  },
  {
   "cell_type": "code",
   "execution_count": 15,
   "metadata": {},
   "outputs": [
    {
     "data": {
      "text/plain": [
       "['fare_amount', 'passenger_count']"
      ]
     },
     "execution_count": 15,
     "metadata": {},
     "output_type": "execute_result"
    }
   ],
   "source": [
    "c=['fare_amount','passenger_count']\n",
    "c"
   ]
  },
  {
   "cell_type": "code",
   "execution_count": 16,
   "metadata": {},
   "outputs": [],
   "source": [
    "for i in c: \n",
    "    q75,q25=np.percentile(data_new.loc[:,i],[75,25])\n",
    "    iqr=q75-q25\n",
    "    lw_f=q25-(iqr*1.5)\n",
    "    upr_f=q75+(iqr*1.5)\n",
    "    data_new=data_new.drop(data_new[data_new.loc[:,i]<lw_f].index)\n",
    "    data_new=data_new.drop(data_new[data_new.loc[:,i]>upr_f].index)"
   ]
  },
  {
   "cell_type": "code",
   "execution_count": 17,
   "metadata": {},
   "outputs": [
    {
     "data": {
      "text/plain": [
       "(607, 9)"
      ]
     },
     "execution_count": 17,
     "metadata": {},
     "output_type": "execute_result"
    }
   ],
   "source": [
    "data_new.shape"
   ]
  },
  {
   "cell_type": "code",
   "execution_count": 18,
   "metadata": {},
   "outputs": [
    {
     "data": {
      "text/html": [
       "<div>\n",
       "<style scoped>\n",
       "    .dataframe tbody tr th:only-of-type {\n",
       "        vertical-align: middle;\n",
       "    }\n",
       "\n",
       "    .dataframe tbody tr th {\n",
       "        vertical-align: top;\n",
       "    }\n",
       "\n",
       "    .dataframe thead th {\n",
       "        text-align: right;\n",
       "    }\n",
       "</style>\n",
       "<table border=\"1\" class=\"dataframe\">\n",
       "  <thead>\n",
       "    <tr style=\"text-align: right;\">\n",
       "      <th></th>\n",
       "      <th>Unnamed: 0</th>\n",
       "      <th>key</th>\n",
       "      <th>fare_amount</th>\n",
       "      <th>pickup_datetime</th>\n",
       "      <th>pickup_longitude</th>\n",
       "      <th>pickup_latitude</th>\n",
       "      <th>dropoff_longitude</th>\n",
       "      <th>dropoff_latitude</th>\n",
       "      <th>passenger_count</th>\n",
       "    </tr>\n",
       "  </thead>\n",
       "  <tbody>\n",
       "    <tr>\n",
       "      <th>119</th>\n",
       "      <td>215672</td>\n",
       "      <td>2009-08-07 13:41:12.0000004</td>\n",
       "      <td>4.1</td>\n",
       "      <td>2009-08-07 13:41:12 UTC</td>\n",
       "      <td>-73.986970</td>\n",
       "      <td>40.733488</td>\n",
       "      <td>-73.980232</td>\n",
       "      <td>40.744102</td>\n",
       "      <td>1</td>\n",
       "    </tr>\n",
       "    <tr>\n",
       "      <th>538</th>\n",
       "      <td>17877834</td>\n",
       "      <td>2011-01-23 14:03:00.000000117</td>\n",
       "      <td>12.5</td>\n",
       "      <td>2011-01-23 14:03:00 UTC</td>\n",
       "      <td>-73.981953</td>\n",
       "      <td>40.774797</td>\n",
       "      <td>-73.976655</td>\n",
       "      <td>40.732483</td>\n",
       "      <td>1</td>\n",
       "    </tr>\n",
       "    <tr>\n",
       "      <th>668</th>\n",
       "      <td>23573402</td>\n",
       "      <td>2009-09-19 01:25:25.0000004</td>\n",
       "      <td>17.7</td>\n",
       "      <td>2009-09-19 01:25:25 UTC</td>\n",
       "      <td>-73.993652</td>\n",
       "      <td>40.720863</td>\n",
       "      <td>-73.925577</td>\n",
       "      <td>40.702701</td>\n",
       "      <td>1</td>\n",
       "    </tr>\n",
       "    <tr>\n",
       "      <th>594</th>\n",
       "      <td>13460991</td>\n",
       "      <td>2015-06-09 09:49:17.0000003</td>\n",
       "      <td>9.5</td>\n",
       "      <td>2015-06-09 09:49:17 UTC</td>\n",
       "      <td>-74.008255</td>\n",
       "      <td>40.730507</td>\n",
       "      <td>-73.986359</td>\n",
       "      <td>40.743156</td>\n",
       "      <td>1</td>\n",
       "    </tr>\n",
       "    <tr>\n",
       "      <th>242</th>\n",
       "      <td>30381181</td>\n",
       "      <td>2014-11-03 21:05:00.000000145</td>\n",
       "      <td>7.5</td>\n",
       "      <td>2014-11-03 21:05:00 UTC</td>\n",
       "      <td>-73.993640</td>\n",
       "      <td>40.728117</td>\n",
       "      <td>-73.978397</td>\n",
       "      <td>40.745327</td>\n",
       "      <td>1</td>\n",
       "    </tr>\n",
       "    <tr>\n",
       "      <th>222</th>\n",
       "      <td>34029661</td>\n",
       "      <td>2011-03-07 14:15:33.0000007</td>\n",
       "      <td>8.1</td>\n",
       "      <td>2011-03-07 14:15:33 UTC</td>\n",
       "      <td>-73.998156</td>\n",
       "      <td>40.760995</td>\n",
       "      <td>-73.975220</td>\n",
       "      <td>40.765186</td>\n",
       "      <td>1</td>\n",
       "    </tr>\n",
       "    <tr>\n",
       "      <th>496</th>\n",
       "      <td>52027752</td>\n",
       "      <td>2014-08-17 04:03:00.00000039</td>\n",
       "      <td>19.5</td>\n",
       "      <td>2014-08-17 04:03:00 UTC</td>\n",
       "      <td>-73.988380</td>\n",
       "      <td>40.721727</td>\n",
       "      <td>-73.930358</td>\n",
       "      <td>40.760010</td>\n",
       "      <td>1</td>\n",
       "    </tr>\n",
       "    <tr>\n",
       "      <th>42</th>\n",
       "      <td>1873939</td>\n",
       "      <td>2009-04-15 09:23:43.0000002</td>\n",
       "      <td>19.3</td>\n",
       "      <td>2009-04-15 09:23:43 UTC</td>\n",
       "      <td>-73.955008</td>\n",
       "      <td>40.777250</td>\n",
       "      <td>-73.926960</td>\n",
       "      <td>40.865128</td>\n",
       "      <td>1</td>\n",
       "    </tr>\n",
       "    <tr>\n",
       "      <th>794</th>\n",
       "      <td>6720650</td>\n",
       "      <td>2010-03-18 20:22:00.000000296</td>\n",
       "      <td>8.5</td>\n",
       "      <td>2010-03-18 20:22:00 UTC</td>\n",
       "      <td>-73.985127</td>\n",
       "      <td>40.760353</td>\n",
       "      <td>-73.955230</td>\n",
       "      <td>40.782872</td>\n",
       "      <td>1</td>\n",
       "    </tr>\n",
       "    <tr>\n",
       "      <th>699</th>\n",
       "      <td>29069924</td>\n",
       "      <td>2009-05-10 15:20:23.0000005</td>\n",
       "      <td>2.9</td>\n",
       "      <td>2009-05-10 15:20:23 UTC</td>\n",
       "      <td>-73.982487</td>\n",
       "      <td>40.767151</td>\n",
       "      <td>-73.979905</td>\n",
       "      <td>40.765088</td>\n",
       "      <td>1</td>\n",
       "    </tr>\n",
       "  </tbody>\n",
       "</table>\n",
       "</div>"
      ],
      "text/plain": [
       "     Unnamed: 0                            key  fare_amount  \\\n",
       "119      215672    2009-08-07 13:41:12.0000004          4.1   \n",
       "538    17877834  2011-01-23 14:03:00.000000117         12.5   \n",
       "668    23573402    2009-09-19 01:25:25.0000004         17.7   \n",
       "594    13460991    2015-06-09 09:49:17.0000003          9.5   \n",
       "242    30381181  2014-11-03 21:05:00.000000145          7.5   \n",
       "222    34029661    2011-03-07 14:15:33.0000007          8.1   \n",
       "496    52027752   2014-08-17 04:03:00.00000039         19.5   \n",
       "42      1873939    2009-04-15 09:23:43.0000002         19.3   \n",
       "794     6720650  2010-03-18 20:22:00.000000296          8.5   \n",
       "699    29069924    2009-05-10 15:20:23.0000005          2.9   \n",
       "\n",
       "             pickup_datetime  pickup_longitude  pickup_latitude  \\\n",
       "119  2009-08-07 13:41:12 UTC        -73.986970        40.733488   \n",
       "538  2011-01-23 14:03:00 UTC        -73.981953        40.774797   \n",
       "668  2009-09-19 01:25:25 UTC        -73.993652        40.720863   \n",
       "594  2015-06-09 09:49:17 UTC        -74.008255        40.730507   \n",
       "242  2014-11-03 21:05:00 UTC        -73.993640        40.728117   \n",
       "222  2011-03-07 14:15:33 UTC        -73.998156        40.760995   \n",
       "496  2014-08-17 04:03:00 UTC        -73.988380        40.721727   \n",
       "42   2009-04-15 09:23:43 UTC        -73.955008        40.777250   \n",
       "794  2010-03-18 20:22:00 UTC        -73.985127        40.760353   \n",
       "699  2009-05-10 15:20:23 UTC        -73.982487        40.767151   \n",
       "\n",
       "     dropoff_longitude  dropoff_latitude  passenger_count  \n",
       "119         -73.980232         40.744102                1  \n",
       "538         -73.976655         40.732483                1  \n",
       "668         -73.925577         40.702701                1  \n",
       "594         -73.986359         40.743156                1  \n",
       "242         -73.978397         40.745327                1  \n",
       "222         -73.975220         40.765186                1  \n",
       "496         -73.930358         40.760010                1  \n",
       "42          -73.926960         40.865128                1  \n",
       "794         -73.955230         40.782872                1  \n",
       "699         -73.979905         40.765088                1  "
      ]
     },
     "execution_count": 18,
     "metadata": {},
     "output_type": "execute_result"
    }
   ],
   "source": [
    "data_new.head(10)"
   ]
  },
  {
   "cell_type": "markdown",
   "metadata": {},
   "source": [
    "FEATURE SELECTION"
   ]
  },
  {
   "cell_type": "markdown",
   "metadata": {},
   "source": [
    "Collinearity test: VIF"
   ]
  },
  {
   "cell_type": "code",
   "execution_count": 19,
   "metadata": {},
   "outputs": [
    {
     "data": {
      "text/html": [
       "<div>\n",
       "<style scoped>\n",
       "    .dataframe tbody tr th:only-of-type {\n",
       "        vertical-align: middle;\n",
       "    }\n",
       "\n",
       "    .dataframe tbody tr th {\n",
       "        vertical-align: top;\n",
       "    }\n",
       "\n",
       "    .dataframe thead th {\n",
       "        text-align: right;\n",
       "    }\n",
       "</style>\n",
       "<table border=\"1\" class=\"dataframe\">\n",
       "  <thead>\n",
       "    <tr style=\"text-align: right;\">\n",
       "      <th></th>\n",
       "      <th>Unnamed: 0</th>\n",
       "      <th>key</th>\n",
       "      <th>fare_amount</th>\n",
       "      <th>pickup_datetime</th>\n",
       "      <th>pickup_longitude</th>\n",
       "      <th>pickup_latitude</th>\n",
       "      <th>dropoff_longitude</th>\n",
       "      <th>dropoff_latitude</th>\n",
       "      <th>passenger_count</th>\n",
       "    </tr>\n",
       "  </thead>\n",
       "  <tbody>\n",
       "    <tr>\n",
       "      <th>119</th>\n",
       "      <td>215672</td>\n",
       "      <td>2009-08-07 13:41:12.0000004</td>\n",
       "      <td>4.1</td>\n",
       "      <td>2009-08-07 13:41:12 UTC</td>\n",
       "      <td>-73.986970</td>\n",
       "      <td>40.733488</td>\n",
       "      <td>-73.980232</td>\n",
       "      <td>40.744102</td>\n",
       "      <td>1</td>\n",
       "    </tr>\n",
       "    <tr>\n",
       "      <th>538</th>\n",
       "      <td>17877834</td>\n",
       "      <td>2011-01-23 14:03:00.000000117</td>\n",
       "      <td>12.5</td>\n",
       "      <td>2011-01-23 14:03:00 UTC</td>\n",
       "      <td>-73.981953</td>\n",
       "      <td>40.774797</td>\n",
       "      <td>-73.976655</td>\n",
       "      <td>40.732483</td>\n",
       "      <td>1</td>\n",
       "    </tr>\n",
       "    <tr>\n",
       "      <th>668</th>\n",
       "      <td>23573402</td>\n",
       "      <td>2009-09-19 01:25:25.0000004</td>\n",
       "      <td>17.7</td>\n",
       "      <td>2009-09-19 01:25:25 UTC</td>\n",
       "      <td>-73.993652</td>\n",
       "      <td>40.720863</td>\n",
       "      <td>-73.925577</td>\n",
       "      <td>40.702701</td>\n",
       "      <td>1</td>\n",
       "    </tr>\n",
       "    <tr>\n",
       "      <th>594</th>\n",
       "      <td>13460991</td>\n",
       "      <td>2015-06-09 09:49:17.0000003</td>\n",
       "      <td>9.5</td>\n",
       "      <td>2015-06-09 09:49:17 UTC</td>\n",
       "      <td>-74.008255</td>\n",
       "      <td>40.730507</td>\n",
       "      <td>-73.986359</td>\n",
       "      <td>40.743156</td>\n",
       "      <td>1</td>\n",
       "    </tr>\n",
       "    <tr>\n",
       "      <th>242</th>\n",
       "      <td>30381181</td>\n",
       "      <td>2014-11-03 21:05:00.000000145</td>\n",
       "      <td>7.5</td>\n",
       "      <td>2014-11-03 21:05:00 UTC</td>\n",
       "      <td>-73.993640</td>\n",
       "      <td>40.728117</td>\n",
       "      <td>-73.978397</td>\n",
       "      <td>40.745327</td>\n",
       "      <td>1</td>\n",
       "    </tr>\n",
       "  </tbody>\n",
       "</table>\n",
       "</div>"
      ],
      "text/plain": [
       "     Unnamed: 0                            key  fare_amount  \\\n",
       "119      215672    2009-08-07 13:41:12.0000004          4.1   \n",
       "538    17877834  2011-01-23 14:03:00.000000117         12.5   \n",
       "668    23573402    2009-09-19 01:25:25.0000004         17.7   \n",
       "594    13460991    2015-06-09 09:49:17.0000003          9.5   \n",
       "242    30381181  2014-11-03 21:05:00.000000145          7.5   \n",
       "\n",
       "             pickup_datetime  pickup_longitude  pickup_latitude  \\\n",
       "119  2009-08-07 13:41:12 UTC        -73.986970        40.733488   \n",
       "538  2011-01-23 14:03:00 UTC        -73.981953        40.774797   \n",
       "668  2009-09-19 01:25:25 UTC        -73.993652        40.720863   \n",
       "594  2015-06-09 09:49:17 UTC        -74.008255        40.730507   \n",
       "242  2014-11-03 21:05:00 UTC        -73.993640        40.728117   \n",
       "\n",
       "     dropoff_longitude  dropoff_latitude  passenger_count  \n",
       "119         -73.980232         40.744102                1  \n",
       "538         -73.976655         40.732483                1  \n",
       "668         -73.925577         40.702701                1  \n",
       "594         -73.986359         40.743156                1  \n",
       "242         -73.978397         40.745327                1  "
      ]
     },
     "execution_count": 19,
     "metadata": {},
     "output_type": "execute_result"
    }
   ],
   "source": [
    "data_new.head()"
   ]
  },
  {
   "cell_type": "code",
   "execution_count": 20,
   "metadata": {},
   "outputs": [],
   "source": [
    "from statsmodels.stats.outliers_influence import variance_inflation_factor"
   ]
  },
  {
   "cell_type": "code",
   "execution_count": 21,
   "metadata": {},
   "outputs": [
    {
     "name": "stdout",
     "output_type": "stream",
     "text": [
      "     fare_amount  pickup_longitude  pickup_longitude  passenger_count  \\\n",
      "119          4.1        -73.986970        -73.986970                1   \n",
      "538         12.5        -73.981953        -73.981953                1   \n",
      "668         17.7        -73.993652        -73.993652                1   \n",
      "594          9.5        -74.008255        -74.008255                1   \n",
      "242          7.5        -73.993640        -73.993640                1   \n",
      "222          8.1        -73.998156        -73.998156                1   \n",
      "496         19.5        -73.988380        -73.988380                1   \n",
      "42          19.3        -73.955008        -73.955008                1   \n",
      "794          8.5        -73.985127        -73.985127                1   \n",
      "699          2.9        -73.982487        -73.982487                1   \n",
      "533         10.9        -73.982225        -73.982225                1   \n",
      "512          4.0        -73.984235        -73.984235                1   \n",
      "188          7.7        -73.965761        -73.965761                1   \n",
      "328         16.1        -74.016180        -74.016180                1   \n",
      "19           5.7        -74.001367        -74.001367                1   \n",
      "608         18.5        -73.985062        -73.985062                1   \n",
      "258          9.3        -73.992683        -73.992683                1   \n",
      "2            4.5        -73.989067        -73.989067                1   \n",
      "126          3.3        -73.991915        -73.991915                1   \n",
      "163         14.1        -74.016070        -74.016070                1   \n",
      "723         16.5        -73.978278        -73.978278                1   \n",
      "309          5.3        -73.985400        -73.985400                1   \n",
      "795         16.0        -74.008058        -74.008058                1   \n",
      "556          6.1        -74.012928        -74.012928                1   \n",
      "467         10.9        -73.996968        -73.996968                1   \n",
      "103         10.0        -73.971759        -73.971759                1   \n",
      "488         12.0          0.000000          0.000000                1   \n",
      "243         11.0        -73.985652        -73.985652                1   \n",
      "535         13.3        -73.978562        -73.978562                1   \n",
      "215         14.1        -73.994798        -73.994798                1   \n",
      "..           ...               ...               ...              ...   \n",
      "108          5.7        -73.977000        -73.977000                1   \n",
      "68           6.5        -73.991755        -73.991755                1   \n",
      "464          4.0        -74.008554        -74.008554                1   \n",
      "726          4.5        -74.006569        -74.006569                1   \n",
      "797          8.1        -73.993053        -73.993053                1   \n",
      "410         14.5        -74.007178        -74.007178                1   \n",
      "176          5.5        -73.989803        -73.989803                1   \n",
      "233         14.0        -74.002652        -74.002652                1   \n",
      "621         12.0        -73.991195        -73.991195                1   \n",
      "173          5.7        -73.995776        -73.995776                1   \n",
      "799          4.1        -73.968873        -73.968873                1   \n",
      "197         11.7        -73.962200        -73.962200                1   \n",
      "695         12.1        -74.007940        -74.007940                1   \n",
      "743          3.0        -73.987610        -73.987610                1   \n",
      "644          4.5        -73.955297        -73.955297                1   \n",
      "392          8.1        -73.968619        -73.968619                1   \n",
      "53          17.3        -73.958715        -73.958715                1   \n",
      "450          6.0        -73.954373        -73.954373                1   \n",
      "257          8.1        -73.974373        -73.974373                1   \n",
      "83           6.1        -73.985968        -73.985968                1   \n",
      "539         11.3        -73.967779        -73.967779                1   \n",
      "248          4.1        -73.966170        -73.966170                1   \n",
      "791         11.0        -73.993982        -73.993982                1   \n",
      "20          14.0        -73.959625        -73.959625                1   \n",
      "99           6.5        -73.966321        -73.966321                1   \n",
      "417          8.5        -73.981880        -73.981880                1   \n",
      "113         12.5        -73.955345        -73.955345                1   \n",
      "729          6.5        -74.002010        -74.002010                1   \n",
      "427          6.5        -73.978386        -73.978386                1   \n",
      "334          8.5        -73.995758        -73.995758                1   \n",
      "\n",
      "     Intercept  \n",
      "119          1  \n",
      "538          1  \n",
      "668          1  \n",
      "594          1  \n",
      "242          1  \n",
      "222          1  \n",
      "496          1  \n",
      "42           1  \n",
      "794          1  \n",
      "699          1  \n",
      "533          1  \n",
      "512          1  \n",
      "188          1  \n",
      "328          1  \n",
      "19           1  \n",
      "608          1  \n",
      "258          1  \n",
      "2            1  \n",
      "126          1  \n",
      "163          1  \n",
      "723          1  \n",
      "309          1  \n",
      "795          1  \n",
      "556          1  \n",
      "467          1  \n",
      "103          1  \n",
      "488          1  \n",
      "243          1  \n",
      "535          1  \n",
      "215          1  \n",
      "..         ...  \n",
      "108          1  \n",
      "68           1  \n",
      "464          1  \n",
      "726          1  \n",
      "797          1  \n",
      "410          1  \n",
      "176          1  \n",
      "233          1  \n",
      "621          1  \n",
      "173          1  \n",
      "799          1  \n",
      "197          1  \n",
      "695          1  \n",
      "743          1  \n",
      "644          1  \n",
      "392          1  \n",
      "53           1  \n",
      "450          1  \n",
      "257          1  \n",
      "83           1  \n",
      "539          1  \n",
      "248          1  \n",
      "791          1  \n",
      "20           1  \n",
      "99           1  \n",
      "417          1  \n",
      "113          1  \n",
      "729          1  \n",
      "427          1  \n",
      "334          1  \n",
      "\n",
      "[607 rows x 5 columns]\n"
     ]
    },
    {
     "name": "stderr",
     "output_type": "stream",
     "text": [
      "C:\\Users\\.hp\\Anaconda3\\lib\\site-packages\\ipykernel_launcher.py:2: SettingWithCopyWarning: \n",
      "A value is trying to be set on a copy of a slice from a DataFrame.\n",
      "Try using .loc[row_indexer,col_indexer] = value instead\n",
      "\n",
      "See the caveats in the documentation: http://pandas.pydata.org/pandas-docs/stable/indexing.html#indexing-view-versus-copy\n",
      "  \n"
     ]
    },
    {
     "data": {
      "text/plain": [
       "(607, 5)"
      ]
     },
     "execution_count": 21,
     "metadata": {},
     "output_type": "execute_result"
    }
   ],
   "source": [
    "X=data_new[['fare_amount','pickup_longitude','pickup_longitude','passenger_count']]\n",
    "X['Intercept']=1\n",
    "print(X)\n",
    "X.shape"
   ]
  },
  {
   "cell_type": "code",
   "execution_count": 22,
   "metadata": {},
   "outputs": [
    {
     "name": "stdout",
     "output_type": "stream",
     "text": [
      "          variables       VIF\n",
      "0       fare_amount  1.000006\n",
      "1  pickup_longitude       inf\n",
      "2  pickup_longitude       inf\n",
      "3   passenger_count  0.000000\n",
      "4         Intercept  0.000000\n"
     ]
    },
    {
     "name": "stderr",
     "output_type": "stream",
     "text": [
      "C:\\Users\\.hp\\Anaconda3\\lib\\site-packages\\statsmodels\\stats\\outliers_influence.py:185: RuntimeWarning: divide by zero encountered in double_scalars\n",
      "  vif = 1. / (1. - r_squared_i)\n",
      "C:\\Users\\.hp\\Anaconda3\\lib\\site-packages\\statsmodels\\regression\\linear_model.py:1636: RuntimeWarning: divide by zero encountered in double_scalars\n",
      "  return 1 - self.ssr/self.centered_tss\n"
     ]
    }
   ],
   "source": [
    "vif=pd.DataFrame()\n",
    "vif[\"variables\"]=X.columns\n",
    "vif[\"VIF\"]=[variance_inflation_factor(X.values,i) for i in range(X.shape[1])]\n",
    "print(vif)"
   ]
  },
  {
   "cell_type": "markdown",
   "metadata": {},
   "source": [
    "#Since VIF count is below 2.5, there is no Multi-Collinearity"
   ]
  },
  {
   "cell_type": "markdown",
   "metadata": {},
   "source": [
    "Correlation test"
   ]
  },
  {
   "cell_type": "code",
   "execution_count": 23,
   "metadata": {},
   "outputs": [],
   "source": [
    "cnames=['fare_amount','pickup_longitude','pickup_longitude','passenger_count']\n",
    "df_corr=data_new.loc[:,cnames]"
   ]
  },
  {
   "cell_type": "code",
   "execution_count": 24,
   "metadata": {},
   "outputs": [
    {
     "data": {
      "text/html": [
       "<div>\n",
       "<style scoped>\n",
       "    .dataframe tbody tr th:only-of-type {\n",
       "        vertical-align: middle;\n",
       "    }\n",
       "\n",
       "    .dataframe tbody tr th {\n",
       "        vertical-align: top;\n",
       "    }\n",
       "\n",
       "    .dataframe thead th {\n",
       "        text-align: right;\n",
       "    }\n",
       "</style>\n",
       "<table border=\"1\" class=\"dataframe\">\n",
       "  <thead>\n",
       "    <tr style=\"text-align: right;\">\n",
       "      <th></th>\n",
       "      <th>fare_amount</th>\n",
       "      <th>pickup_longitude</th>\n",
       "      <th>pickup_longitude</th>\n",
       "      <th>passenger_count</th>\n",
       "    </tr>\n",
       "  </thead>\n",
       "  <tbody>\n",
       "    <tr>\n",
       "      <th>fare_amount</th>\n",
       "      <td>1.000000</td>\n",
       "      <td>0.002351</td>\n",
       "      <td>0.002351</td>\n",
       "      <td>NaN</td>\n",
       "    </tr>\n",
       "    <tr>\n",
       "      <th>pickup_longitude</th>\n",
       "      <td>0.002351</td>\n",
       "      <td>1.000000</td>\n",
       "      <td>1.000000</td>\n",
       "      <td>NaN</td>\n",
       "    </tr>\n",
       "    <tr>\n",
       "      <th>pickup_longitude</th>\n",
       "      <td>0.002351</td>\n",
       "      <td>1.000000</td>\n",
       "      <td>1.000000</td>\n",
       "      <td>NaN</td>\n",
       "    </tr>\n",
       "    <tr>\n",
       "      <th>passenger_count</th>\n",
       "      <td>NaN</td>\n",
       "      <td>NaN</td>\n",
       "      <td>NaN</td>\n",
       "      <td>NaN</td>\n",
       "    </tr>\n",
       "  </tbody>\n",
       "</table>\n",
       "</div>"
      ],
      "text/plain": [
       "                  fare_amount  pickup_longitude  pickup_longitude  \\\n",
       "fare_amount          1.000000          0.002351          0.002351   \n",
       "pickup_longitude     0.002351          1.000000          1.000000   \n",
       "pickup_longitude     0.002351          1.000000          1.000000   \n",
       "passenger_count           NaN               NaN               NaN   \n",
       "\n",
       "                  passenger_count  \n",
       "fare_amount                   NaN  \n",
       "pickup_longitude              NaN  \n",
       "pickup_longitude              NaN  \n",
       "passenger_count               NaN  "
      ]
     },
     "execution_count": 24,
     "metadata": {},
     "output_type": "execute_result"
    }
   ],
   "source": [
    "df_corr\n",
    "corr=df_corr.corr()\n",
    "corr"
   ]
  },
  {
   "cell_type": "markdown",
   "metadata": {},
   "source": [
    "#in above matrix, there is no large value(correlation value lies between -1 and 1). Hence no correlation between variables in it."
   ]
  },
  {
   "cell_type": "markdown",
   "metadata": {},
   "source": [
    "SCALING:"
   ]
  },
  {
   "cell_type": "code",
   "execution_count": 25,
   "metadata": {},
   "outputs": [
    {
     "data": {
      "text/html": [
       "<div>\n",
       "<style scoped>\n",
       "    .dataframe tbody tr th:only-of-type {\n",
       "        vertical-align: middle;\n",
       "    }\n",
       "\n",
       "    .dataframe tbody tr th {\n",
       "        vertical-align: top;\n",
       "    }\n",
       "\n",
       "    .dataframe thead th {\n",
       "        text-align: right;\n",
       "    }\n",
       "</style>\n",
       "<table border=\"1\" class=\"dataframe\">\n",
       "  <thead>\n",
       "    <tr style=\"text-align: right;\">\n",
       "      <th></th>\n",
       "      <th>Unnamed: 0</th>\n",
       "      <th>key</th>\n",
       "      <th>fare_amount</th>\n",
       "      <th>pickup_datetime</th>\n",
       "      <th>pickup_longitude</th>\n",
       "      <th>pickup_latitude</th>\n",
       "      <th>dropoff_longitude</th>\n",
       "      <th>dropoff_latitude</th>\n",
       "      <th>passenger_count</th>\n",
       "    </tr>\n",
       "  </thead>\n",
       "  <tbody>\n",
       "    <tr>\n",
       "      <th>119</th>\n",
       "      <td>215672</td>\n",
       "      <td>2009-08-07 13:41:12.0000004</td>\n",
       "      <td>4.1</td>\n",
       "      <td>2009-08-07 13:41:12 UTC</td>\n",
       "      <td>-73.986970</td>\n",
       "      <td>40.733488</td>\n",
       "      <td>-73.980232</td>\n",
       "      <td>40.744102</td>\n",
       "      <td>1</td>\n",
       "    </tr>\n",
       "    <tr>\n",
       "      <th>538</th>\n",
       "      <td>17877834</td>\n",
       "      <td>2011-01-23 14:03:00.000000117</td>\n",
       "      <td>12.5</td>\n",
       "      <td>2011-01-23 14:03:00 UTC</td>\n",
       "      <td>-73.981953</td>\n",
       "      <td>40.774797</td>\n",
       "      <td>-73.976655</td>\n",
       "      <td>40.732483</td>\n",
       "      <td>1</td>\n",
       "    </tr>\n",
       "    <tr>\n",
       "      <th>668</th>\n",
       "      <td>23573402</td>\n",
       "      <td>2009-09-19 01:25:25.0000004</td>\n",
       "      <td>17.7</td>\n",
       "      <td>2009-09-19 01:25:25 UTC</td>\n",
       "      <td>-73.993652</td>\n",
       "      <td>40.720863</td>\n",
       "      <td>-73.925577</td>\n",
       "      <td>40.702701</td>\n",
       "      <td>1</td>\n",
       "    </tr>\n",
       "    <tr>\n",
       "      <th>594</th>\n",
       "      <td>13460991</td>\n",
       "      <td>2015-06-09 09:49:17.0000003</td>\n",
       "      <td>9.5</td>\n",
       "      <td>2015-06-09 09:49:17 UTC</td>\n",
       "      <td>-74.008255</td>\n",
       "      <td>40.730507</td>\n",
       "      <td>-73.986359</td>\n",
       "      <td>40.743156</td>\n",
       "      <td>1</td>\n",
       "    </tr>\n",
       "    <tr>\n",
       "      <th>242</th>\n",
       "      <td>30381181</td>\n",
       "      <td>2014-11-03 21:05:00.000000145</td>\n",
       "      <td>7.5</td>\n",
       "      <td>2014-11-03 21:05:00 UTC</td>\n",
       "      <td>-73.993640</td>\n",
       "      <td>40.728117</td>\n",
       "      <td>-73.978397</td>\n",
       "      <td>40.745327</td>\n",
       "      <td>1</td>\n",
       "    </tr>\n",
       "  </tbody>\n",
       "</table>\n",
       "</div>"
      ],
      "text/plain": [
       "     Unnamed: 0                            key  fare_amount  \\\n",
       "119      215672    2009-08-07 13:41:12.0000004          4.1   \n",
       "538    17877834  2011-01-23 14:03:00.000000117         12.5   \n",
       "668    23573402    2009-09-19 01:25:25.0000004         17.7   \n",
       "594    13460991    2015-06-09 09:49:17.0000003          9.5   \n",
       "242    30381181  2014-11-03 21:05:00.000000145          7.5   \n",
       "\n",
       "             pickup_datetime  pickup_longitude  pickup_latitude  \\\n",
       "119  2009-08-07 13:41:12 UTC        -73.986970        40.733488   \n",
       "538  2011-01-23 14:03:00 UTC        -73.981953        40.774797   \n",
       "668  2009-09-19 01:25:25 UTC        -73.993652        40.720863   \n",
       "594  2015-06-09 09:49:17 UTC        -74.008255        40.730507   \n",
       "242  2014-11-03 21:05:00 UTC        -73.993640        40.728117   \n",
       "\n",
       "     dropoff_longitude  dropoff_latitude  passenger_count  \n",
       "119         -73.980232         40.744102                1  \n",
       "538         -73.976655         40.732483                1  \n",
       "668         -73.925577         40.702701                1  \n",
       "594         -73.986359         40.743156                1  \n",
       "242         -73.978397         40.745327                1  "
      ]
     },
     "execution_count": 25,
     "metadata": {},
     "output_type": "execute_result"
    }
   ],
   "source": [
    "data_new.head(5)"
   ]
  },
  {
   "cell_type": "code",
   "execution_count": 26,
   "metadata": {},
   "outputs": [
    {
     "data": {
      "text/plain": [
       "<matplotlib.axes._subplots.AxesSubplot at 0x1ae4db27ef0>"
      ]
     },
     "execution_count": 26,
     "metadata": {},
     "output_type": "execute_result"
    },
    {
     "data": {
      "image/png": "[encoded data removed]",
      "text/plain": [
       "<Figure size 432x288 with 1 Axes>"
      ]
     },
     "metadata": {
      "needs_background": "light"
     },
     "output_type": "display_data"
    }
   ],
   "source": [
    "data_new['fare_amount'].plot.bar(color='Red')"
   ]
  },
  {
   "cell_type": "markdown",
   "metadata": {},
   "source": [
    "CONVERTING STRING variables to NUMERIC"
   ]
  },
  {
   "cell_type": "code",
   "execution_count": 27,
   "metadata": {},
   "outputs": [
    {
     "data": {
      "text/plain": [
       "(607, 9)"
      ]
     },
     "execution_count": 27,
     "metadata": {},
     "output_type": "execute_result"
    }
   ],
   "source": [
    "data_new.shape"
   ]
  },
  {
   "cell_type": "code",
   "execution_count": 28,
   "metadata": {},
   "outputs": [],
   "source": [
    "data_new=data_new.drop(['Unnamed: 0'],axis=1)"
   ]
  },
  {
   "cell_type": "code",
   "execution_count": 29,
   "metadata": {},
   "outputs": [
    {
     "data": {
      "text/html": [
       "<div>\n",
       "<style scoped>\n",
       "    .dataframe tbody tr th:only-of-type {\n",
       "        vertical-align: middle;\n",
       "    }\n",
       "\n",
       "    .dataframe tbody tr th {\n",
       "        vertical-align: top;\n",
       "    }\n",
       "\n",
       "    .dataframe thead th {\n",
       "        text-align: right;\n",
       "    }\n",
       "</style>\n",
       "<table border=\"1\" class=\"dataframe\">\n",
       "  <thead>\n",
       "    <tr style=\"text-align: right;\">\n",
       "      <th></th>\n",
       "      <th>key</th>\n",
       "      <th>fare_amount</th>\n",
       "      <th>pickup_datetime</th>\n",
       "      <th>pickup_longitude</th>\n",
       "      <th>pickup_latitude</th>\n",
       "      <th>dropoff_longitude</th>\n",
       "      <th>dropoff_latitude</th>\n",
       "      <th>passenger_count</th>\n",
       "    </tr>\n",
       "  </thead>\n",
       "  <tbody>\n",
       "    <tr>\n",
       "      <th>119</th>\n",
       "      <td>2009-08-07 13:41:12.0000004</td>\n",
       "      <td>4.1</td>\n",
       "      <td>2009-08-07 13:41:12 UTC</td>\n",
       "      <td>-73.986970</td>\n",
       "      <td>40.733488</td>\n",
       "      <td>-73.980232</td>\n",
       "      <td>40.744102</td>\n",
       "      <td>1</td>\n",
       "    </tr>\n",
       "    <tr>\n",
       "      <th>538</th>\n",
       "      <td>2011-01-23 14:03:00.000000117</td>\n",
       "      <td>12.5</td>\n",
       "      <td>2011-01-23 14:03:00 UTC</td>\n",
       "      <td>-73.981953</td>\n",
       "      <td>40.774797</td>\n",
       "      <td>-73.976655</td>\n",
       "      <td>40.732483</td>\n",
       "      <td>1</td>\n",
       "    </tr>\n",
       "    <tr>\n",
       "      <th>668</th>\n",
       "      <td>2009-09-19 01:25:25.0000004</td>\n",
       "      <td>17.7</td>\n",
       "      <td>2009-09-19 01:25:25 UTC</td>\n",
       "      <td>-73.993652</td>\n",
       "      <td>40.720863</td>\n",
       "      <td>-73.925577</td>\n",
       "      <td>40.702701</td>\n",
       "      <td>1</td>\n",
       "    </tr>\n",
       "    <tr>\n",
       "      <th>594</th>\n",
       "      <td>2015-06-09 09:49:17.0000003</td>\n",
       "      <td>9.5</td>\n",
       "      <td>2015-06-09 09:49:17 UTC</td>\n",
       "      <td>-74.008255</td>\n",
       "      <td>40.730507</td>\n",
       "      <td>-73.986359</td>\n",
       "      <td>40.743156</td>\n",
       "      <td>1</td>\n",
       "    </tr>\n",
       "    <tr>\n",
       "      <th>242</th>\n",
       "      <td>2014-11-03 21:05:00.000000145</td>\n",
       "      <td>7.5</td>\n",
       "      <td>2014-11-03 21:05:00 UTC</td>\n",
       "      <td>-73.993640</td>\n",
       "      <td>40.728117</td>\n",
       "      <td>-73.978397</td>\n",
       "      <td>40.745327</td>\n",
       "      <td>1</td>\n",
       "    </tr>\n",
       "    <tr>\n",
       "      <th>222</th>\n",
       "      <td>2011-03-07 14:15:33.0000007</td>\n",
       "      <td>8.1</td>\n",
       "      <td>2011-03-07 14:15:33 UTC</td>\n",
       "      <td>-73.998156</td>\n",
       "      <td>40.760995</td>\n",
       "      <td>-73.975220</td>\n",
       "      <td>40.765186</td>\n",
       "      <td>1</td>\n",
       "    </tr>\n",
       "    <tr>\n",
       "      <th>496</th>\n",
       "      <td>2014-08-17 04:03:00.00000039</td>\n",
       "      <td>19.5</td>\n",
       "      <td>2014-08-17 04:03:00 UTC</td>\n",
       "      <td>-73.988380</td>\n",
       "      <td>40.721727</td>\n",
       "      <td>-73.930358</td>\n",
       "      <td>40.760010</td>\n",
       "      <td>1</td>\n",
       "    </tr>\n",
       "    <tr>\n",
       "      <th>42</th>\n",
       "      <td>2009-04-15 09:23:43.0000002</td>\n",
       "      <td>19.3</td>\n",
       "      <td>2009-04-15 09:23:43 UTC</td>\n",
       "      <td>-73.955008</td>\n",
       "      <td>40.777250</td>\n",
       "      <td>-73.926960</td>\n",
       "      <td>40.865128</td>\n",
       "      <td>1</td>\n",
       "    </tr>\n",
       "    <tr>\n",
       "      <th>794</th>\n",
       "      <td>2010-03-18 20:22:00.000000296</td>\n",
       "      <td>8.5</td>\n",
       "      <td>2010-03-18 20:22:00 UTC</td>\n",
       "      <td>-73.985127</td>\n",
       "      <td>40.760353</td>\n",
       "      <td>-73.955230</td>\n",
       "      <td>40.782872</td>\n",
       "      <td>1</td>\n",
       "    </tr>\n",
       "    <tr>\n",
       "      <th>699</th>\n",
       "      <td>2009-05-10 15:20:23.0000005</td>\n",
       "      <td>2.9</td>\n",
       "      <td>2009-05-10 15:20:23 UTC</td>\n",
       "      <td>-73.982487</td>\n",
       "      <td>40.767151</td>\n",
       "      <td>-73.979905</td>\n",
       "      <td>40.765088</td>\n",
       "      <td>1</td>\n",
       "    </tr>\n",
       "    <tr>\n",
       "      <th>533</th>\n",
       "      <td>2011-10-24 21:08:00.000000111</td>\n",
       "      <td>10.9</td>\n",
       "      <td>2011-10-24 21:08:00 UTC</td>\n",
       "      <td>-73.982225</td>\n",
       "      <td>40.769062</td>\n",
       "      <td>-73.956907</td>\n",
       "      <td>40.780165</td>\n",
       "      <td>1</td>\n",
       "    </tr>\n",
       "    <tr>\n",
       "      <th>512</th>\n",
       "      <td>2014-05-17 13:21:00.000000180</td>\n",
       "      <td>4.0</td>\n",
       "      <td>2014-05-17 13:21:00 UTC</td>\n",
       "      <td>-73.984235</td>\n",
       "      <td>40.746057</td>\n",
       "      <td>-73.979392</td>\n",
       "      <td>40.752400</td>\n",
       "      <td>1</td>\n",
       "    </tr>\n",
       "    <tr>\n",
       "      <th>188</th>\n",
       "      <td>2011-01-26 10:42:01.0000005</td>\n",
       "      <td>7.7</td>\n",
       "      <td>2011-01-26 10:42:01 UTC</td>\n",
       "      <td>-73.965761</td>\n",
       "      <td>40.765698</td>\n",
       "      <td>-73.975924</td>\n",
       "      <td>40.749681</td>\n",
       "      <td>1</td>\n",
       "    </tr>\n",
       "    <tr>\n",
       "      <th>328</th>\n",
       "      <td>2009-04-07 15:58:00.000000105</td>\n",
       "      <td>16.1</td>\n",
       "      <td>2009-04-07 15:58:00 UTC</td>\n",
       "      <td>-74.016180</td>\n",
       "      <td>40.711080</td>\n",
       "      <td>-73.979255</td>\n",
       "      <td>40.766840</td>\n",
       "      <td>1</td>\n",
       "    </tr>\n",
       "    <tr>\n",
       "      <th>19</th>\n",
       "      <td>2009-01-11 17:50:00.000000110</td>\n",
       "      <td>5.7</td>\n",
       "      <td>2009-01-11 17:50:00 UTC</td>\n",
       "      <td>-74.001367</td>\n",
       "      <td>40.729283</td>\n",
       "      <td>-74.004363</td>\n",
       "      <td>40.717110</td>\n",
       "      <td>1</td>\n",
       "    </tr>\n",
       "    <tr>\n",
       "      <th>608</th>\n",
       "      <td>2012-12-21 06:37:36.0000001</td>\n",
       "      <td>18.5</td>\n",
       "      <td>2012-12-21 06:37:36 UTC</td>\n",
       "      <td>-73.985062</td>\n",
       "      <td>40.697414</td>\n",
       "      <td>-73.958356</td>\n",
       "      <td>40.767631</td>\n",
       "      <td>1</td>\n",
       "    </tr>\n",
       "    <tr>\n",
       "      <th>258</th>\n",
       "      <td>2010-05-06 02:13:00.00000012</td>\n",
       "      <td>9.3</td>\n",
       "      <td>2010-05-06 02:13:00 UTC</td>\n",
       "      <td>-73.992683</td>\n",
       "      <td>40.745265</td>\n",
       "      <td>-73.993082</td>\n",
       "      <td>40.737193</td>\n",
       "      <td>1</td>\n",
       "    </tr>\n",
       "    <tr>\n",
       "      <th>2</th>\n",
       "      <td>2013-06-27 23:29:00.000000217</td>\n",
       "      <td>4.5</td>\n",
       "      <td>2013-06-27 23:29:00 UTC</td>\n",
       "      <td>-73.989067</td>\n",
       "      <td>40.722015</td>\n",
       "      <td>-73.987212</td>\n",
       "      <td>40.729180</td>\n",
       "      <td>1</td>\n",
       "    </tr>\n",
       "    <tr>\n",
       "      <th>126</th>\n",
       "      <td>2009-04-04 21:02:08.0000001</td>\n",
       "      <td>3.3</td>\n",
       "      <td>2009-04-04 21:02:08 UTC</td>\n",
       "      <td>-73.991915</td>\n",
       "      <td>40.749625</td>\n",
       "      <td>-73.995705</td>\n",
       "      <td>40.744136</td>\n",
       "      <td>1</td>\n",
       "    </tr>\n",
       "    <tr>\n",
       "      <th>163</th>\n",
       "      <td>2011-11-17 23:14:00.00000032</td>\n",
       "      <td>14.1</td>\n",
       "      <td>2011-11-17 23:14:00 UTC</td>\n",
       "      <td>-74.016070</td>\n",
       "      <td>40.711182</td>\n",
       "      <td>-73.983735</td>\n",
       "      <td>40.775880</td>\n",
       "      <td>1</td>\n",
       "    </tr>\n",
       "    <tr>\n",
       "      <th>723</th>\n",
       "      <td>2014-09-27 23:23:39.0000004</td>\n",
       "      <td>16.5</td>\n",
       "      <td>2014-09-27 23:23:39 UTC</td>\n",
       "      <td>-73.978278</td>\n",
       "      <td>40.724967</td>\n",
       "      <td>-73.963462</td>\n",
       "      <td>40.710387</td>\n",
       "      <td>1</td>\n",
       "    </tr>\n",
       "    <tr>\n",
       "      <th>309</th>\n",
       "      <td>2012-07-02 19:55:00.000000139</td>\n",
       "      <td>5.3</td>\n",
       "      <td>2012-07-02 19:55:00 UTC</td>\n",
       "      <td>-73.985400</td>\n",
       "      <td>40.758513</td>\n",
       "      <td>-73.992265</td>\n",
       "      <td>40.749050</td>\n",
       "      <td>1</td>\n",
       "    </tr>\n",
       "    <tr>\n",
       "      <th>795</th>\n",
       "      <td>2013-09-11 02:51:00.0000004</td>\n",
       "      <td>16.0</td>\n",
       "      <td>2013-09-11 02:51:00 UTC</td>\n",
       "      <td>-74.008058</td>\n",
       "      <td>40.739462</td>\n",
       "      <td>-73.959090</td>\n",
       "      <td>40.763472</td>\n",
       "      <td>1</td>\n",
       "    </tr>\n",
       "    <tr>\n",
       "      <th>556</th>\n",
       "      <td>2010-04-10 00:26:00.000000257</td>\n",
       "      <td>6.1</td>\n",
       "      <td>2010-04-10 00:26:00 UTC</td>\n",
       "      <td>-74.012928</td>\n",
       "      <td>40.705677</td>\n",
       "      <td>-74.007583</td>\n",
       "      <td>40.705530</td>\n",
       "      <td>1</td>\n",
       "    </tr>\n",
       "    <tr>\n",
       "      <th>467</th>\n",
       "      <td>2011-02-03 13:35:00.00000033</td>\n",
       "      <td>10.9</td>\n",
       "      <td>2011-02-03 13:35:00 UTC</td>\n",
       "      <td>-73.996968</td>\n",
       "      <td>40.744747</td>\n",
       "      <td>-74.000342</td>\n",
       "      <td>40.727135</td>\n",
       "      <td>1</td>\n",
       "    </tr>\n",
       "    <tr>\n",
       "      <th>103</th>\n",
       "      <td>2013-01-20 15:52:54.0000001</td>\n",
       "      <td>10.0</td>\n",
       "      <td>2013-01-20 15:52:54 UTC</td>\n",
       "      <td>-73.971759</td>\n",
       "      <td>40.787054</td>\n",
       "      <td>-73.975935</td>\n",
       "      <td>40.759978</td>\n",
       "      <td>1</td>\n",
       "    </tr>\n",
       "    <tr>\n",
       "      <th>488</th>\n",
       "      <td>2014-07-27 11:34:45.0000002</td>\n",
       "      <td>12.0</td>\n",
       "      <td>2014-07-27 11:34:45 UTC</td>\n",
       "      <td>0.000000</td>\n",
       "      <td>0.000000</td>\n",
       "      <td>0.000000</td>\n",
       "      <td>0.000000</td>\n",
       "      <td>1</td>\n",
       "    </tr>\n",
       "    <tr>\n",
       "      <th>243</th>\n",
       "      <td>2012-10-06 16:34:53.0000002</td>\n",
       "      <td>11.0</td>\n",
       "      <td>2012-10-06 16:34:53 UTC</td>\n",
       "      <td>-73.985652</td>\n",
       "      <td>40.673897</td>\n",
       "      <td>-73.995804</td>\n",
       "      <td>40.695383</td>\n",
       "      <td>1</td>\n",
       "    </tr>\n",
       "    <tr>\n",
       "      <th>535</th>\n",
       "      <td>2010-08-04 21:32:00.000000208</td>\n",
       "      <td>13.3</td>\n",
       "      <td>2010-08-04 21:32:00 UTC</td>\n",
       "      <td>-73.978562</td>\n",
       "      <td>40.783315</td>\n",
       "      <td>-73.987738</td>\n",
       "      <td>40.740688</td>\n",
       "      <td>1</td>\n",
       "    </tr>\n",
       "    <tr>\n",
       "      <th>215</th>\n",
       "      <td>2010-06-05 18:46:00.000000158</td>\n",
       "      <td>14.1</td>\n",
       "      <td>2010-06-05 18:46:00 UTC</td>\n",
       "      <td>-73.994798</td>\n",
       "      <td>40.721103</td>\n",
       "      <td>-73.984590</td>\n",
       "      <td>40.762420</td>\n",
       "      <td>1</td>\n",
       "    </tr>\n",
       "    <tr>\n",
       "      <th>...</th>\n",
       "      <td>...</td>\n",
       "      <td>...</td>\n",
       "      <td>...</td>\n",
       "      <td>...</td>\n",
       "      <td>...</td>\n",
       "      <td>...</td>\n",
       "      <td>...</td>\n",
       "      <td>...</td>\n",
       "    </tr>\n",
       "    <tr>\n",
       "      <th>697</th>\n",
       "      <td>2009-03-04 09:36:00.000000204</td>\n",
       "      <td>13.7</td>\n",
       "      <td>2009-03-04 09:36:00 UTC</td>\n",
       "      <td>-73.944265</td>\n",
       "      <td>40.780098</td>\n",
       "      <td>-73.985907</td>\n",
       "      <td>40.751603</td>\n",
       "      <td>1</td>\n",
       "    </tr>\n",
       "    <tr>\n",
       "      <th>287</th>\n",
       "      <td>2014-03-06 20:23:00.000000202</td>\n",
       "      <td>8.5</td>\n",
       "      <td>2014-03-06 20:23:00 UTC</td>\n",
       "      <td>-73.982500</td>\n",
       "      <td>40.767520</td>\n",
       "      <td>-73.970382</td>\n",
       "      <td>40.788307</td>\n",
       "      <td>1</td>\n",
       "    </tr>\n",
       "    <tr>\n",
       "      <th>362</th>\n",
       "      <td>2014-11-08 22:59:00.000000232</td>\n",
       "      <td>10.0</td>\n",
       "      <td>2014-11-08 22:59:00 UTC</td>\n",
       "      <td>-73.989582</td>\n",
       "      <td>40.740595</td>\n",
       "      <td>-73.989582</td>\n",
       "      <td>40.740595</td>\n",
       "      <td>1</td>\n",
       "    </tr>\n",
       "    <tr>\n",
       "      <th>217</th>\n",
       "      <td>2013-10-21 08:53:34.0000001</td>\n",
       "      <td>11.5</td>\n",
       "      <td>2013-10-21 08:53:34 UTC</td>\n",
       "      <td>-73.958993</td>\n",
       "      <td>40.781060</td>\n",
       "      <td>-73.981998</td>\n",
       "      <td>40.765942</td>\n",
       "      <td>1</td>\n",
       "    </tr>\n",
       "    <tr>\n",
       "      <th>610</th>\n",
       "      <td>2014-04-16 09:58:51.0000003</td>\n",
       "      <td>18.5</td>\n",
       "      <td>2014-04-16 09:58:51 UTC</td>\n",
       "      <td>-73.963542</td>\n",
       "      <td>40.757086</td>\n",
       "      <td>-74.009086</td>\n",
       "      <td>40.702451</td>\n",
       "      <td>1</td>\n",
       "    </tr>\n",
       "    <tr>\n",
       "      <th>646</th>\n",
       "      <td>2009-05-27 09:22:00.000000207</td>\n",
       "      <td>5.3</td>\n",
       "      <td>2009-05-27 09:22:00 UTC</td>\n",
       "      <td>-73.992097</td>\n",
       "      <td>40.749344</td>\n",
       "      <td>-73.985247</td>\n",
       "      <td>40.739293</td>\n",
       "      <td>1</td>\n",
       "    </tr>\n",
       "    <tr>\n",
       "      <th>401</th>\n",
       "      <td>2012-08-27 19:21:48.0000005</td>\n",
       "      <td>4.1</td>\n",
       "      <td>2012-08-27 19:21:48 UTC</td>\n",
       "      <td>-73.987999</td>\n",
       "      <td>40.749760</td>\n",
       "      <td>-73.980198</td>\n",
       "      <td>40.756477</td>\n",
       "      <td>1</td>\n",
       "    </tr>\n",
       "    <tr>\n",
       "      <th>153</th>\n",
       "      <td>2015-06-18 10:42:47.0000005</td>\n",
       "      <td>6.0</td>\n",
       "      <td>2015-06-18 10:42:47 UTC</td>\n",
       "      <td>-73.966400</td>\n",
       "      <td>40.761913</td>\n",
       "      <td>-73.957893</td>\n",
       "      <td>40.768700</td>\n",
       "      <td>1</td>\n",
       "    </tr>\n",
       "    <tr>\n",
       "      <th>479</th>\n",
       "      <td>2011-05-21 22:10:14.0000006</td>\n",
       "      <td>8.9</td>\n",
       "      <td>2011-05-21 22:10:14 UTC</td>\n",
       "      <td>-73.984189</td>\n",
       "      <td>40.761379</td>\n",
       "      <td>-73.996321</td>\n",
       "      <td>40.732428</td>\n",
       "      <td>1</td>\n",
       "    </tr>\n",
       "    <tr>\n",
       "      <th>250</th>\n",
       "      <td>2010-06-10 11:53:55.0000006</td>\n",
       "      <td>6.5</td>\n",
       "      <td>2010-06-10 11:53:55 UTC</td>\n",
       "      <td>-73.954202</td>\n",
       "      <td>40.770368</td>\n",
       "      <td>-73.948681</td>\n",
       "      <td>40.784046</td>\n",
       "      <td>1</td>\n",
       "    </tr>\n",
       "    <tr>\n",
       "      <th>593</th>\n",
       "      <td>2010-10-29 22:24:17.0000003</td>\n",
       "      <td>8.9</td>\n",
       "      <td>2010-10-29 22:24:17 UTC</td>\n",
       "      <td>-74.008478</td>\n",
       "      <td>40.715791</td>\n",
       "      <td>-74.002605</td>\n",
       "      <td>40.746915</td>\n",
       "      <td>1</td>\n",
       "    </tr>\n",
       "    <tr>\n",
       "      <th>489</th>\n",
       "      <td>2013-07-11 00:05:00.000000120</td>\n",
       "      <td>7.0</td>\n",
       "      <td>2013-07-11 00:05:00 UTC</td>\n",
       "      <td>-73.975127</td>\n",
       "      <td>40.760262</td>\n",
       "      <td>-73.988987</td>\n",
       "      <td>40.756870</td>\n",
       "      <td>1</td>\n",
       "    </tr>\n",
       "    <tr>\n",
       "      <th>667</th>\n",
       "      <td>2010-09-27 10:34:00.000000125</td>\n",
       "      <td>5.3</td>\n",
       "      <td>2010-09-27 10:34:00 UTC</td>\n",
       "      <td>-73.960582</td>\n",
       "      <td>40.762228</td>\n",
       "      <td>-73.947882</td>\n",
       "      <td>40.781085</td>\n",
       "      <td>1</td>\n",
       "    </tr>\n",
       "    <tr>\n",
       "      <th>247</th>\n",
       "      <td>2009-07-18 22:55:07.0000002</td>\n",
       "      <td>11.7</td>\n",
       "      <td>2009-07-18 22:55:07 UTC</td>\n",
       "      <td>-74.003241</td>\n",
       "      <td>40.708235</td>\n",
       "      <td>-73.984932</td>\n",
       "      <td>40.741591</td>\n",
       "      <td>1</td>\n",
       "    </tr>\n",
       "    <tr>\n",
       "      <th>769</th>\n",
       "      <td>2009-04-30 00:36:41.0000001</td>\n",
       "      <td>7.7</td>\n",
       "      <td>2009-04-30 00:36:41 UTC</td>\n",
       "      <td>-73.983061</td>\n",
       "      <td>40.726592</td>\n",
       "      <td>-73.979457</td>\n",
       "      <td>40.749523</td>\n",
       "      <td>1</td>\n",
       "    </tr>\n",
       "    <tr>\n",
       "      <th>694</th>\n",
       "      <td>2010-09-26 09:46:38.0000004</td>\n",
       "      <td>10.1</td>\n",
       "      <td>2010-09-26 09:46:38 UTC</td>\n",
       "      <td>-73.984457</td>\n",
       "      <td>40.764823</td>\n",
       "      <td>-73.994914</td>\n",
       "      <td>40.726075</td>\n",
       "      <td>1</td>\n",
       "    </tr>\n",
       "    <tr>\n",
       "      <th>4</th>\n",
       "      <td>2013-04-03 11:11:00.00000036</td>\n",
       "      <td>5.5</td>\n",
       "      <td>2013-04-03 11:11:00 UTC</td>\n",
       "      <td>-74.005197</td>\n",
       "      <td>40.740512</td>\n",
       "      <td>-74.005500</td>\n",
       "      <td>40.726662</td>\n",
       "      <td>1</td>\n",
       "    </tr>\n",
       "    <tr>\n",
       "      <th>407</th>\n",
       "      <td>2011-10-11 09:15:00.000000128</td>\n",
       "      <td>11.7</td>\n",
       "      <td>2011-10-11 09:15:00 UTC</td>\n",
       "      <td>-73.982518</td>\n",
       "      <td>40.771665</td>\n",
       "      <td>-73.979488</td>\n",
       "      <td>40.752298</td>\n",
       "      <td>1</td>\n",
       "    </tr>\n",
       "    <tr>\n",
       "      <th>230</th>\n",
       "      <td>2014-08-10 02:13:13.0000003</td>\n",
       "      <td>13.5</td>\n",
       "      <td>2014-08-10 02:13:13 UTC</td>\n",
       "      <td>-73.982690</td>\n",
       "      <td>40.771304</td>\n",
       "      <td>-73.945625</td>\n",
       "      <td>40.782788</td>\n",
       "      <td>1</td>\n",
       "    </tr>\n",
       "    <tr>\n",
       "      <th>283</th>\n",
       "      <td>2010-03-13 07:44:00.00000034</td>\n",
       "      <td>8.1</td>\n",
       "      <td>2010-03-13 07:44:00 UTC</td>\n",
       "      <td>-73.993773</td>\n",
       "      <td>40.727143</td>\n",
       "      <td>-73.974283</td>\n",
       "      <td>40.761802</td>\n",
       "      <td>1</td>\n",
       "    </tr>\n",
       "    <tr>\n",
       "      <th>537</th>\n",
       "      <td>2012-05-03 10:59:00.000000196</td>\n",
       "      <td>9.3</td>\n",
       "      <td>2012-05-03 10:59:00 UTC</td>\n",
       "      <td>-73.982818</td>\n",
       "      <td>40.726977</td>\n",
       "      <td>-73.974505</td>\n",
       "      <td>40.750847</td>\n",
       "      <td>1</td>\n",
       "    </tr>\n",
       "    <tr>\n",
       "      <th>238</th>\n",
       "      <td>2011-04-23 10:16:00.00000038</td>\n",
       "      <td>8.1</td>\n",
       "      <td>2011-04-23 10:16:00 UTC</td>\n",
       "      <td>-73.990152</td>\n",
       "      <td>40.734627</td>\n",
       "      <td>-73.979740</td>\n",
       "      <td>40.755160</td>\n",
       "      <td>1</td>\n",
       "    </tr>\n",
       "    <tr>\n",
       "      <th>129</th>\n",
       "      <td>2011-03-24 10:58:18.0000002</td>\n",
       "      <td>6.1</td>\n",
       "      <td>2011-03-24 10:58:18 UTC</td>\n",
       "      <td>-74.000089</td>\n",
       "      <td>40.761402</td>\n",
       "      <td>-73.993394</td>\n",
       "      <td>40.748796</td>\n",
       "      <td>1</td>\n",
       "    </tr>\n",
       "    <tr>\n",
       "      <th>534</th>\n",
       "      <td>2014-10-21 17:35:00.000000101</td>\n",
       "      <td>19.0</td>\n",
       "      <td>2014-10-21 17:35:00 UTC</td>\n",
       "      <td>-73.977227</td>\n",
       "      <td>40.736342</td>\n",
       "      <td>-74.015267</td>\n",
       "      <td>40.711405</td>\n",
       "      <td>1</td>\n",
       "    </tr>\n",
       "    <tr>\n",
       "      <th>527</th>\n",
       "      <td>2010-01-17 11:43:15.0000002</td>\n",
       "      <td>4.9</td>\n",
       "      <td>2010-01-17 11:43:15 UTC</td>\n",
       "      <td>-73.973262</td>\n",
       "      <td>40.763886</td>\n",
       "      <td>-73.985804</td>\n",
       "      <td>40.757624</td>\n",
       "      <td>1</td>\n",
       "    </tr>\n",
       "    <tr>\n",
       "      <th>461</th>\n",
       "      <td>2010-08-22 17:58:00.000000122</td>\n",
       "      <td>3.7</td>\n",
       "      <td>2010-08-22 17:58:00 UTC</td>\n",
       "      <td>-73.971863</td>\n",
       "      <td>40.746230</td>\n",
       "      <td>-73.973806</td>\n",
       "      <td>40.750164</td>\n",
       "      <td>1</td>\n",
       "    </tr>\n",
       "    <tr>\n",
       "      <th>189</th>\n",
       "      <td>2012-10-20 01:46:00.00000077</td>\n",
       "      <td>4.0</td>\n",
       "      <td>2012-10-20 01:46:00 UTC</td>\n",
       "      <td>-74.013248</td>\n",
       "      <td>40.714987</td>\n",
       "      <td>-74.010745</td>\n",
       "      <td>40.713932</td>\n",
       "      <td>1</td>\n",
       "    </tr>\n",
       "    <tr>\n",
       "      <th>408</th>\n",
       "      <td>2009-04-14 16:54:15.0000004</td>\n",
       "      <td>5.7</td>\n",
       "      <td>2009-04-14 16:54:15 UTC</td>\n",
       "      <td>-73.985428</td>\n",
       "      <td>40.756801</td>\n",
       "      <td>-74.000790</td>\n",
       "      <td>40.757584</td>\n",
       "      <td>1</td>\n",
       "    </tr>\n",
       "    <tr>\n",
       "      <th>367</th>\n",
       "      <td>2009-01-06 17:59:00.000000197</td>\n",
       "      <td>9.3</td>\n",
       "      <td>2009-01-06 17:59:00 UTC</td>\n",
       "      <td>-73.976022</td>\n",
       "      <td>40.776070</td>\n",
       "      <td>-73.948995</td>\n",
       "      <td>40.793367</td>\n",
       "      <td>1</td>\n",
       "    </tr>\n",
       "    <tr>\n",
       "      <th>365</th>\n",
       "      <td>2014-08-06 23:06:29.0000001</td>\n",
       "      <td>13.5</td>\n",
       "      <td>2014-08-06 23:06:29 UTC</td>\n",
       "      <td>-73.988495</td>\n",
       "      <td>40.754317</td>\n",
       "      <td>-73.984722</td>\n",
       "      <td>40.720370</td>\n",
       "      <td>1</td>\n",
       "    </tr>\n",
       "  </tbody>\n",
       "</table>\n",
       "<p>100 rows × 8 columns</p>\n",
       "</div>"
      ],
      "text/plain": [
       "                               key  fare_amount          pickup_datetime  \\\n",
       "119    2009-08-07 13:41:12.0000004          4.1  2009-08-07 13:41:12 UTC   \n",
       "538  2011-01-23 14:03:00.000000117         12.5  2011-01-23 14:03:00 UTC   \n",
       "668    2009-09-19 01:25:25.0000004         17.7  2009-09-19 01:25:25 UTC   \n",
       "594    2015-06-09 09:49:17.0000003          9.5  2015-06-09 09:49:17 UTC   \n",
       "242  2014-11-03 21:05:00.000000145          7.5  2014-11-03 21:05:00 UTC   \n",
       "222    2011-03-07 14:15:33.0000007          8.1  2011-03-07 14:15:33 UTC   \n",
       "496   2014-08-17 04:03:00.00000039         19.5  2014-08-17 04:03:00 UTC   \n",
       "42     2009-04-15 09:23:43.0000002         19.3  2009-04-15 09:23:43 UTC   \n",
       "794  2010-03-18 20:22:00.000000296          8.5  2010-03-18 20:22:00 UTC   \n",
       "699    2009-05-10 15:20:23.0000005          2.9  2009-05-10 15:20:23 UTC   \n",
       "533  2011-10-24 21:08:00.000000111         10.9  2011-10-24 21:08:00 UTC   \n",
       "512  2014-05-17 13:21:00.000000180          4.0  2014-05-17 13:21:00 UTC   \n",
       "188    2011-01-26 10:42:01.0000005          7.7  2011-01-26 10:42:01 UTC   \n",
       "328  2009-04-07 15:58:00.000000105         16.1  2009-04-07 15:58:00 UTC   \n",
       "19   2009-01-11 17:50:00.000000110          5.7  2009-01-11 17:50:00 UTC   \n",
       "608    2012-12-21 06:37:36.0000001         18.5  2012-12-21 06:37:36 UTC   \n",
       "258   2010-05-06 02:13:00.00000012          9.3  2010-05-06 02:13:00 UTC   \n",
       "2    2013-06-27 23:29:00.000000217          4.5  2013-06-27 23:29:00 UTC   \n",
       "126    2009-04-04 21:02:08.0000001          3.3  2009-04-04 21:02:08 UTC   \n",
       "163   2011-11-17 23:14:00.00000032         14.1  2011-11-17 23:14:00 UTC   \n",
       "723    2014-09-27 23:23:39.0000004         16.5  2014-09-27 23:23:39 UTC   \n",
       "309  2012-07-02 19:55:00.000000139          5.3  2012-07-02 19:55:00 UTC   \n",
       "795    2013-09-11 02:51:00.0000004         16.0  2013-09-11 02:51:00 UTC   \n",
       "556  2010-04-10 00:26:00.000000257          6.1  2010-04-10 00:26:00 UTC   \n",
       "467   2011-02-03 13:35:00.00000033         10.9  2011-02-03 13:35:00 UTC   \n",
       "103    2013-01-20 15:52:54.0000001         10.0  2013-01-20 15:52:54 UTC   \n",
       "488    2014-07-27 11:34:45.0000002         12.0  2014-07-27 11:34:45 UTC   \n",
       "243    2012-10-06 16:34:53.0000002         11.0  2012-10-06 16:34:53 UTC   \n",
       "535  2010-08-04 21:32:00.000000208         13.3  2010-08-04 21:32:00 UTC   \n",
       "215  2010-06-05 18:46:00.000000158         14.1  2010-06-05 18:46:00 UTC   \n",
       "..                             ...          ...                      ...   \n",
       "697  2009-03-04 09:36:00.000000204         13.7  2009-03-04 09:36:00 UTC   \n",
       "287  2014-03-06 20:23:00.000000202          8.5  2014-03-06 20:23:00 UTC   \n",
       "362  2014-11-08 22:59:00.000000232         10.0  2014-11-08 22:59:00 UTC   \n",
       "217    2013-10-21 08:53:34.0000001         11.5  2013-10-21 08:53:34 UTC   \n",
       "610    2014-04-16 09:58:51.0000003         18.5  2014-04-16 09:58:51 UTC   \n",
       "646  2009-05-27 09:22:00.000000207          5.3  2009-05-27 09:22:00 UTC   \n",
       "401    2012-08-27 19:21:48.0000005          4.1  2012-08-27 19:21:48 UTC   \n",
       "153    2015-06-18 10:42:47.0000005          6.0  2015-06-18 10:42:47 UTC   \n",
       "479    2011-05-21 22:10:14.0000006          8.9  2011-05-21 22:10:14 UTC   \n",
       "250    2010-06-10 11:53:55.0000006          6.5  2010-06-10 11:53:55 UTC   \n",
       "593    2010-10-29 22:24:17.0000003          8.9  2010-10-29 22:24:17 UTC   \n",
       "489  2013-07-11 00:05:00.000000120          7.0  2013-07-11 00:05:00 UTC   \n",
       "667  2010-09-27 10:34:00.000000125          5.3  2010-09-27 10:34:00 UTC   \n",
       "247    2009-07-18 22:55:07.0000002         11.7  2009-07-18 22:55:07 UTC   \n",
       "769    2009-04-30 00:36:41.0000001          7.7  2009-04-30 00:36:41 UTC   \n",
       "694    2010-09-26 09:46:38.0000004         10.1  2010-09-26 09:46:38 UTC   \n",
       "4     2013-04-03 11:11:00.00000036          5.5  2013-04-03 11:11:00 UTC   \n",
       "407  2011-10-11 09:15:00.000000128         11.7  2011-10-11 09:15:00 UTC   \n",
       "230    2014-08-10 02:13:13.0000003         13.5  2014-08-10 02:13:13 UTC   \n",
       "283   2010-03-13 07:44:00.00000034          8.1  2010-03-13 07:44:00 UTC   \n",
       "537  2012-05-03 10:59:00.000000196          9.3  2012-05-03 10:59:00 UTC   \n",
       "238   2011-04-23 10:16:00.00000038          8.1  2011-04-23 10:16:00 UTC   \n",
       "129    2011-03-24 10:58:18.0000002          6.1  2011-03-24 10:58:18 UTC   \n",
       "534  2014-10-21 17:35:00.000000101         19.0  2014-10-21 17:35:00 UTC   \n",
       "527    2010-01-17 11:43:15.0000002          4.9  2010-01-17 11:43:15 UTC   \n",
       "461  2010-08-22 17:58:00.000000122          3.7  2010-08-22 17:58:00 UTC   \n",
       "189   2012-10-20 01:46:00.00000077          4.0  2012-10-20 01:46:00 UTC   \n",
       "408    2009-04-14 16:54:15.0000004          5.7  2009-04-14 16:54:15 UTC   \n",
       "367  2009-01-06 17:59:00.000000197          9.3  2009-01-06 17:59:00 UTC   \n",
       "365    2014-08-06 23:06:29.0000001         13.5  2014-08-06 23:06:29 UTC   \n",
       "\n",
       "     pickup_longitude  pickup_latitude  dropoff_longitude  dropoff_latitude  \\\n",
       "119        -73.986970        40.733488         -73.980232         40.744102   \n",
       "538        -73.981953        40.774797         -73.976655         40.732483   \n",
       "668        -73.993652        40.720863         -73.925577         40.702701   \n",
       "594        -74.008255        40.730507         -73.986359         40.743156   \n",
       "242        -73.993640        40.728117         -73.978397         40.745327   \n",
       "222        -73.998156        40.760995         -73.975220         40.765186   \n",
       "496        -73.988380        40.721727         -73.930358         40.760010   \n",
       "42         -73.955008        40.777250         -73.926960         40.865128   \n",
       "794        -73.985127        40.760353         -73.955230         40.782872   \n",
       "699        -73.982487        40.767151         -73.979905         40.765088   \n",
       "533        -73.982225        40.769062         -73.956907         40.780165   \n",
       "512        -73.984235        40.746057         -73.979392         40.752400   \n",
       "188        -73.965761        40.765698         -73.975924         40.749681   \n",
       "328        -74.016180        40.711080         -73.979255         40.766840   \n",
       "19         -74.001367        40.729283         -74.004363         40.717110   \n",
       "608        -73.985062        40.697414         -73.958356         40.767631   \n",
       "258        -73.992683        40.745265         -73.993082         40.737193   \n",
       "2          -73.989067        40.722015         -73.987212         40.729180   \n",
       "126        -73.991915        40.749625         -73.995705         40.744136   \n",
       "163        -74.016070        40.711182         -73.983735         40.775880   \n",
       "723        -73.978278        40.724967         -73.963462         40.710387   \n",
       "309        -73.985400        40.758513         -73.992265         40.749050   \n",
       "795        -74.008058        40.739462         -73.959090         40.763472   \n",
       "556        -74.012928        40.705677         -74.007583         40.705530   \n",
       "467        -73.996968        40.744747         -74.000342         40.727135   \n",
       "103        -73.971759        40.787054         -73.975935         40.759978   \n",
       "488          0.000000         0.000000           0.000000          0.000000   \n",
       "243        -73.985652        40.673897         -73.995804         40.695383   \n",
       "535        -73.978562        40.783315         -73.987738         40.740688   \n",
       "215        -73.994798        40.721103         -73.984590         40.762420   \n",
       "..                ...              ...                ...               ...   \n",
       "697        -73.944265        40.780098         -73.985907         40.751603   \n",
       "287        -73.982500        40.767520         -73.970382         40.788307   \n",
       "362        -73.989582        40.740595         -73.989582         40.740595   \n",
       "217        -73.958993        40.781060         -73.981998         40.765942   \n",
       "610        -73.963542        40.757086         -74.009086         40.702451   \n",
       "646        -73.992097        40.749344         -73.985247         40.739293   \n",
       "401        -73.987999        40.749760         -73.980198         40.756477   \n",
       "153        -73.966400        40.761913         -73.957893         40.768700   \n",
       "479        -73.984189        40.761379         -73.996321         40.732428   \n",
       "250        -73.954202        40.770368         -73.948681         40.784046   \n",
       "593        -74.008478        40.715791         -74.002605         40.746915   \n",
       "489        -73.975127        40.760262         -73.988987         40.756870   \n",
       "667        -73.960582        40.762228         -73.947882         40.781085   \n",
       "247        -74.003241        40.708235         -73.984932         40.741591   \n",
       "769        -73.983061        40.726592         -73.979457         40.749523   \n",
       "694        -73.984457        40.764823         -73.994914         40.726075   \n",
       "4          -74.005197        40.740512         -74.005500         40.726662   \n",
       "407        -73.982518        40.771665         -73.979488         40.752298   \n",
       "230        -73.982690        40.771304         -73.945625         40.782788   \n",
       "283        -73.993773        40.727143         -73.974283         40.761802   \n",
       "537        -73.982818        40.726977         -73.974505         40.750847   \n",
       "238        -73.990152        40.734627         -73.979740         40.755160   \n",
       "129        -74.000089        40.761402         -73.993394         40.748796   \n",
       "534        -73.977227        40.736342         -74.015267         40.711405   \n",
       "527        -73.973262        40.763886         -73.985804         40.757624   \n",
       "461        -73.971863        40.746230         -73.973806         40.750164   \n",
       "189        -74.013248        40.714987         -74.010745         40.713932   \n",
       "408        -73.985428        40.756801         -74.000790         40.757584   \n",
       "367        -73.976022        40.776070         -73.948995         40.793367   \n",
       "365        -73.988495        40.754317         -73.984722         40.720370   \n",
       "\n",
       "     passenger_count  \n",
       "119                1  \n",
       "538                1  \n",
       "668                1  \n",
       "594                1  \n",
       "242                1  \n",
       "222                1  \n",
       "496                1  \n",
       "42                 1  \n",
       "794                1  \n",
       "699                1  \n",
       "533                1  \n",
       "512                1  \n",
       "188                1  \n",
       "328                1  \n",
       "19                 1  \n",
       "608                1  \n",
       "258                1  \n",
       "2                  1  \n",
       "126                1  \n",
       "163                1  \n",
       "723                1  \n",
       "309                1  \n",
       "795                1  \n",
       "556                1  \n",
       "467                1  \n",
       "103                1  \n",
       "488                1  \n",
       "243                1  \n",
       "535                1  \n",
       "215                1  \n",
       "..               ...  \n",
       "697                1  \n",
       "287                1  \n",
       "362                1  \n",
       "217                1  \n",
       "610                1  \n",
       "646                1  \n",
       "401                1  \n",
       "153                1  \n",
       "479                1  \n",
       "250                1  \n",
       "593                1  \n",
       "489                1  \n",
       "667                1  \n",
       "247                1  \n",
       "769                1  \n",
       "694                1  \n",
       "4                  1  \n",
       "407                1  \n",
       "230                1  \n",
       "283                1  \n",
       "537                1  \n",
       "238                1  \n",
       "129                1  \n",
       "534                1  \n",
       "527                1  \n",
       "461                1  \n",
       "189                1  \n",
       "408                1  \n",
       "367                1  \n",
       "365                1  \n",
       "\n",
       "[100 rows x 8 columns]"
      ]
     },
     "execution_count": 29,
     "metadata": {},
     "output_type": "execute_result"
    }
   ],
   "source": [
    "data_new.head(100)"
   ]
  },
  {
   "cell_type": "code",
   "execution_count": 30,
   "metadata": {},
   "outputs": [
    {
     "name": "stdout",
     "output_type": "stream",
     "text": [
      "Count2: 0 Count1: 607\n"
     ]
    }
   ],
   "source": [
    "#Checking whether \"passenger_count\" is other than 1\n",
    "count1=0\n",
    "count2=0\n",
    "for i in range(0,data_new.shape[0]):\n",
    "    if data_new.iloc[i,7]==2:\n",
    "        count2=count2+1\n",
    "    else:\n",
    "        count1=count1+1\n",
    "print(\"Count2:\",count2,\"Count1:\",count1)"
   ]
  },
  {
   "cell_type": "code",
   "execution_count": 31,
   "metadata": {},
   "outputs": [],
   "source": [
    "#data_new=data_new.drop(['Unnamed: 0','key'],axis=1)"
   ]
  },
  {
   "cell_type": "code",
   "execution_count": 32,
   "metadata": {},
   "outputs": [
    {
     "data": {
      "text/html": [
       "<div>\n",
       "<style scoped>\n",
       "    .dataframe tbody tr th:only-of-type {\n",
       "        vertical-align: middle;\n",
       "    }\n",
       "\n",
       "    .dataframe tbody tr th {\n",
       "        vertical-align: top;\n",
       "    }\n",
       "\n",
       "    .dataframe thead th {\n",
       "        text-align: right;\n",
       "    }\n",
       "</style>\n",
       "<table border=\"1\" class=\"dataframe\">\n",
       "  <thead>\n",
       "    <tr style=\"text-align: right;\">\n",
       "      <th></th>\n",
       "      <th>index</th>\n",
       "      <th>key</th>\n",
       "      <th>fare_amount</th>\n",
       "      <th>pickup_datetime</th>\n",
       "      <th>pickup_longitude</th>\n",
       "      <th>pickup_latitude</th>\n",
       "      <th>dropoff_longitude</th>\n",
       "      <th>dropoff_latitude</th>\n",
       "      <th>passenger_count</th>\n",
       "    </tr>\n",
       "  </thead>\n",
       "  <tbody>\n",
       "    <tr>\n",
       "      <th>0</th>\n",
       "      <td>119</td>\n",
       "      <td>2009-08-07 13:41:12.0000004</td>\n",
       "      <td>4.1</td>\n",
       "      <td>2009-08-07 13:41:12 UTC</td>\n",
       "      <td>-73.986970</td>\n",
       "      <td>40.733488</td>\n",
       "      <td>-73.980232</td>\n",
       "      <td>40.744102</td>\n",
       "      <td>1</td>\n",
       "    </tr>\n",
       "    <tr>\n",
       "      <th>1</th>\n",
       "      <td>538</td>\n",
       "      <td>2011-01-23 14:03:00.000000117</td>\n",
       "      <td>12.5</td>\n",
       "      <td>2011-01-23 14:03:00 UTC</td>\n",
       "      <td>-73.981953</td>\n",
       "      <td>40.774797</td>\n",
       "      <td>-73.976655</td>\n",
       "      <td>40.732483</td>\n",
       "      <td>1</td>\n",
       "    </tr>\n",
       "    <tr>\n",
       "      <th>2</th>\n",
       "      <td>668</td>\n",
       "      <td>2009-09-19 01:25:25.0000004</td>\n",
       "      <td>17.7</td>\n",
       "      <td>2009-09-19 01:25:25 UTC</td>\n",
       "      <td>-73.993652</td>\n",
       "      <td>40.720863</td>\n",
       "      <td>-73.925577</td>\n",
       "      <td>40.702701</td>\n",
       "      <td>1</td>\n",
       "    </tr>\n",
       "    <tr>\n",
       "      <th>3</th>\n",
       "      <td>594</td>\n",
       "      <td>2015-06-09 09:49:17.0000003</td>\n",
       "      <td>9.5</td>\n",
       "      <td>2015-06-09 09:49:17 UTC</td>\n",
       "      <td>-74.008255</td>\n",
       "      <td>40.730507</td>\n",
       "      <td>-73.986359</td>\n",
       "      <td>40.743156</td>\n",
       "      <td>1</td>\n",
       "    </tr>\n",
       "    <tr>\n",
       "      <th>4</th>\n",
       "      <td>242</td>\n",
       "      <td>2014-11-03 21:05:00.000000145</td>\n",
       "      <td>7.5</td>\n",
       "      <td>2014-11-03 21:05:00 UTC</td>\n",
       "      <td>-73.993640</td>\n",
       "      <td>40.728117</td>\n",
       "      <td>-73.978397</td>\n",
       "      <td>40.745327</td>\n",
       "      <td>1</td>\n",
       "    </tr>\n",
       "  </tbody>\n",
       "</table>\n",
       "</div>"
      ],
      "text/plain": [
       "   index                            key  fare_amount          pickup_datetime  \\\n",
       "0    119    2009-08-07 13:41:12.0000004          4.1  2009-08-07 13:41:12 UTC   \n",
       "1    538  2011-01-23 14:03:00.000000117         12.5  2011-01-23 14:03:00 UTC   \n",
       "2    668    2009-09-19 01:25:25.0000004         17.7  2009-09-19 01:25:25 UTC   \n",
       "3    594    2015-06-09 09:49:17.0000003          9.5  2015-06-09 09:49:17 UTC   \n",
       "4    242  2014-11-03 21:05:00.000000145          7.5  2014-11-03 21:05:00 UTC   \n",
       "\n",
       "   pickup_longitude  pickup_latitude  dropoff_longitude  dropoff_latitude  \\\n",
       "0        -73.986970        40.733488         -73.980232         40.744102   \n",
       "1        -73.981953        40.774797         -73.976655         40.732483   \n",
       "2        -73.993652        40.720863         -73.925577         40.702701   \n",
       "3        -74.008255        40.730507         -73.986359         40.743156   \n",
       "4        -73.993640        40.728117         -73.978397         40.745327   \n",
       "\n",
       "   passenger_count  \n",
       "0                1  \n",
       "1                1  \n",
       "2                1  \n",
       "3                1  \n",
       "4                1  "
      ]
     },
     "execution_count": 32,
     "metadata": {},
     "output_type": "execute_result"
    }
   ],
   "source": [
    "data_new.head().reset_index()"
   ]
  },
  {
   "cell_type": "code",
   "execution_count": 33,
   "metadata": {},
   "outputs": [
    {
     "data": {
      "text/plain": [
       "key                   object\n",
       "fare_amount          float64\n",
       "pickup_datetime       object\n",
       "pickup_longitude     float64\n",
       "pickup_latitude      float64\n",
       "dropoff_longitude    float64\n",
       "dropoff_latitude     float64\n",
       "passenger_count        int64\n",
       "dtype: object"
      ]
     },
     "execution_count": 33,
     "metadata": {},
     "output_type": "execute_result"
    }
   ],
   "source": [
    "data_new.dtypes"
   ]
  },
  {
   "cell_type": "code",
   "execution_count": 34,
   "metadata": {},
   "outputs": [
    {
     "data": {
      "text/html": [
       "<div>\n",
       "<style scoped>\n",
       "    .dataframe tbody tr th:only-of-type {\n",
       "        vertical-align: middle;\n",
       "    }\n",
       "\n",
       "    .dataframe tbody tr th {\n",
       "        vertical-align: top;\n",
       "    }\n",
       "\n",
       "    .dataframe thead th {\n",
       "        text-align: right;\n",
       "    }\n",
       "</style>\n",
       "<table border=\"1\" class=\"dataframe\">\n",
       "  <thead>\n",
       "    <tr style=\"text-align: right;\">\n",
       "      <th></th>\n",
       "      <th>fare_amount</th>\n",
       "      <th>pickup_longitude</th>\n",
       "      <th>pickup_latitude</th>\n",
       "      <th>dropoff_longitude</th>\n",
       "      <th>dropoff_latitude</th>\n",
       "      <th>passenger_count</th>\n",
       "    </tr>\n",
       "  </thead>\n",
       "  <tbody>\n",
       "    <tr>\n",
       "      <th>count</th>\n",
       "      <td>607.000000</td>\n",
       "      <td>607.000000</td>\n",
       "      <td>607.000000</td>\n",
       "      <td>607.000000</td>\n",
       "      <td>607.000000</td>\n",
       "      <td>607.0</td>\n",
       "    </tr>\n",
       "    <tr>\n",
       "      <th>mean</th>\n",
       "      <td>8.846293</td>\n",
       "      <td>-72.517320</td>\n",
       "      <td>39.946114</td>\n",
       "      <td>-72.637897</td>\n",
       "      <td>40.013603</td>\n",
       "      <td>1.0</td>\n",
       "    </tr>\n",
       "    <tr>\n",
       "      <th>std</th>\n",
       "      <td>3.971958</td>\n",
       "      <td>10.307011</td>\n",
       "      <td>5.677640</td>\n",
       "      <td>9.876329</td>\n",
       "      <td>5.440558</td>\n",
       "      <td>0.0</td>\n",
       "    </tr>\n",
       "    <tr>\n",
       "      <th>min</th>\n",
       "      <td>2.500000</td>\n",
       "      <td>-74.017159</td>\n",
       "      <td>0.000000</td>\n",
       "      <td>-74.016869</td>\n",
       "      <td>0.000000</td>\n",
       "      <td>1.0</td>\n",
       "    </tr>\n",
       "    <tr>\n",
       "      <th>25%</th>\n",
       "      <td>6.000000</td>\n",
       "      <td>-73.991526</td>\n",
       "      <td>40.735444</td>\n",
       "      <td>-73.991275</td>\n",
       "      <td>40.736288</td>\n",
       "      <td>1.0</td>\n",
       "    </tr>\n",
       "    <tr>\n",
       "      <th>50%</th>\n",
       "      <td>8.000000</td>\n",
       "      <td>-73.981782</td>\n",
       "      <td>40.752777</td>\n",
       "      <td>-73.980179</td>\n",
       "      <td>40.752324</td>\n",
       "      <td>1.0</td>\n",
       "    </tr>\n",
       "    <tr>\n",
       "      <th>75%</th>\n",
       "      <td>11.300000</td>\n",
       "      <td>-73.968428</td>\n",
       "      <td>40.765605</td>\n",
       "      <td>-73.967578</td>\n",
       "      <td>40.765358</td>\n",
       "      <td>1.0</td>\n",
       "    </tr>\n",
       "    <tr>\n",
       "      <th>max</th>\n",
       "      <td>20.100000</td>\n",
       "      <td>0.000000</td>\n",
       "      <td>40.810791</td>\n",
       "      <td>0.000000</td>\n",
       "      <td>40.865128</td>\n",
       "      <td>1.0</td>\n",
       "    </tr>\n",
       "  </tbody>\n",
       "</table>\n",
       "</div>"
      ],
      "text/plain": [
       "       fare_amount  pickup_longitude  pickup_latitude  dropoff_longitude  \\\n",
       "count   607.000000        607.000000       607.000000         607.000000   \n",
       "mean      8.846293        -72.517320        39.946114         -72.637897   \n",
       "std       3.971958         10.307011         5.677640           9.876329   \n",
       "min       2.500000        -74.017159         0.000000         -74.016869   \n",
       "25%       6.000000        -73.991526        40.735444         -73.991275   \n",
       "50%       8.000000        -73.981782        40.752777         -73.980179   \n",
       "75%      11.300000        -73.968428        40.765605         -73.967578   \n",
       "max      20.100000          0.000000        40.810791           0.000000   \n",
       "\n",
       "       dropoff_latitude  passenger_count  \n",
       "count        607.000000            607.0  \n",
       "mean          40.013603              1.0  \n",
       "std            5.440558              0.0  \n",
       "min            0.000000              1.0  \n",
       "25%           40.736288              1.0  \n",
       "50%           40.752324              1.0  \n",
       "75%           40.765358              1.0  \n",
       "max           40.865128              1.0  "
      ]
     },
     "execution_count": 34,
     "metadata": {},
     "output_type": "execute_result"
    }
   ],
   "source": [
    "data_new.describe()"
   ]
  },
  {
   "cell_type": "code",
   "execution_count": 35,
   "metadata": {},
   "outputs": [],
   "source": [
    "#Since PICKUP_DATETIME is an object, therefore FIXING IT...."
   ]
  },
  {
   "cell_type": "code",
   "execution_count": 36,
   "metadata": {},
   "outputs": [],
   "source": [
    "data_new['pickup_datetime']=pd.to_datetime(data_new['pickup_datetime'],format='%Y-%m-%d %H:%M:%S UTC')"
   ]
  },
  {
   "cell_type": "code",
   "execution_count": 37,
   "metadata": {},
   "outputs": [],
   "source": [
    "#separating PICKUP_DATETIME into separate variables...FEATURE ENGINEERING"
   ]
  },
  {
   "cell_type": "code",
   "execution_count": 38,
   "metadata": {},
   "outputs": [],
   "source": [
    "data_new['Year']=data_new['pickup_datetime'].dt.year\n",
    "data_new['Month']=data_new['pickup_datetime'].dt.month\n",
    "data_new['Date']=data_new['pickup_datetime'].dt.day\n",
    "data_new['Day']=data_new['pickup_datetime'].dt.dayofweek\n",
    "data_new['Hour']=data_new['pickup_datetime'].dt.hour\n",
    "data_new['Minute']=data_new['pickup_datetime'].dt.minute\n"
   ]
  },
  {
   "cell_type": "code",
   "execution_count": 39,
   "metadata": {},
   "outputs": [
    {
     "data": {
      "text/html": [
       "<div>\n",
       "<style scoped>\n",
       "    .dataframe tbody tr th:only-of-type {\n",
       "        vertical-align: middle;\n",
       "    }\n",
       "\n",
       "    .dataframe tbody tr th {\n",
       "        vertical-align: top;\n",
       "    }\n",
       "\n",
       "    .dataframe thead th {\n",
       "        text-align: right;\n",
       "    }\n",
       "</style>\n",
       "<table border=\"1\" class=\"dataframe\">\n",
       "  <thead>\n",
       "    <tr style=\"text-align: right;\">\n",
       "      <th></th>\n",
       "      <th>key</th>\n",
       "      <th>fare_amount</th>\n",
       "      <th>pickup_datetime</th>\n",
       "      <th>pickup_longitude</th>\n",
       "      <th>pickup_latitude</th>\n",
       "      <th>dropoff_longitude</th>\n",
       "      <th>dropoff_latitude</th>\n",
       "      <th>passenger_count</th>\n",
       "      <th>Year</th>\n",
       "      <th>Month</th>\n",
       "      <th>Date</th>\n",
       "      <th>Day</th>\n",
       "      <th>Hour</th>\n",
       "      <th>Minute</th>\n",
       "    </tr>\n",
       "  </thead>\n",
       "  <tbody>\n",
       "    <tr>\n",
       "      <th>119</th>\n",
       "      <td>2009-08-07 13:41:12.0000004</td>\n",
       "      <td>4.1</td>\n",
       "      <td>2009-08-07 13:41:12</td>\n",
       "      <td>-73.986970</td>\n",
       "      <td>40.733488</td>\n",
       "      <td>-73.980232</td>\n",
       "      <td>40.744102</td>\n",
       "      <td>1</td>\n",
       "      <td>2009</td>\n",
       "      <td>8</td>\n",
       "      <td>7</td>\n",
       "      <td>4</td>\n",
       "      <td>13</td>\n",
       "      <td>41</td>\n",
       "    </tr>\n",
       "    <tr>\n",
       "      <th>538</th>\n",
       "      <td>2011-01-23 14:03:00.000000117</td>\n",
       "      <td>12.5</td>\n",
       "      <td>2011-01-23 14:03:00</td>\n",
       "      <td>-73.981953</td>\n",
       "      <td>40.774797</td>\n",
       "      <td>-73.976655</td>\n",
       "      <td>40.732483</td>\n",
       "      <td>1</td>\n",
       "      <td>2011</td>\n",
       "      <td>1</td>\n",
       "      <td>23</td>\n",
       "      <td>6</td>\n",
       "      <td>14</td>\n",
       "      <td>3</td>\n",
       "    </tr>\n",
       "    <tr>\n",
       "      <th>668</th>\n",
       "      <td>2009-09-19 01:25:25.0000004</td>\n",
       "      <td>17.7</td>\n",
       "      <td>2009-09-19 01:25:25</td>\n",
       "      <td>-73.993652</td>\n",
       "      <td>40.720863</td>\n",
       "      <td>-73.925577</td>\n",
       "      <td>40.702701</td>\n",
       "      <td>1</td>\n",
       "      <td>2009</td>\n",
       "      <td>9</td>\n",
       "      <td>19</td>\n",
       "      <td>5</td>\n",
       "      <td>1</td>\n",
       "      <td>25</td>\n",
       "    </tr>\n",
       "    <tr>\n",
       "      <th>594</th>\n",
       "      <td>2015-06-09 09:49:17.0000003</td>\n",
       "      <td>9.5</td>\n",
       "      <td>2015-06-09 09:49:17</td>\n",
       "      <td>-74.008255</td>\n",
       "      <td>40.730507</td>\n",
       "      <td>-73.986359</td>\n",
       "      <td>40.743156</td>\n",
       "      <td>1</td>\n",
       "      <td>2015</td>\n",
       "      <td>6</td>\n",
       "      <td>9</td>\n",
       "      <td>1</td>\n",
       "      <td>9</td>\n",
       "      <td>49</td>\n",
       "    </tr>\n",
       "    <tr>\n",
       "      <th>242</th>\n",
       "      <td>2014-11-03 21:05:00.000000145</td>\n",
       "      <td>7.5</td>\n",
       "      <td>2014-11-03 21:05:00</td>\n",
       "      <td>-73.993640</td>\n",
       "      <td>40.728117</td>\n",
       "      <td>-73.978397</td>\n",
       "      <td>40.745327</td>\n",
       "      <td>1</td>\n",
       "      <td>2014</td>\n",
       "      <td>11</td>\n",
       "      <td>3</td>\n",
       "      <td>0</td>\n",
       "      <td>21</td>\n",
       "      <td>5</td>\n",
       "    </tr>\n",
       "  </tbody>\n",
       "</table>\n",
       "</div>"
      ],
      "text/plain": [
       "                               key  fare_amount     pickup_datetime  \\\n",
       "119    2009-08-07 13:41:12.0000004          4.1 2009-08-07 13:41:12   \n",
       "538  2011-01-23 14:03:00.000000117         12.5 2011-01-23 14:03:00   \n",
       "668    2009-09-19 01:25:25.0000004         17.7 2009-09-19 01:25:25   \n",
       "594    2015-06-09 09:49:17.0000003          9.5 2015-06-09 09:49:17   \n",
       "242  2014-11-03 21:05:00.000000145          7.5 2014-11-03 21:05:00   \n",
       "\n",
       "     pickup_longitude  pickup_latitude  dropoff_longitude  dropoff_latitude  \\\n",
       "119        -73.986970        40.733488         -73.980232         40.744102   \n",
       "538        -73.981953        40.774797         -73.976655         40.732483   \n",
       "668        -73.993652        40.720863         -73.925577         40.702701   \n",
       "594        -74.008255        40.730507         -73.986359         40.743156   \n",
       "242        -73.993640        40.728117         -73.978397         40.745327   \n",
       "\n",
       "     passenger_count  Year  Month  Date  Day  Hour  Minute  \n",
       "119                1  2009      8     7    4    13      41  \n",
       "538                1  2011      1    23    6    14       3  \n",
       "668                1  2009      9    19    5     1      25  \n",
       "594                1  2015      6     9    1     9      49  \n",
       "242                1  2014     11     3    0    21       5  "
      ]
     },
     "execution_count": 39,
     "metadata": {},
     "output_type": "execute_result"
    }
   ],
   "source": [
    "data_new.head()"
   ]
  },
  {
   "cell_type": "code",
   "execution_count": 40,
   "metadata": {},
   "outputs": [
    {
     "data": {
      "text/plain": [
       "array([1], dtype=int64)"
      ]
     },
     "execution_count": 40,
     "metadata": {},
     "output_type": "execute_result"
    }
   ],
   "source": [
    "data_new['passenger_count'].isnull().sum()\n",
    "data_new['passenger_count'].unique()"
   ]
  },
  {
   "cell_type": "code",
   "execution_count": 41,
   "metadata": {},
   "outputs": [
    {
     "data": {
      "text/plain": [
       "count    607.000000\n",
       "mean       8.846293\n",
       "std        3.971958\n",
       "min        2.500000\n",
       "25%        6.000000\n",
       "50%        8.000000\n",
       "75%       11.300000\n",
       "max       20.100000\n",
       "Name: fare_amount, dtype: float64"
      ]
     },
     "execution_count": 41,
     "metadata": {},
     "output_type": "execute_result"
    }
   ],
   "source": [
    "data_new['fare_amount'].describe()"
   ]
  },
  {
   "cell_type": "code",
   "execution_count": 42,
   "metadata": {},
   "outputs": [],
   "source": [
    "#Working on Latitiude and longitudes"
   ]
  },
  {
   "cell_type": "code",
   "execution_count": 44,
   "metadata": {
    "scrolled": true
   },
   "outputs": [],
   "source": [
    "data_new=data_new.drop(['key','pickup_datetime'],axis=1)\n",
    "\n"
   ]
  },
  {
   "cell_type": "code",
   "execution_count": 45,
   "metadata": {},
   "outputs": [
    {
     "data": {
      "text/html": [
       "<div>\n",
       "<style scoped>\n",
       "    .dataframe tbody tr th:only-of-type {\n",
       "        vertical-align: middle;\n",
       "    }\n",
       "\n",
       "    .dataframe tbody tr th {\n",
       "        vertical-align: top;\n",
       "    }\n",
       "\n",
       "    .dataframe thead th {\n",
       "        text-align: right;\n",
       "    }\n",
       "</style>\n",
       "<table border=\"1\" class=\"dataframe\">\n",
       "  <thead>\n",
       "    <tr style=\"text-align: right;\">\n",
       "      <th></th>\n",
       "      <th>fare_amount</th>\n",
       "      <th>pickup_longitude</th>\n",
       "      <th>pickup_latitude</th>\n",
       "      <th>dropoff_longitude</th>\n",
       "      <th>dropoff_latitude</th>\n",
       "      <th>passenger_count</th>\n",
       "      <th>Year</th>\n",
       "      <th>Month</th>\n",
       "      <th>Date</th>\n",
       "      <th>Day</th>\n",
       "      <th>Hour</th>\n",
       "      <th>Minute</th>\n",
       "    </tr>\n",
       "  </thead>\n",
       "  <tbody>\n",
       "    <tr>\n",
       "      <th>119</th>\n",
       "      <td>4.1</td>\n",
       "      <td>-73.986970</td>\n",
       "      <td>40.733488</td>\n",
       "      <td>-73.980232</td>\n",
       "      <td>40.744102</td>\n",
       "      <td>1</td>\n",
       "      <td>2009</td>\n",
       "      <td>8</td>\n",
       "      <td>7</td>\n",
       "      <td>4</td>\n",
       "      <td>13</td>\n",
       "      <td>41</td>\n",
       "    </tr>\n",
       "    <tr>\n",
       "      <th>538</th>\n",
       "      <td>12.5</td>\n",
       "      <td>-73.981953</td>\n",
       "      <td>40.774797</td>\n",
       "      <td>-73.976655</td>\n",
       "      <td>40.732483</td>\n",
       "      <td>1</td>\n",
       "      <td>2011</td>\n",
       "      <td>1</td>\n",
       "      <td>23</td>\n",
       "      <td>6</td>\n",
       "      <td>14</td>\n",
       "      <td>3</td>\n",
       "    </tr>\n",
       "    <tr>\n",
       "      <th>668</th>\n",
       "      <td>17.7</td>\n",
       "      <td>-73.993652</td>\n",
       "      <td>40.720863</td>\n",
       "      <td>-73.925577</td>\n",
       "      <td>40.702701</td>\n",
       "      <td>1</td>\n",
       "      <td>2009</td>\n",
       "      <td>9</td>\n",
       "      <td>19</td>\n",
       "      <td>5</td>\n",
       "      <td>1</td>\n",
       "      <td>25</td>\n",
       "    </tr>\n",
       "    <tr>\n",
       "      <th>594</th>\n",
       "      <td>9.5</td>\n",
       "      <td>-74.008255</td>\n",
       "      <td>40.730507</td>\n",
       "      <td>-73.986359</td>\n",
       "      <td>40.743156</td>\n",
       "      <td>1</td>\n",
       "      <td>2015</td>\n",
       "      <td>6</td>\n",
       "      <td>9</td>\n",
       "      <td>1</td>\n",
       "      <td>9</td>\n",
       "      <td>49</td>\n",
       "    </tr>\n",
       "    <tr>\n",
       "      <th>242</th>\n",
       "      <td>7.5</td>\n",
       "      <td>-73.993640</td>\n",
       "      <td>40.728117</td>\n",
       "      <td>-73.978397</td>\n",
       "      <td>40.745327</td>\n",
       "      <td>1</td>\n",
       "      <td>2014</td>\n",
       "      <td>11</td>\n",
       "      <td>3</td>\n",
       "      <td>0</td>\n",
       "      <td>21</td>\n",
       "      <td>5</td>\n",
       "    </tr>\n",
       "  </tbody>\n",
       "</table>\n",
       "</div>"
      ],
      "text/plain": [
       "     fare_amount  pickup_longitude  pickup_latitude  dropoff_longitude  \\\n",
       "119          4.1        -73.986970        40.733488         -73.980232   \n",
       "538         12.5        -73.981953        40.774797         -73.976655   \n",
       "668         17.7        -73.993652        40.720863         -73.925577   \n",
       "594          9.5        -74.008255        40.730507         -73.986359   \n",
       "242          7.5        -73.993640        40.728117         -73.978397   \n",
       "\n",
       "     dropoff_latitude  passenger_count  Year  Month  Date  Day  Hour  Minute  \n",
       "119         40.744102                1  2009      8     7    4    13      41  \n",
       "538         40.732483                1  2011      1    23    6    14       3  \n",
       "668         40.702701                1  2009      9    19    5     1      25  \n",
       "594         40.743156                1  2015      6     9    1     9      49  \n",
       "242         40.745327                1  2014     11     3    0    21       5  "
      ]
     },
     "execution_count": 45,
     "metadata": {},
     "output_type": "execute_result"
    }
   ],
   "source": [
    "data_new.head()"
   ]
  },
  {
   "cell_type": "code",
   "execution_count": 46,
   "metadata": {},
   "outputs": [
    {
     "data": {
      "text/html": [
       "<div>\n",
       "<style scoped>\n",
       "    .dataframe tbody tr th:only-of-type {\n",
       "        vertical-align: middle;\n",
       "    }\n",
       "\n",
       "    .dataframe tbody tr th {\n",
       "        vertical-align: top;\n",
       "    }\n",
       "\n",
       "    .dataframe thead th {\n",
       "        text-align: right;\n",
       "    }\n",
       "</style>\n",
       "<table border=\"1\" class=\"dataframe\">\n",
       "  <thead>\n",
       "    <tr style=\"text-align: right;\">\n",
       "      <th></th>\n",
       "      <th>fare_amount</th>\n",
       "      <th>pickup_longitude</th>\n",
       "      <th>pickup_latitude</th>\n",
       "      <th>dropoff_longitude</th>\n",
       "      <th>dropoff_latitude</th>\n",
       "      <th>passenger_count</th>\n",
       "      <th>Year</th>\n",
       "      <th>Month</th>\n",
       "      <th>Date</th>\n",
       "      <th>Day</th>\n",
       "      <th>Hour</th>\n",
       "      <th>Minute</th>\n",
       "    </tr>\n",
       "  </thead>\n",
       "  <tbody>\n",
       "  </tbody>\n",
       "</table>\n",
       "</div>"
      ],
      "text/plain": [
       "Empty DataFrame\n",
       "Columns: [fare_amount, pickup_longitude, pickup_latitude, dropoff_longitude, dropoff_latitude, passenger_count, Year, Month, Date, Day, Hour, Minute]\n",
       "Index: []"
      ]
     },
     "execution_count": 46,
     "metadata": {},
     "output_type": "execute_result"
    }
   ],
   "source": [
    "data_new[data_new['pickup_latitude']<-90]"
   ]
  },
  {
   "cell_type": "code",
   "execution_count": 47,
   "metadata": {},
   "outputs": [
    {
     "data": {
      "text/html": [
       "<div>\n",
       "<style scoped>\n",
       "    .dataframe tbody tr th:only-of-type {\n",
       "        vertical-align: middle;\n",
       "    }\n",
       "\n",
       "    .dataframe tbody tr th {\n",
       "        vertical-align: top;\n",
       "    }\n",
       "\n",
       "    .dataframe thead th {\n",
       "        text-align: right;\n",
       "    }\n",
       "</style>\n",
       "<table border=\"1\" class=\"dataframe\">\n",
       "  <thead>\n",
       "    <tr style=\"text-align: right;\">\n",
       "      <th></th>\n",
       "      <th>fare_amount</th>\n",
       "      <th>pickup_longitude</th>\n",
       "      <th>pickup_latitude</th>\n",
       "      <th>dropoff_longitude</th>\n",
       "      <th>dropoff_latitude</th>\n",
       "      <th>passenger_count</th>\n",
       "      <th>Year</th>\n",
       "      <th>Month</th>\n",
       "      <th>Date</th>\n",
       "      <th>Day</th>\n",
       "      <th>Hour</th>\n",
       "      <th>Minute</th>\n",
       "    </tr>\n",
       "  </thead>\n",
       "  <tbody>\n",
       "  </tbody>\n",
       "</table>\n",
       "</div>"
      ],
      "text/plain": [
       "Empty DataFrame\n",
       "Columns: [fare_amount, pickup_longitude, pickup_latitude, dropoff_longitude, dropoff_latitude, passenger_count, Year, Month, Date, Day, Hour, Minute]\n",
       "Index: []"
      ]
     },
     "execution_count": 47,
     "metadata": {},
     "output_type": "execute_result"
    }
   ],
   "source": [
    "data_new[data_new['dropoff_longitude']<-180]"
   ]
  },
  {
   "cell_type": "code",
   "execution_count": 48,
   "metadata": {},
   "outputs": [
    {
     "data": {
      "text/plain": [
       "fare_amount          0\n",
       "pickup_longitude     0\n",
       "pickup_latitude      0\n",
       "dropoff_longitude    0\n",
       "dropoff_latitude     0\n",
       "passenger_count      0\n",
       "Year                 0\n",
       "Month                0\n",
       "Date                 0\n",
       "Day                  0\n",
       "Hour                 0\n",
       "Minute               0\n",
       "dtype: int64"
      ]
     },
     "execution_count": 48,
     "metadata": {},
     "output_type": "execute_result"
    }
   ],
   "source": [
    "data_new.isnull().sum()"
   ]
  },
  {
   "cell_type": "code",
   "execution_count": 49,
   "metadata": {},
   "outputs": [],
   "source": [
    "#Calculating distance from latitudes and longitudes"
   ]
  },
  {
   "cell_type": "code",
   "execution_count": 50,
   "metadata": {},
   "outputs": [],
   "source": [
    "from math import radians, cos, sin, asin, sqrt\n",
    "\n",
    "def haversine(a):\n",
    "    lon1=a[0]\n",
    "    lat1=a[1]\n",
    "    lon2=a[2]\n",
    "    lat2=a[3]\n",
    "    \"\"\"\n",
    "    Calculate the great circle distance between two points \n",
    "    on the earth (specified in decimal degrees)\n",
    "    \"\"\"\n",
    "    # convert decimal degrees to radians \n",
    "    lon1, lat1, lon2, lat2 = map(radians, [lon1, lat1, lon2, lat2])\n",
    "    \n",
    "    # haversine formula \n",
    "    dlon = lon2 - lon1 \n",
    "    dlat = lat2 - lat1 \n",
    "    a = sin(dlat/2)**2 + cos(lat1) * cos(lat2) * sin(dlon/2)**2\n",
    "    c =  2 * asin(sqrt(a))\n",
    "    # Radius of earth in kilometers is 6371\n",
    "    km = 6371* c\n",
    "    return km"
   ]
  },
  {
   "cell_type": "code",
   "execution_count": 51,
   "metadata": {},
   "outputs": [],
   "source": [
    "\n",
    "data_new['distance(in kms)'] = data_new[['pickup_longitude','pickup_latitude','dropoff_longitude','dropoff_latitude']].apply(haversine,axis=1)"
   ]
  },
  {
   "cell_type": "code",
   "execution_count": 53,
   "metadata": {},
   "outputs": [],
   "source": [
    "data_new=data_new.drop(['pickup_longitude','pickup_latitude','dropoff_longitude','dropoff_latitude'],axis=1)"
   ]
  },
  {
   "cell_type": "code",
   "execution_count": 54,
   "metadata": {},
   "outputs": [],
   "source": [
    "data_new=data_new.drop(data_new[data_new['distance(in kms)']==0].index,axis=0)"
   ]
  },
  {
   "cell_type": "code",
   "execution_count": 55,
   "metadata": {},
   "outputs": [
    {
     "data": {
      "text/html": [
       "<div>\n",
       "<style scoped>\n",
       "    .dataframe tbody tr th:only-of-type {\n",
       "        vertical-align: middle;\n",
       "    }\n",
       "\n",
       "    .dataframe tbody tr th {\n",
       "        vertical-align: top;\n",
       "    }\n",
       "\n",
       "    .dataframe thead th {\n",
       "        text-align: right;\n",
       "    }\n",
       "</style>\n",
       "<table border=\"1\" class=\"dataframe\">\n",
       "  <thead>\n",
       "    <tr style=\"text-align: right;\">\n",
       "      <th></th>\n",
       "      <th>fare_amount</th>\n",
       "      <th>passenger_count</th>\n",
       "      <th>Year</th>\n",
       "      <th>Month</th>\n",
       "      <th>Date</th>\n",
       "      <th>Day</th>\n",
       "      <th>Hour</th>\n",
       "      <th>Minute</th>\n",
       "      <th>distance(in kms)</th>\n",
       "    </tr>\n",
       "  </thead>\n",
       "  <tbody>\n",
       "  </tbody>\n",
       "</table>\n",
       "</div>"
      ],
      "text/plain": [
       "Empty DataFrame\n",
       "Columns: [fare_amount, passenger_count, Year, Month, Date, Day, Hour, Minute, distance(in kms)]\n",
       "Index: []"
      ]
     },
     "execution_count": 55,
     "metadata": {},
     "output_type": "execute_result"
    }
   ],
   "source": [
    "data_new[data_new['distance(in kms)']==0]"
   ]
  },
  {
   "cell_type": "code",
   "execution_count": 56,
   "metadata": {},
   "outputs": [
    {
     "data": {
      "text/plain": [
       "count     593.000000\n",
       "mean       17.154332\n",
       "std       355.781100\n",
       "min         0.001011\n",
       "25%         1.230672\n",
       "50%         2.019262\n",
       "75%         3.326523\n",
       "max      8666.253254\n",
       "Name: distance(in kms), dtype: float64"
      ]
     },
     "execution_count": 56,
     "metadata": {},
     "output_type": "execute_result"
    }
   ],
   "source": [
    "data_new['distance(in kms)'].describe()"
   ]
  },
  {
   "cell_type": "code",
   "execution_count": 57,
   "metadata": {},
   "outputs": [],
   "source": [
    "#Removing outlier\n",
    "data_new=data_new.drop(data_new[data_new['distance(in kms)']>8000].index,axis=0)"
   ]
  },
  {
   "cell_type": "code",
   "execution_count": 58,
   "metadata": {},
   "outputs": [
    {
     "data": {
      "text/plain": [
       "fare_amount         float64\n",
       "passenger_count       int64\n",
       "Year                  int64\n",
       "Month                 int64\n",
       "Date                  int64\n",
       "Day                   int64\n",
       "Hour                  int64\n",
       "Minute                int64\n",
       "distance(in kms)    float64\n",
       "dtype: object"
      ]
     },
     "execution_count": 58,
     "metadata": {},
     "output_type": "execute_result"
    }
   ],
   "source": [
    "data_new.dtypes"
   ]
  },
  {
   "cell_type": "markdown",
   "metadata": {},
   "source": [
    "DATA VISUALIZATION"
   ]
  },
  {
   "cell_type": "code",
   "execution_count": 59,
   "metadata": {},
   "outputs": [
    {
     "data": {
      "text/plain": [
       "Index(['fare_amount', 'passenger_count', 'Year', 'Month', 'Date', 'Day',\n",
       "       'Hour', 'Minute', 'distance(in kms)'],\n",
       "      dtype='object')"
      ]
     },
     "execution_count": 59,
     "metadata": {},
     "output_type": "execute_result"
    }
   ],
   "source": [
    "data_new.columns"
   ]
  },
  {
   "cell_type": "markdown",
   "metadata": {},
   "source": [
    "1. countplot for passenger count"
   ]
  },
  {
   "cell_type": "code",
   "execution_count": 60,
   "metadata": {},
   "outputs": [
    {
     "data": {
      "text/plain": [
       "<matplotlib.axes._subplots.AxesSubplot at 0x1ae4f0f12b0>"
      ]
     },
     "execution_count": 60,
     "metadata": {},
     "output_type": "execute_result"
    },
    {
     "data": {
      "image/png": "[encoded data removed]",
      "text/plain": [
       "<Figure size 720x360 with 1 Axes>"
      ]
     },
     "metadata": {
      "needs_background": "light"
     },
     "output_type": "display_data"
    }
   ],
   "source": [
    "plt.figure(figsize=(10,5))\n",
    "sns.countplot(x=\"passenger_count\",data=data_new)"
   ]
  },
  {
   "cell_type": "markdown",
   "metadata": {},
   "source": [
    "2. Countplot for Time durations"
   ]
  },
  {
   "cell_type": "code",
   "execution_count": 61,
   "metadata": {},
   "outputs": [
    {
     "data": {
      "text/plain": [
       "<matplotlib.axes._subplots.AxesSubplot at 0x1ae4fb7ef60>"
      ]
     },
     "execution_count": 61,
     "metadata": {},
     "output_type": "execute_result"
    },
    {
     "data": {
      "image/png": "[encoded data removed]",
      "text/plain": [
       "<Figure size 720x360 with 1 Axes>"
      ]
     },
     "metadata": {
      "needs_background": "light"
     },
     "output_type": "display_data"
    }
   ],
   "source": [
    "plt.figure(figsize=(10,5))\n",
    "sns.countplot(x=\"Month\",data=data_new)\n"
   ]
  },
  {
   "cell_type": "code",
   "execution_count": 62,
   "metadata": {},
   "outputs": [
    {
     "data": {
      "text/plain": [
       "<matplotlib.axes._subplots.AxesSubplot at 0x1ae4f8bd5f8>"
      ]
     },
     "execution_count": 62,
     "metadata": {},
     "output_type": "execute_result"
    },
    {
     "data": {
      "image/png": "[encoded data removed]",
      "text/plain": [
       "<Figure size 720x360 with 1 Axes>"
      ]
     },
     "metadata": {
      "needs_background": "light"
     },
     "output_type": "display_data"
    }
   ],
   "source": [
    "plt.figure(figsize=(10,5))\n",
    "sns.countplot(x=\"Year\",data=data_new)"
   ]
  },
  {
   "cell_type": "code",
   "execution_count": 63,
   "metadata": {},
   "outputs": [
    {
     "data": {
      "text/plain": [
       "<matplotlib.axes._subplots.AxesSubplot at 0x1ae4f06b128>"
      ]
     },
     "execution_count": 63,
     "metadata": {},
     "output_type": "execute_result"
    },
    {
     "data": {
      "image/png": "[encoded data removed]",
      "text/plain": [
       "<Figure size 720x360 with 1 Axes>"
      ]
     },
     "metadata": {
      "needs_background": "light"
     },
     "output_type": "display_data"
    }
   ],
   "source": [
    "plt.figure(figsize=(10,5))\n",
    "sns.countplot(x=\"Day\",data=data_new)"
   ]
  },
  {
   "cell_type": "code",
   "execution_count": 64,
   "metadata": {},
   "outputs": [
    {
     "data": {
      "text/plain": [
       "<matplotlib.axes._subplots.AxesSubplot at 0x1ae50bd6780>"
      ]
     },
     "execution_count": 64,
     "metadata": {},
     "output_type": "execute_result"
    },
    {
     "data": {
      "image/png": "[encoded data removed]",
      "text/plain": [
       "<Figure size 720x360 with 1 Axes>"
      ]
     },
     "metadata": {
      "needs_background": "light"
     },
     "output_type": "display_data"
    }
   ],
   "source": [
    "plt.figure(figsize=(10,5))\n",
    "sns.countplot(x=\"Hour\",data=data_new)"
   ]
  },
  {
   "cell_type": "markdown",
   "metadata": {},
   "source": [
    "3. Relationship bw passengers and fare"
   ]
  },
  {
   "cell_type": "code",
   "execution_count": 65,
   "metadata": {},
   "outputs": [
    {
     "data": {
      "text/plain": [
       "[<matplotlib.lines.Line2D at 0x1ae4f11ab70>]"
      ]
     },
     "execution_count": 65,
     "metadata": {},
     "output_type": "execute_result"
    },
    {
     "data": {
      "image/png": "[encoded data removed]",
      "text/plain": [
       "<Figure size 432x288 with 1 Axes>"
      ]
     },
     "metadata": {
      "needs_background": "light"
     },
     "output_type": "display_data"
    }
   ],
   "source": [
    "plt.xlabel(\"Passengers count\")\n",
    "plt.ylabel(\"Fare amount\")\n",
    "plt.plot(\"passenger_count\",\"fare_amount\",data=data_new)"
   ]
  },
  {
   "cell_type": "markdown",
   "metadata": {},
   "source": [
    "4. Relationship bw Pickup data+time and fare amount"
   ]
  },
  {
   "cell_type": "code",
   "execution_count": 66,
   "metadata": {},
   "outputs": [
    {
     "data": {
      "image/png": "[encoded data removed]",
      "text/plain": [
       "<Figure size 720x360 with 1 Axes>"
      ]
     },
     "metadata": {
      "needs_background": "light"
     },
     "output_type": "display_data"
    }
   ],
   "source": [
    "plt.figure(figsize=(10,5))\n",
    "plt.scatter(x=data_new['Hour'], y=data_new['fare_amount'] ,s=10)\n",
    "plt.xlabel(\"Day of the week\")\n",
    "plt.ylabel(\"Fare amount\")\n",
    "plt.show()"
   ]
  },
  {
   "cell_type": "markdown",
   "metadata": {},
   "source": [
    "5. Relationship between distance and the fare"
   ]
  },
  {
   "cell_type": "code",
   "execution_count": 67,
   "metadata": {},
   "outputs": [
    {
     "data": {
      "image/png": "[encoded data removed]",
      "text/plain": [
       "<Figure size 1440x720 with 1 Axes>"
      ]
     },
     "metadata": {
      "needs_background": "light"
     },
     "output_type": "display_data"
    }
   ],
   "source": [
    "plt.figure(figsize=(20,10))\n",
    "plt.scatter(x=data_new['distance(in kms)'], y=data_new['fare_amount'] ,s=10)\n",
    "plt.xlabel(\"Distance\")\n",
    "plt.ylabel(\"Fare amount\")\n",
    "plt.show()"
   ]
  },
  {
   "cell_type": "markdown",
   "metadata": {},
   "source": [
    "FEATURE SCALING"
   ]
  },
  {
   "cell_type": "code",
   "execution_count": 68,
   "metadata": {},
   "outputs": [
    {
     "data": {
      "image/png": "[encoded data removed]",
      "text/plain": [
       "<Figure size 1440x720 with 1 Axes>"
      ]
     },
     "metadata": {
      "needs_background": "light"
     },
     "output_type": "display_data"
    },
    {
     "data": {
      "image/png": "[encoded data removed]",
      "text/plain": [
       "<Figure size 1440x720 with 1 Axes>"
      ]
     },
     "metadata": {
      "needs_background": "light"
     },
     "output_type": "display_data"
    }
   ],
   "source": [
    "for i in [\"fare_amount\",\"distance(in kms)\"]:\n",
    "    plt.figure(figsize=(20,10))\n",
    "    sns.distplot(data_new[i],bins=\"auto\",color=\"blue\")\n",
    "    plt.title(\"Distribution for\"+i)\n",
    "    plt.show()"
   ]
  },
  {
   "cell_type": "code",
   "execution_count": 69,
   "metadata": {},
   "outputs": [],
   "source": [
    "#Since distance seems to be postively skewed, we need to run log-transform over it"
   ]
  },
  {
   "cell_type": "code",
   "execution_count": 70,
   "metadata": {},
   "outputs": [],
   "source": [
    "data_new['distance(in kms)']=np.log1p(data_new['distance(in kms)'])"
   ]
  },
  {
   "cell_type": "code",
   "execution_count": 71,
   "metadata": {},
   "outputs": [
    {
     "data": {
      "image/png": "[encoded data removed]",
      "text/plain": [
       "<Figure size 1440x720 with 1 Axes>"
      ]
     },
     "metadata": {
      "needs_background": "light"
     },
     "output_type": "display_data"
    },
    {
     "data": {
      "image/png": "[encoded data removed]",
      "text/plain": [
       "<Figure size 1440x720 with 1 Axes>"
      ]
     },
     "metadata": {
      "needs_background": "light"
     },
     "output_type": "display_data"
    }
   ],
   "source": [
    "for i in [\"fare_amount\",\"distance(in kms)\"]:\n",
    "    plt.figure(figsize=(20,10))\n",
    "    sns.distplot(data_new[i],bins=\"auto\",color=\"red\")\n",
    "    plt.title(\"Distribution for\"+i)\n",
    "    plt.show()"
   ]
  },
  {
   "cell_type": "code",
   "execution_count": 72,
   "metadata": {},
   "outputs": [
    {
     "data": {
      "text/html": [
       "<div>\n",
       "<style scoped>\n",
       "    .dataframe tbody tr th:only-of-type {\n",
       "        vertical-align: middle;\n",
       "    }\n",
       "\n",
       "    .dataframe tbody tr th {\n",
       "        vertical-align: top;\n",
       "    }\n",
       "\n",
       "    .dataframe thead th {\n",
       "        text-align: right;\n",
       "    }\n",
       "</style>\n",
       "<table border=\"1\" class=\"dataframe\">\n",
       "  <thead>\n",
       "    <tr style=\"text-align: right;\">\n",
       "      <th></th>\n",
       "      <th>fare_amount</th>\n",
       "      <th>passenger_count</th>\n",
       "      <th>Year</th>\n",
       "      <th>Month</th>\n",
       "      <th>Date</th>\n",
       "      <th>Day</th>\n",
       "      <th>Hour</th>\n",
       "      <th>Minute</th>\n",
       "      <th>distance(in kms)</th>\n",
       "    </tr>\n",
       "  </thead>\n",
       "  <tbody>\n",
       "    <tr>\n",
       "      <th>119</th>\n",
       "      <td>4.1</td>\n",
       "      <td>1</td>\n",
       "      <td>2009</td>\n",
       "      <td>8</td>\n",
       "      <td>7</td>\n",
       "      <td>4</td>\n",
       "      <td>13</td>\n",
       "      <td>41</td>\n",
       "      <td>0.837098</td>\n",
       "    </tr>\n",
       "    <tr>\n",
       "      <th>538</th>\n",
       "      <td>12.5</td>\n",
       "      <td>1</td>\n",
       "      <td>2011</td>\n",
       "      <td>1</td>\n",
       "      <td>23</td>\n",
       "      <td>6</td>\n",
       "      <td>14</td>\n",
       "      <td>3</td>\n",
       "      <td>1.745055</td>\n",
       "    </tr>\n",
       "    <tr>\n",
       "      <th>668</th>\n",
       "      <td>17.7</td>\n",
       "      <td>1</td>\n",
       "      <td>2009</td>\n",
       "      <td>9</td>\n",
       "      <td>19</td>\n",
       "      <td>5</td>\n",
       "      <td>1</td>\n",
       "      <td>25</td>\n",
       "      <td>1.957667</td>\n",
       "    </tr>\n",
       "    <tr>\n",
       "      <th>594</th>\n",
       "      <td>9.5</td>\n",
       "      <td>1</td>\n",
       "      <td>2015</td>\n",
       "      <td>6</td>\n",
       "      <td>9</td>\n",
       "      <td>1</td>\n",
       "      <td>9</td>\n",
       "      <td>49</td>\n",
       "      <td>1.199934</td>\n",
       "    </tr>\n",
       "    <tr>\n",
       "      <th>242</th>\n",
       "      <td>7.5</td>\n",
       "      <td>1</td>\n",
       "      <td>2014</td>\n",
       "      <td>11</td>\n",
       "      <td>3</td>\n",
       "      <td>0</td>\n",
       "      <td>21</td>\n",
       "      <td>5</td>\n",
       "      <td>1.195337</td>\n",
       "    </tr>\n",
       "  </tbody>\n",
       "</table>\n",
       "</div>"
      ],
      "text/plain": [
       "     fare_amount  passenger_count  Year  Month  Date  Day  Hour  Minute  \\\n",
       "119          4.1                1  2009      8     7    4    13      41   \n",
       "538         12.5                1  2011      1    23    6    14       3   \n",
       "668         17.7                1  2009      9    19    5     1      25   \n",
       "594          9.5                1  2015      6     9    1     9      49   \n",
       "242          7.5                1  2014     11     3    0    21       5   \n",
       "\n",
       "     distance(in kms)  \n",
       "119          0.837098  \n",
       "538          1.745055  \n",
       "668          1.957667  \n",
       "594          1.199934  \n",
       "242          1.195337  "
      ]
     },
     "execution_count": 72,
     "metadata": {},
     "output_type": "execute_result"
    }
   ],
   "source": [
    "data_new.head()"
   ]
  },
  {
   "cell_type": "markdown",
   "metadata": {},
   "source": [
    "APPLYING ML ALGORITHMS:"
   ]
  },
  {
   "cell_type": "markdown",
   "metadata": {},
   "source": [
    "We will be using: Decision tree,Random forest,Statistical modelling(Linear),KNN and Naive Bayes"
   ]
  },
  {
   "cell_type": "code",
   "execution_count": 73,
   "metadata": {},
   "outputs": [
    {
     "data": {
      "text/plain": [
       "(592, 9)"
      ]
     },
     "execution_count": 73,
     "metadata": {},
     "output_type": "execute_result"
    }
   ],
   "source": [
    "data_new.shape"
   ]
  },
  {
   "cell_type": "code",
   "execution_count": 74,
   "metadata": {},
   "outputs": [
    {
     "data": {
      "text/plain": [
       "Index(['fare_amount', 'passenger_count', 'Year', 'Month', 'Date', 'Day',\n",
       "       'Hour', 'Minute', 'distance(in kms)'],\n",
       "      dtype='object')"
      ]
     },
     "execution_count": 74,
     "metadata": {},
     "output_type": "execute_result"
    }
   ],
   "source": [
    "data_new.columns\n"
   ]
  },
  {
   "cell_type": "code",
   "execution_count": 75,
   "metadata": {},
   "outputs": [],
   "source": [
    "label=data_new['fare_amount']\n",
    "features=[c for c in data_new.columns if c not in ['fare_amount']]\n",
    "X_train,X_test,Y_train,Y_test=train_test_split(data_new[features],label,test_size=0.4,random_state=7)"
   ]
  },
  {
   "cell_type": "code",
   "execution_count": 76,
   "metadata": {},
   "outputs": [
    {
     "data": {
      "text/plain": [
       "(355, 8)"
      ]
     },
     "execution_count": 76,
     "metadata": {},
     "output_type": "execute_result"
    }
   ],
   "source": [
    "X_train.shape"
   ]
  },
  {
   "cell_type": "code",
   "execution_count": 77,
   "metadata": {},
   "outputs": [
    {
     "data": {
      "text/plain": [
       "(237, 8)"
      ]
     },
     "execution_count": 77,
     "metadata": {},
     "output_type": "execute_result"
    }
   ],
   "source": [
    "X_test.shape"
   ]
  },
  {
   "cell_type": "code",
   "execution_count": 78,
   "metadata": {},
   "outputs": [
    {
     "data": {
      "text/plain": [
       "(355,)"
      ]
     },
     "execution_count": 78,
     "metadata": {},
     "output_type": "execute_result"
    }
   ],
   "source": [
    "Y_train.shape"
   ]
  },
  {
   "cell_type": "code",
   "execution_count": 79,
   "metadata": {},
   "outputs": [
    {
     "data": {
      "text/plain": [
       "(237,)"
      ]
     },
     "execution_count": 79,
     "metadata": {},
     "output_type": "execute_result"
    }
   ],
   "source": [
    "Y_test.shape"
   ]
  },
  {
   "cell_type": "markdown",
   "metadata": {},
   "source": [
    "1. DECISION TREE:"
   ]
  },
  {
   "cell_type": "code",
   "execution_count": 80,
   "metadata": {},
   "outputs": [],
   "source": [
    "from sklearn.tree import DecisionTreeRegressor"
   ]
  },
  {
   "cell_type": "code",
   "execution_count": 81,
   "metadata": {},
   "outputs": [],
   "source": [
    "model=DecisionTreeRegressor(max_depth=2).fit(X_train,Y_train)"
   ]
  },
  {
   "cell_type": "code",
   "execution_count": 82,
   "metadata": {},
   "outputs": [
    {
     "data": {
      "text/plain": [
       "DecisionTreeRegressor(criterion='mse', max_depth=2, max_features=None,\n",
       "                      max_leaf_nodes=None, min_impurity_decrease=0.0,\n",
       "                      min_impurity_split=None, min_samples_leaf=1,\n",
       "                      min_samples_split=2, min_weight_fraction_leaf=0.0,\n",
       "                      presort=False, random_state=None, splitter='best')"
      ]
     },
     "execution_count": 82,
     "metadata": {},
     "output_type": "execute_result"
    }
   ],
   "source": [
    "model"
   ]
  },
  {
   "cell_type": "code",
   "execution_count": 83,
   "metadata": {},
   "outputs": [],
   "source": [
    "#Prediction part"
   ]
  },
  {
   "cell_type": "code",
   "execution_count": 84,
   "metadata": {},
   "outputs": [],
   "source": [
    "pred=model.predict(X_test)\n",
    "pred_train=model.predict(X_train)"
   ]
  },
  {
   "cell_type": "code",
   "execution_count": 85,
   "metadata": {},
   "outputs": [],
   "source": [
    "#Error Metrics(RMSE):"
   ]
  },
  {
   "cell_type": "code",
   "execution_count": 86,
   "metadata": {},
   "outputs": [
    {
     "data": {
      "text/plain": [
       "2.3229176135366925"
      ]
     },
     "execution_count": 86,
     "metadata": {},
     "output_type": "execute_result"
    }
   ],
   "source": [
    "rmse_train=np.sqrt(mean_squared_error(Y_train,pred_train))\n",
    "rmse_train"
   ]
  },
  {
   "cell_type": "code",
   "execution_count": 87,
   "metadata": {},
   "outputs": [
    {
     "data": {
      "text/plain": [
       "2.414037866588831"
      ]
     },
     "execution_count": 87,
     "metadata": {},
     "output_type": "execute_result"
    }
   ],
   "source": [
    "rmse_test=np.sqrt(mean_squared_error(Y_test,pred))\n",
    "rmse_test"
   ]
  },
  {
   "cell_type": "code",
   "execution_count": 88,
   "metadata": {},
   "outputs": [],
   "source": [
    "from sklearn.metrics import r2_score"
   ]
  },
  {
   "cell_type": "code",
   "execution_count": 89,
   "metadata": {},
   "outputs": [
    {
     "data": {
      "text/plain": [
       "0.6374961235823049"
      ]
     },
     "execution_count": 89,
     "metadata": {},
     "output_type": "execute_result"
    }
   ],
   "source": [
    "r2_score_train=r2_score(Y_train,pred_train)\n",
    "r2_score_train"
   ]
  },
  {
   "cell_type": "code",
   "execution_count": 90,
   "metadata": {},
   "outputs": [
    {
     "data": {
      "text/plain": [
       "0.6435340543019183"
      ]
     },
     "execution_count": 90,
     "metadata": {},
     "output_type": "execute_result"
    }
   ],
   "source": [
    "r2_score_test=r2_score(Y_test,pred)\n",
    "r2_score_test"
   ]
  },
  {
   "cell_type": "markdown",
   "metadata": {},
   "source": [
    "2. RANDOM FOREST"
   ]
  },
  {
   "cell_type": "code",
   "execution_count": 91,
   "metadata": {},
   "outputs": [],
   "source": [
    "from sklearn.ensemble import RandomForestRegressor"
   ]
  },
  {
   "cell_type": "code",
   "execution_count": 92,
   "metadata": {},
   "outputs": [],
   "source": [
    "model2=RandomForestRegressor(n_estimators=500).fit(X_train,Y_train)"
   ]
  },
  {
   "cell_type": "code",
   "execution_count": 93,
   "metadata": {},
   "outputs": [
    {
     "data": {
      "text/plain": [
       "RandomForestRegressor(bootstrap=True, criterion='mse', max_depth=None,\n",
       "                      max_features='auto', max_leaf_nodes=None,\n",
       "                      min_impurity_decrease=0.0, min_impurity_split=None,\n",
       "                      min_samples_leaf=1, min_samples_split=2,\n",
       "                      min_weight_fraction_leaf=0.0, n_estimators=500,\n",
       "                      n_jobs=None, oob_score=False, random_state=None,\n",
       "                      verbose=0, warm_start=False)"
      ]
     },
     "execution_count": 93,
     "metadata": {},
     "output_type": "execute_result"
    }
   ],
   "source": [
    "model2"
   ]
  },
  {
   "cell_type": "code",
   "execution_count": 94,
   "metadata": {},
   "outputs": [],
   "source": [
    "#Prediction"
   ]
  },
  {
   "cell_type": "code",
   "execution_count": 95,
   "metadata": {},
   "outputs": [],
   "source": [
    "pred2_train=model2.predict(X_train)\n",
    "pred2_test=model2.predict(X_test)"
   ]
  },
  {
   "cell_type": "code",
   "execution_count": 96,
   "metadata": {},
   "outputs": [],
   "source": [
    "#Error Metrics"
   ]
  },
  {
   "cell_type": "code",
   "execution_count": 97,
   "metadata": {},
   "outputs": [
    {
     "data": {
      "text/plain": [
       "0.8309022611968063"
      ]
     },
     "execution_count": 97,
     "metadata": {},
     "output_type": "execute_result"
    }
   ],
   "source": [
    "rmse2_train=np.sqrt(mean_squared_error(Y_train,pred2_train))\n",
    "rmse2_train"
   ]
  },
  {
   "cell_type": "code",
   "execution_count": 98,
   "metadata": {},
   "outputs": [
    {
     "data": {
      "text/plain": [
       "2.185284229579903"
      ]
     },
     "execution_count": 98,
     "metadata": {},
     "output_type": "execute_result"
    }
   ],
   "source": [
    "rmse2_test=np.sqrt(mean_squared_error(Y_test,pred2_test))\n",
    "rmse2_test"
   ]
  },
  {
   "cell_type": "code",
   "execution_count": 99,
   "metadata": {},
   "outputs": [
    {
     "data": {
      "text/plain": [
       "0.9536184858127631"
      ]
     },
     "execution_count": 99,
     "metadata": {},
     "output_type": "execute_result"
    }
   ],
   "source": [
    "r2_score_train2=r2_score(Y_train,pred2_train)\n",
    "r2_score_train2"
   ]
  },
  {
   "cell_type": "code",
   "execution_count": 100,
   "metadata": {},
   "outputs": [
    {
     "data": {
      "text/plain": [
       "0.7078904514248217"
      ]
     },
     "execution_count": 100,
     "metadata": {},
     "output_type": "execute_result"
    }
   ],
   "source": [
    "r2_score_test2=r2_score(Y_test,pred2_test)\n",
    "r2_score_test2"
   ]
  },
  {
   "cell_type": "markdown",
   "metadata": {},
   "source": [
    "3. Linear Regression"
   ]
  },
  {
   "cell_type": "code",
   "execution_count": 101,
   "metadata": {},
   "outputs": [],
   "source": [
    "import statsmodels.api as sm"
   ]
  },
  {
   "cell_type": "code",
   "execution_count": 102,
   "metadata": {},
   "outputs": [],
   "source": [
    "model3=sm.OLS(Y_train,X_train).fit()"
   ]
  },
  {
   "cell_type": "code",
   "execution_count": 103,
   "metadata": {},
   "outputs": [],
   "source": [
    "#predict"
   ]
  },
  {
   "cell_type": "code",
   "execution_count": 104,
   "metadata": {},
   "outputs": [],
   "source": [
    "pred3_train=model3.predict(X_train)\n",
    "pred3_test=model3.predict(X_test)"
   ]
  },
  {
   "cell_type": "code",
   "execution_count": 105,
   "metadata": {},
   "outputs": [],
   "source": [
    "#Error metrics"
   ]
  },
  {
   "cell_type": "code",
   "execution_count": 106,
   "metadata": {},
   "outputs": [
    {
     "data": {
      "text/plain": [
       "2.2446433739543568"
      ]
     },
     "execution_count": 106,
     "metadata": {},
     "output_type": "execute_result"
    }
   ],
   "source": [
    "rmse3_train=np.sqrt(mean_squared_error(Y_train,pred3_train))\n",
    "rmse3_train"
   ]
  },
  {
   "cell_type": "code",
   "execution_count": 107,
   "metadata": {},
   "outputs": [
    {
     "data": {
      "text/plain": [
       "2.173891257462479"
      ]
     },
     "execution_count": 107,
     "metadata": {},
     "output_type": "execute_result"
    }
   ],
   "source": [
    "rmse3_test=np.sqrt(mean_squared_error(Y_test,pred3_test))\n",
    "rmse3_test"
   ]
  },
  {
   "cell_type": "code",
   "execution_count": 108,
   "metadata": {},
   "outputs": [
    {
     "data": {
      "text/plain": [
       "0.6374961235823049"
      ]
     },
     "execution_count": 108,
     "metadata": {},
     "output_type": "execute_result"
    }
   ],
   "source": [
    "r2_score_train3=r2_score(Y_train,pred3_train)\n",
    "r2_score_train"
   ]
  },
  {
   "cell_type": "code",
   "execution_count": 109,
   "metadata": {},
   "outputs": [
    {
     "data": {
      "text/plain": [
       "0.7109283360617862"
      ]
     },
     "execution_count": 109,
     "metadata": {},
     "output_type": "execute_result"
    }
   ],
   "source": [
    "r2_score_test3=r2_score(Y_test,pred3_test)\n",
    "r2_score_test3"
   ]
  },
  {
   "cell_type": "markdown",
   "metadata": {},
   "source": [
    "4. KNN"
   ]
  },
  {
   "cell_type": "code",
   "execution_count": 110,
   "metadata": {},
   "outputs": [],
   "source": [
    "from sklearn.neighbors import KNeighborsRegressor"
   ]
  },
  {
   "cell_type": "code",
   "execution_count": 111,
   "metadata": {},
   "outputs": [],
   "source": [
    "model4=KNeighborsRegressor(n_neighbors=11).fit(X_train,Y_train)"
   ]
  },
  {
   "cell_type": "code",
   "execution_count": 112,
   "metadata": {},
   "outputs": [
    {
     "data": {
      "text/plain": [
       "KNeighborsRegressor(algorithm='auto', leaf_size=30, metric='minkowski',\n",
       "                    metric_params=None, n_jobs=None, n_neighbors=11, p=2,\n",
       "                    weights='uniform')"
      ]
     },
     "execution_count": 112,
     "metadata": {},
     "output_type": "execute_result"
    }
   ],
   "source": [
    "model4"
   ]
  },
  {
   "cell_type": "code",
   "execution_count": 113,
   "metadata": {},
   "outputs": [],
   "source": [
    "#Prediction"
   ]
  },
  {
   "cell_type": "code",
   "execution_count": 114,
   "metadata": {},
   "outputs": [],
   "source": [
    "pred4_train=model4.predict(X_train)\n",
    "pred4_test=model4.predict(X_test)"
   ]
  },
  {
   "cell_type": "code",
   "execution_count": 115,
   "metadata": {},
   "outputs": [],
   "source": [
    "#Error Metrics"
   ]
  },
  {
   "cell_type": "code",
   "execution_count": 116,
   "metadata": {},
   "outputs": [
    {
     "data": {
      "text/plain": [
       "3.6712001617183403"
      ]
     },
     "execution_count": 116,
     "metadata": {},
     "output_type": "execute_result"
    }
   ],
   "source": [
    "rmse4_train=np.sqrt(mean_squared_error(Y_train,pred4_train))\n",
    "rmse4_train"
   ]
  },
  {
   "cell_type": "code",
   "execution_count": 117,
   "metadata": {},
   "outputs": [
    {
     "data": {
      "text/plain": [
       "4.040072835165578"
      ]
     },
     "execution_count": 117,
     "metadata": {},
     "output_type": "execute_result"
    }
   ],
   "source": [
    "rmse4_test=np.sqrt(mean_squared_error(Y_test,pred4_test))\n",
    "rmse4_test"
   ]
  },
  {
   "cell_type": "code",
   "execution_count": 118,
   "metadata": {},
   "outputs": [
    {
     "data": {
      "text/plain": [
       "0.09455688937301843"
      ]
     },
     "execution_count": 118,
     "metadata": {},
     "output_type": "execute_result"
    }
   ],
   "source": [
    "r2_score_train4=r2_score(Y_train,pred4_train)\n",
    "r2_score_train4"
   ]
  },
  {
   "cell_type": "code",
   "execution_count": 119,
   "metadata": {},
   "outputs": [
    {
     "data": {
      "text/plain": [
       "0.0015914768898626086"
      ]
     },
     "execution_count": 119,
     "metadata": {},
     "output_type": "execute_result"
    }
   ],
   "source": [
    "r2_score_test4=r2_score(Y_test,pred4_test)\n",
    "r2_score_test4"
   ]
  },
  {
   "cell_type": "markdown",
   "metadata": {},
   "source": [
    "APPLYING BOOSTING TECHNIQUES:\n",
    "1. Gradient Boosting\n"
   ]
  },
  {
   "cell_type": "code",
   "execution_count": 120,
   "metadata": {},
   "outputs": [],
   "source": [
    "from sklearn.ensemble import GradientBoostingRegressor\n"
   ]
  },
  {
   "cell_type": "code",
   "execution_count": 121,
   "metadata": {},
   "outputs": [],
   "source": [
    "GB_model=GradientBoostingRegressor().fit(X_train,Y_train)"
   ]
  },
  {
   "cell_type": "code",
   "execution_count": 122,
   "metadata": {},
   "outputs": [
    {
     "data": {
      "text/plain": [
       "GradientBoostingRegressor(alpha=0.9, criterion='friedman_mse', init=None,\n",
       "                          learning_rate=0.1, loss='ls', max_depth=3,\n",
       "                          max_features=None, max_leaf_nodes=None,\n",
       "                          min_impurity_decrease=0.0, min_impurity_split=None,\n",
       "                          min_samples_leaf=1, min_samples_split=2,\n",
       "                          min_weight_fraction_leaf=0.0, n_estimators=100,\n",
       "                          n_iter_no_change=None, presort='auto',\n",
       "                          random_state=None, subsample=1.0, tol=0.0001,\n",
       "                          validation_fraction=0.1, verbose=0, warm_start=False)"
      ]
     },
     "execution_count": 122,
     "metadata": {},
     "output_type": "execute_result"
    }
   ],
   "source": [
    "GB_model"
   ]
  },
  {
   "cell_type": "code",
   "execution_count": 123,
   "metadata": {},
   "outputs": [],
   "source": [
    "pred5_train=GB_model.predict(X_train)\n",
    "pred5_test=GB_model.predict(X_test)"
   ]
  },
  {
   "cell_type": "code",
   "execution_count": 124,
   "metadata": {},
   "outputs": [
    {
     "data": {
      "text/plain": [
       "1.1523003183047091"
      ]
     },
     "execution_count": 124,
     "metadata": {},
     "output_type": "execute_result"
    }
   ],
   "source": [
    "rmse5_train=np.sqrt(mean_squared_error(Y_train,pred5_train))\n",
    "rmse5_train"
   ]
  },
  {
   "cell_type": "code",
   "execution_count": 125,
   "metadata": {},
   "outputs": [
    {
     "data": {
      "text/plain": [
       "2.308644468564285"
      ]
     },
     "execution_count": 125,
     "metadata": {},
     "output_type": "execute_result"
    }
   ],
   "source": [
    "rmse5_test=np.sqrt(mean_squared_error(Y_test,pred5_test))\n",
    "rmse5_test"
   ]
  },
  {
   "cell_type": "markdown",
   "metadata": {},
   "source": [
    "2. XGBOOST"
   ]
  },
  {
   "cell_type": "code",
   "execution_count": 132,
   "metadata": {},
   "outputs": [],
   "source": [
    "from xgboost import XGBRegressor"
   ]
  },
  {
   "cell_type": "code",
   "execution_count": 134,
   "metadata": {},
   "outputs": [],
   "source": [
    "model_XG=XGBRegressor().fit(X_train,Y_train)"
   ]
  },
  {
   "cell_type": "code",
   "execution_count": 135,
   "metadata": {},
   "outputs": [
    {
     "data": {
      "text/plain": [
       "XGBRegressor(base_score=0.5, booster=None, colsample_bylevel=1,\n",
       "             colsample_bynode=1, colsample_bytree=1, gamma=0, gpu_id=-1,\n",
       "             importance_type='gain', interaction_constraints=None,\n",
       "             learning_rate=0.300000012, max_delta_step=0, max_depth=6,\n",
       "             min_child_weight=1, missing=nan, monotone_constraints=None,\n",
       "             n_estimators=100, n_jobs=0, num_parallel_tree=1,\n",
       "             objective='reg:squarederror', random_state=0, reg_alpha=0,\n",
       "             reg_lambda=1, scale_pos_weight=1, subsample=1, tree_method=None,\n",
       "             validate_parameters=False, verbosity=None)"
      ]
     },
     "execution_count": 135,
     "metadata": {},
     "output_type": "execute_result"
    }
   ],
   "source": [
    "model_XG"
   ]
  },
  {
   "cell_type": "code",
   "execution_count": 137,
   "metadata": {},
   "outputs": [],
   "source": [
    "predXGB_train=model_XG.predict(X_train)\n",
    "predXGB_test=model_XG.predict(X_test)"
   ]
  },
  {
   "cell_type": "code",
   "execution_count": 138,
   "metadata": {},
   "outputs": [
    {
     "data": {
      "text/plain": [
       "0.008639096246025244"
      ]
     },
     "execution_count": 138,
     "metadata": {},
     "output_type": "execute_result"
    }
   ],
   "source": [
    "rmseXGB_train=np.sqrt(mean_squared_error(Y_train,predXGB_train))\n",
    "rmseXGB_train"
   ]
  },
  {
   "cell_type": "code",
   "execution_count": 141,
   "metadata": {},
   "outputs": [
    {
     "data": {
      "text/plain": [
       "2.42176989228414"
      ]
     },
     "execution_count": 141,
     "metadata": {},
     "output_type": "execute_result"
    }
   ],
   "source": [
    "rmseXGB_test=np.sqrt(mean_squared_error(Y_test,predXGB_test))\n",
    "rmseXGB_test"
   ]
  },
  {
   "cell_type": "markdown",
   "metadata": {},
   "source": [
    "3. XGBOOST with Hyperparameter optimization using RandomizedSearchCV"
   ]
  },
  {
   "cell_type": "code",
   "execution_count": 142,
   "metadata": {},
   "outputs": [],
   "source": [
    "from sklearn.model_selection import RandomizedSearchCV,GridSearchCV"
   ]
  },
  {
   "cell_type": "code",
   "execution_count": 148,
   "metadata": {},
   "outputs": [
    {
     "data": {
      "text/plain": [
       "667     5.3\n",
       "419     4.5\n",
       "215    14.1\n",
       "482     8.9\n",
       "746     8.9\n",
       "Name: fare_amount, dtype: float64"
      ]
     },
     "execution_count": 148,
     "metadata": {},
     "output_type": "execute_result"
    }
   ],
   "source": [
    "Y_train.head()"
   ]
  },
  {
   "cell_type": "code",
   "execution_count": 158,
   "metadata": {},
   "outputs": [],
   "source": [
    "params={\n",
    "    \"learning_rate\":[0.05,0.10,0.15,0.20,0.25,0.30],\n",
    "    \"max_depth\":[3,4,5,6,7,8,9,10,12,15],\n",
    "    \"min_child_weight\":[1,3,5,7],\n",
    "    \"gamma\":[0.0,0.1,0.2,0.3,0.4,0.5],\n",
    "    \"colsample_bytree\":[0.3,0.4,0.5,0.7]\n",
    "    \n",
    "}"
   ]
  },
  {
   "cell_type": "code",
   "execution_count": 159,
   "metadata": {},
   "outputs": [
    {
     "name": "stdout",
     "output_type": "stream",
     "text": [
      "Fitting 5 folds for each of 5 candidates, totalling 25 fits\n"
     ]
    },
    {
     "name": "stderr",
     "output_type": "stream",
     "text": [
      "[Parallel(n_jobs=-1)]: Using backend LokyBackend with 4 concurrent workers.\n",
      "[Parallel(n_jobs=-1)]: Done  18 out of  25 | elapsed:    0.6s remaining:    0.2s\n",
      "[Parallel(n_jobs=-1)]: Done  25 out of  25 | elapsed:    0.8s finished\n"
     ]
    }
   ],
   "source": [
    "random_search=RandomizedSearchCV(XGBRegressor(),param_distributions=params,n_iter=5,n_jobs=-1,cv=5,verbose=3).fit(X_train,Y_train)"
   ]
  },
  {
   "cell_type": "code",
   "execution_count": 161,
   "metadata": {},
   "outputs": [
    {
     "data": {
      "text/plain": [
       "{'min_child_weight': 3,\n",
       " 'max_depth': 4,\n",
       " 'learning_rate': 0.15,\n",
       " 'gamma': 0.4,\n",
       " 'colsample_bytree': 0.7}"
      ]
     },
     "execution_count": 161,
     "metadata": {},
     "output_type": "execute_result"
    }
   ],
   "source": [
    "random_search.best_params_"
   ]
  },
  {
   "cell_type": "code",
   "execution_count": 162,
   "metadata": {},
   "outputs": [
    {
     "data": {
      "text/plain": [
       "XGBRegressor(base_score=0.5, booster=None, colsample_bylevel=1,\n",
       "             colsample_bynode=1, colsample_bytree=0.7, gamma=0.4, gpu_id=-1,\n",
       "             importance_type='gain', interaction_constraints=None,\n",
       "             learning_rate=0.15, max_delta_step=0, max_depth=4,\n",
       "             min_child_weight=3, missing=nan, monotone_constraints=None,\n",
       "             n_estimators=100, n_jobs=0, num_parallel_tree=1,\n",
       "             objective='reg:squarederror', random_state=0, reg_alpha=0,\n",
       "             reg_lambda=1, scale_pos_weight=1, subsample=1, tree_method=None,\n",
       "             validate_parameters=False, verbosity=None)"
      ]
     },
     "execution_count": 162,
     "metadata": {},
     "output_type": "execute_result"
    }
   ],
   "source": [
    "random_search.best_estimator_"
   ]
  },
  {
   "cell_type": "code",
   "execution_count": 164,
   "metadata": {},
   "outputs": [],
   "source": [
    "model_XG1=XGBRegressor(base_score=0.5, booster=None, colsample_bylevel=1,\n",
    "             colsample_bynode=1, colsample_bytree=0.7, gamma=0.4, gpu_id=-1,\n",
    "             importance_type='gain', interaction_constraints=None,\n",
    "             learning_rate=0.15, max_delta_step=0, max_depth=4,\n",
    "             min_child_weight=3,monotone_constraints=None,\n",
    "             n_estimators=100, n_jobs=0, num_parallel_tree=1,\n",
    "             objective='reg:squarederror', random_state=0, reg_alpha=0,\n",
    "             reg_lambda=1, scale_pos_weight=1, subsample=1, tree_method=None,\n",
    "             validate_parameters=False, verbosity=None).fit(X_train,Y_train)"
   ]
  },
  {
   "cell_type": "code",
   "execution_count": 165,
   "metadata": {},
   "outputs": [
    {
     "data": {
      "text/plain": [
       "XGBRegressor(base_score=0.5, booster=None, colsample_bylevel=1,\n",
       "             colsample_bynode=1, colsample_bytree=0.7, gamma=0.4, gpu_id=-1,\n",
       "             importance_type='gain', interaction_constraints=None,\n",
       "             learning_rate=0.15, max_delta_step=0, max_depth=4,\n",
       "             min_child_weight=3, missing=nan, monotone_constraints=None,\n",
       "             n_estimators=100, n_jobs=0, num_parallel_tree=1,\n",
       "             objective='reg:squarederror', random_state=0, reg_alpha=0,\n",
       "             reg_lambda=1, scale_pos_weight=1, subsample=1, tree_method=None,\n",
       "             validate_parameters=False, verbosity=None)"
      ]
     },
     "execution_count": 165,
     "metadata": {},
     "output_type": "execute_result"
    }
   ],
   "source": [
    "model_XG1"
   ]
  },
  {
   "cell_type": "code",
   "execution_count": 166,
   "metadata": {},
   "outputs": [],
   "source": [
    "predXGB1_train=model_XG1.predict(X_train)\n",
    "predXGB1_test=model_XG1.predict(X_test)"
   ]
  },
  {
   "cell_type": "code",
   "execution_count": 167,
   "metadata": {},
   "outputs": [
    {
     "data": {
      "text/plain": [
       "0.6697517184819077"
      ]
     },
     "execution_count": 167,
     "metadata": {},
     "output_type": "execute_result"
    }
   ],
   "source": [
    "rmseXGB1_train=np.sqrt(mean_squared_error(Y_train,predXGB1_train))\n",
    "rmseXGB1_train"
   ]
  },
  {
   "cell_type": "code",
   "execution_count": 170,
   "metadata": {},
   "outputs": [
    {
     "data": {
      "text/plain": [
       "2.3415084793018828"
      ]
     },
     "execution_count": 170,
     "metadata": {},
     "output_type": "execute_result"
    }
   ],
   "source": [
    "rmseXGB1_test=np.sqrt(mean_squared_error(Y_test,predXGB1_test))\n",
    "rmseXGB1_test"
   ]
  },
  {
   "cell_type": "code",
   "execution_count": 171,
   "metadata": {},
   "outputs": [
    {
     "data": {
      "text/html": [
       "<div>\n",
       "<style scoped>\n",
       "    .dataframe tbody tr th:only-of-type {\n",
       "        vertical-align: middle;\n",
       "    }\n",
       "\n",
       "    .dataframe tbody tr th {\n",
       "        vertical-align: top;\n",
       "    }\n",
       "\n",
       "    .dataframe thead th {\n",
       "        text-align: right;\n",
       "    }\n",
       "</style>\n",
       "<table border=\"1\" class=\"dataframe\">\n",
       "  <thead>\n",
       "    <tr style=\"text-align: right;\">\n",
       "      <th></th>\n",
       "      <th>fare_amount</th>\n",
       "      <th>passenger_count</th>\n",
       "      <th>Year</th>\n",
       "      <th>Month</th>\n",
       "      <th>Date</th>\n",
       "      <th>Day</th>\n",
       "      <th>Hour</th>\n",
       "      <th>Minute</th>\n",
       "      <th>distance(in kms)</th>\n",
       "    </tr>\n",
       "  </thead>\n",
       "  <tbody>\n",
       "    <tr>\n",
       "      <th>119</th>\n",
       "      <td>4.1</td>\n",
       "      <td>1</td>\n",
       "      <td>2009</td>\n",
       "      <td>8</td>\n",
       "      <td>7</td>\n",
       "      <td>4</td>\n",
       "      <td>13</td>\n",
       "      <td>41</td>\n",
       "      <td>0.837098</td>\n",
       "    </tr>\n",
       "    <tr>\n",
       "      <th>538</th>\n",
       "      <td>12.5</td>\n",
       "      <td>1</td>\n",
       "      <td>2011</td>\n",
       "      <td>1</td>\n",
       "      <td>23</td>\n",
       "      <td>6</td>\n",
       "      <td>14</td>\n",
       "      <td>3</td>\n",
       "      <td>1.745055</td>\n",
       "    </tr>\n",
       "    <tr>\n",
       "      <th>668</th>\n",
       "      <td>17.7</td>\n",
       "      <td>1</td>\n",
       "      <td>2009</td>\n",
       "      <td>9</td>\n",
       "      <td>19</td>\n",
       "      <td>5</td>\n",
       "      <td>1</td>\n",
       "      <td>25</td>\n",
       "      <td>1.957667</td>\n",
       "    </tr>\n",
       "    <tr>\n",
       "      <th>594</th>\n",
       "      <td>9.5</td>\n",
       "      <td>1</td>\n",
       "      <td>2015</td>\n",
       "      <td>6</td>\n",
       "      <td>9</td>\n",
       "      <td>1</td>\n",
       "      <td>9</td>\n",
       "      <td>49</td>\n",
       "      <td>1.199934</td>\n",
       "    </tr>\n",
       "    <tr>\n",
       "      <th>242</th>\n",
       "      <td>7.5</td>\n",
       "      <td>1</td>\n",
       "      <td>2014</td>\n",
       "      <td>11</td>\n",
       "      <td>3</td>\n",
       "      <td>0</td>\n",
       "      <td>21</td>\n",
       "      <td>5</td>\n",
       "      <td>1.195337</td>\n",
       "    </tr>\n",
       "  </tbody>\n",
       "</table>\n",
       "</div>"
      ],
      "text/plain": [
       "     fare_amount  passenger_count  Year  Month  Date  Day  Hour  Minute  \\\n",
       "119          4.1                1  2009      8     7    4    13      41   \n",
       "538         12.5                1  2011      1    23    6    14       3   \n",
       "668         17.7                1  2009      9    19    5     1      25   \n",
       "594          9.5                1  2015      6     9    1     9      49   \n",
       "242          7.5                1  2014     11     3    0    21       5   \n",
       "\n",
       "     distance(in kms)  \n",
       "119          0.837098  \n",
       "538          1.745055  \n",
       "668          1.957667  \n",
       "594          1.199934  \n",
       "242          1.195337  "
      ]
     },
     "execution_count": 171,
     "metadata": {},
     "output_type": "execute_result"
    }
   ],
   "source": [
    "data_new.head()"
   ]
  },
  {
   "cell_type": "markdown",
   "metadata": {},
   "source": [
    "FINAL STEP: Predicting Cab fare from the test dataset"
   ]
  },
  {
   "cell_type": "code",
   "execution_count": 172,
   "metadata": {},
   "outputs": [],
   "source": [
    "real_test=pd.read_csv(r\"C:/Users/.hp/Desktop/EdWisor/Datasets/CFPtest.csv\",sep=\",\")"
   ]
  },
  {
   "cell_type": "code",
   "execution_count": 174,
   "metadata": {},
   "outputs": [],
   "source": [
    "predXGB1_test=model_XG1.predict(X_test)"
   ]
  },
  {
   "cell_type": "code",
   "execution_count": 175,
   "metadata": {},
   "outputs": [],
   "source": [
    "X_test['Fare_Amount']=predXGB_test"
   ]
  },
  {
   "cell_type": "code",
   "execution_count": 176,
   "metadata": {},
   "outputs": [
    {
     "data": {
      "text/html": [
       "<div>\n",
       "<style scoped>\n",
       "    .dataframe tbody tr th:only-of-type {\n",
       "        vertical-align: middle;\n",
       "    }\n",
       "\n",
       "    .dataframe tbody tr th {\n",
       "        vertical-align: top;\n",
       "    }\n",
       "\n",
       "    .dataframe thead th {\n",
       "        text-align: right;\n",
       "    }\n",
       "</style>\n",
       "<table border=\"1\" class=\"dataframe\">\n",
       "  <thead>\n",
       "    <tr style=\"text-align: right;\">\n",
       "      <th></th>\n",
       "      <th>passenger_count</th>\n",
       "      <th>Year</th>\n",
       "      <th>Month</th>\n",
       "      <th>Date</th>\n",
       "      <th>Day</th>\n",
       "      <th>Hour</th>\n",
       "      <th>Minute</th>\n",
       "      <th>distance(in kms)</th>\n",
       "      <th>Fare_Amount</th>\n",
       "    </tr>\n",
       "  </thead>\n",
       "  <tbody>\n",
       "    <tr>\n",
       "      <th>532</th>\n",
       "      <td>1</td>\n",
       "      <td>2011</td>\n",
       "      <td>6</td>\n",
       "      <td>18</td>\n",
       "      <td>5</td>\n",
       "      <td>21</td>\n",
       "      <td>20</td>\n",
       "      <td>1.143842</td>\n",
       "      <td>6.995225</td>\n",
       "    </tr>\n",
       "    <tr>\n",
       "      <th>326</th>\n",
       "      <td>1</td>\n",
       "      <td>2011</td>\n",
       "      <td>10</td>\n",
       "      <td>7</td>\n",
       "      <td>4</td>\n",
       "      <td>7</td>\n",
       "      <td>10</td>\n",
       "      <td>0.882670</td>\n",
       "      <td>5.786912</td>\n",
       "    </tr>\n",
       "    <tr>\n",
       "      <th>437</th>\n",
       "      <td>1</td>\n",
       "      <td>2010</td>\n",
       "      <td>2</td>\n",
       "      <td>12</td>\n",
       "      <td>4</td>\n",
       "      <td>11</td>\n",
       "      <td>34</td>\n",
       "      <td>0.521478</td>\n",
       "      <td>3.988924</td>\n",
       "    </tr>\n",
       "    <tr>\n",
       "      <th>779</th>\n",
       "      <td>1</td>\n",
       "      <td>2013</td>\n",
       "      <td>11</td>\n",
       "      <td>21</td>\n",
       "      <td>3</td>\n",
       "      <td>10</td>\n",
       "      <td>48</td>\n",
       "      <td>1.377033</td>\n",
       "      <td>11.515099</td>\n",
       "    </tr>\n",
       "    <tr>\n",
       "      <th>729</th>\n",
       "      <td>1</td>\n",
       "      <td>2012</td>\n",
       "      <td>2</td>\n",
       "      <td>10</td>\n",
       "      <td>4</td>\n",
       "      <td>6</td>\n",
       "      <td>28</td>\n",
       "      <td>1.103126</td>\n",
       "      <td>6.450745</td>\n",
       "    </tr>\n",
       "  </tbody>\n",
       "</table>\n",
       "</div>"
      ],
      "text/plain": [
       "     passenger_count  Year  Month  Date  Day  Hour  Minute  distance(in kms)  \\\n",
       "532                1  2011      6    18    5    21      20          1.143842   \n",
       "326                1  2011     10     7    4     7      10          0.882670   \n",
       "437                1  2010      2    12    4    11      34          0.521478   \n",
       "779                1  2013     11    21    3    10      48          1.377033   \n",
       "729                1  2012      2    10    4     6      28          1.103126   \n",
       "\n",
       "     Fare_Amount  \n",
       "532     6.995225  \n",
       "326     5.786912  \n",
       "437     3.988924  \n",
       "779    11.515099  \n",
       "729     6.450745  "
      ]
     },
     "execution_count": 176,
     "metadata": {},
     "output_type": "execute_result"
    }
   ],
   "source": [
    "X_test.head()"
   ]
  },
  {
   "cell_type": "code",
   "execution_count": 179,
   "metadata": {},
   "outputs": [],
   "source": [
    "X_test.to_csv('C:/Users/.hp/Desktop/EdWisor/Datasets/Final_CFP1.csv', index=False)"
   ]
  },
  {
   "cell_type": "code",
   "execution_count": null,
   "metadata": {},
   "outputs": [],
   "source": []
  }
 ],
 "metadata": {
  "kernelspec": {
   "display_name": "Python 3",
   "language": "python",
   "name": "python3"
  },
  "language_info": {
   "codemirror_mode": {
    "name": "ipython",
    "version": 3
   },
   "file_extension": ".py",
   "mimetype": "text/x-python",
   "name": "python",
   "nbconvert_exporter": "python",
   "pygments_lexer": "ipython3",
   "version": "3.7.3"
  }
 },
 "nbformat": 4,
 "nbformat_minor": 2
}
